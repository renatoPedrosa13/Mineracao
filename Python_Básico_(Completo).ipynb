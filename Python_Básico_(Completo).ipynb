{
  "cells": [
    {
      "cell_type": "markdown",
      "metadata": {
        "id": "sPwRp_0xEsSH"
      },
      "source": [
        "# Python Básico"
      ]
    },
    {
      "cell_type": "markdown",
      "metadata": {
        "id": "KWQKRM3-EsSJ"
      },
      "source": [
        "**OBJETIVOS**: Ensinar o básico da linguagem python para o curso"
      ]
    },
    {
      "cell_type": "markdown",
      "metadata": {
        "id": "n1TQWeDjEsSK"
      },
      "source": [
        "---"
      ]
    },
    {
      "cell_type": "markdown",
      "metadata": {
        "id": "GH6UMzioEsSK"
      },
      "source": [
        "## Introdução"
      ]
    },
    {
      "cell_type": "markdown",
      "metadata": {
        "id": "4Uqt7nykEsSL"
      },
      "source": [
        "### Variáveis"
      ]
    },
    {
      "cell_type": "markdown",
      "metadata": {
        "id": "tjftd8e3EsSL"
      },
      "source": [
        "Em qualquer linguagem de programação é crucial saber trabalhar com variáveis. Elas são estruturas cujo objetivo é armazenar informações temporárias do programa na memória RAM.\n",
        "\n",
        "Em python, a sintaxe para se criar uma variável é simples:"
      ]
    },
    {
      "cell_type": "code",
      "execution_count": null,
      "metadata": {
        "ExecuteTime": {
          "end_time": "2022-01-16T17:01:11.079820Z",
          "start_time": "2022-01-16T17:01:11.075860Z"
        },
        "id": "df4T2tWpEsSL"
      },
      "outputs": [],
      "source": [
        "a = 1"
      ]
    },
    {
      "cell_type": "markdown",
      "metadata": {
        "id": "kC5s5HRcEsSM"
      },
      "source": [
        "Ao dizer a = 1, estamos falando: \"Por favor, armazene o valor de 1 a variável cujo nome será 'a'\". Desta forma o sinal '=' em Python é o sinal de atribuição."
      ]
    },
    {
      "cell_type": "markdown",
      "metadata": {
        "id": "xUFNv492EsSN"
      },
      "source": [
        "Há, é claro, regras para se criar um nome de uma variável, sendo elas:\n",
        "1. Não pode começar com um número\n",
        "2. Não pode conter caracter especial (\",\", \"´\", \"/\", ...), mas pode ter acentos (á, é, í, ...) e \"_\"\n",
        "3. Não pode ter espaços no nome"
      ]
    },
    {
      "cell_type": "code",
      "execution_count": null,
      "metadata": {
        "ExecuteTime": {
          "end_time": "2022-01-16T17:01:32.369450Z",
          "start_time": "2022-01-16T17:01:32.365577Z"
        },
        "id": "kzDUY2IhEsSO",
        "outputId": "669d1eb1-a58f-49c2-c68e-3ac3a43e3768"
      },
      "outputs": [
        {
          "ename": "SyntaxError",
          "evalue": "invalid syntax (3102068389.py, line 1)",
          "output_type": "error",
          "traceback": [
            "\u001b[1;36m  Input \u001b[1;32mIn [2]\u001b[1;36m\u001b[0m\n\u001b[1;33m    12abc = 1\u001b[0m\n\u001b[1;37m      ^\u001b[0m\n\u001b[1;31mSyntaxError\u001b[0m\u001b[1;31m:\u001b[0m invalid syntax\n"
          ]
        }
      ],
      "source": [
        "12abc = 1"
      ]
    },
    {
      "cell_type": "code",
      "execution_count": null,
      "metadata": {
        "ExecuteTime": {
          "end_time": "2022-01-16T17:01:39.793230Z",
          "start_time": "2022-01-16T17:01:39.788308Z"
        },
        "id": "LQV8NjCkTUk8",
        "outputId": "8f16f68c-4960-4ff9-908a-05bdc7107cd7"
      },
      "outputs": [
        {
          "ename": "SyntaxError",
          "evalue": "invalid syntax (2591305403.py, line 1)",
          "output_type": "error",
          "traceback": [
            "\u001b[1;36m  Input \u001b[1;32mIn [3]\u001b[1;36m\u001b[0m\n\u001b[1;33m    a b c = 1\u001b[0m\n\u001b[1;37m      ^\u001b[0m\n\u001b[1;31mSyntaxError\u001b[0m\u001b[1;31m:\u001b[0m invalid syntax\n"
          ]
        }
      ],
      "source": [
        "a b c = 1"
      ]
    },
    {
      "cell_type": "code",
      "execution_count": null,
      "metadata": {
        "ExecuteTime": {
          "end_time": "2022-01-16T17:01:44.944869Z",
          "start_time": "2022-01-16T17:01:44.939952Z"
        },
        "id": "tvshP8OuTUk8",
        "outputId": "97dfc5a9-b83a-43eb-d191-7b872823a7d0"
      },
      "outputs": [
        {
          "ename": "SyntaxError",
          "evalue": "invalid syntax (3703583066.py, line 1)",
          "output_type": "error",
          "traceback": [
            "\u001b[1;36m  Input \u001b[1;32mIn [4]\u001b[1;36m\u001b[0m\n\u001b[1;33m    a(=, 1)\u001b[0m\n\u001b[1;37m      ^\u001b[0m\n\u001b[1;31mSyntaxError\u001b[0m\u001b[1;31m:\u001b[0m invalid syntax\n"
          ]
        }
      ],
      "source": [
        "/a = 1"
      ]
    },
    {
      "cell_type": "code",
      "execution_count": null,
      "metadata": {
        "ExecuteTime": {
          "end_time": "2022-01-16T17:01:51.183751Z",
          "start_time": "2022-01-16T17:01:51.179802Z"
        },
        "id": "1TpfGXGcTUk8",
        "outputId": "bf28ef2d-0024-4f6a-8cf6-94fc23103efe"
      },
      "outputs": [
        {
          "ename": "SyntaxError",
          "evalue": "cannot assign to operator (3141892179.py, line 1)",
          "output_type": "error",
          "traceback": [
            "\u001b[1;36m  Input \u001b[1;32mIn [5]\u001b[1;36m\u001b[0m\n\u001b[1;33m    a-b-c = 1\u001b[0m\n\u001b[1;37m    ^\u001b[0m\n\u001b[1;31mSyntaxError\u001b[0m\u001b[1;31m:\u001b[0m cannot assign to operator\n"
          ]
        }
      ],
      "source": [
        "a-b-c = 1"
      ]
    },
    {
      "cell_type": "code",
      "execution_count": null,
      "metadata": {
        "ExecuteTime": {
          "end_time": "2022-01-16T17:01:56.431408Z",
          "start_time": "2022-01-16T17:01:56.427543Z"
        },
        "id": "l-cvFTGiTUk9"
      },
      "outputs": [],
      "source": [
        "a_b_c = 1"
      ]
    },
    {
      "cell_type": "markdown",
      "metadata": {
        "id": "gBoQWLYjEsSO"
      },
      "source": [
        "Você ainda pode criar múltiplas variáveis numa mesma linha"
      ]
    },
    {
      "cell_type": "code",
      "execution_count": null,
      "metadata": {
        "ExecuteTime": {
          "end_time": "2022-01-16T17:02:57.200968Z",
          "start_time": "2022-01-16T17:02:57.197114Z"
        },
        "id": "hIIiOAZCEsSO"
      },
      "outputs": [],
      "source": [
        "a, b, c = 1, 2, 3"
      ]
    },
    {
      "cell_type": "markdown",
      "metadata": {
        "id": "Jiqf4BevEsSO"
      },
      "source": [
        "Nós podemos utilizar o console do jupyter para acompanhar os valores de variáveis e nós podemos substituir os valores das mesmas"
      ]
    },
    {
      "cell_type": "code",
      "execution_count": null,
      "metadata": {
        "ExecuteTime": {
          "end_time": "2022-01-16T17:03:20.432089Z",
          "start_time": "2022-01-16T17:03:20.428103Z"
        },
        "id": "RHDYKoreEsSP"
      },
      "outputs": [],
      "source": [
        "a = 2"
      ]
    },
    {
      "cell_type": "code",
      "execution_count": null,
      "metadata": {
        "ExecuteTime": {
          "end_time": "2022-01-16T17:03:22.736651Z",
          "start_time": "2022-01-16T17:03:22.731880Z"
        },
        "id": "_mIbHiz6TUk-",
        "outputId": "c844171e-8a86-4536-d895-0f17f81f7f04"
      },
      "outputs": [
        {
          "data": {
            "text/plain": [
              "2"
            ]
          },
          "execution_count": 10,
          "metadata": {},
          "output_type": "execute_result"
        }
      ],
      "source": [
        "a"
      ]
    },
    {
      "cell_type": "code",
      "execution_count": null,
      "metadata": {
        "ExecuteTime": {
          "end_time": "2022-01-16T17:03:25.871346Z",
          "start_time": "2022-01-16T17:03:25.867445Z"
        },
        "id": "m8E7Ce03TUk-"
      },
      "outputs": [],
      "source": [
        "a = 1"
      ]
    },
    {
      "cell_type": "code",
      "execution_count": null,
      "metadata": {
        "ExecuteTime": {
          "end_time": "2022-01-16T17:03:27.472457Z",
          "start_time": "2022-01-16T17:03:27.467945Z"
        },
        "id": "wdBXO8ZKTUk_",
        "outputId": "32c69b23-1649-4e10-d829-1ba83be1e575"
      },
      "outputs": [
        {
          "data": {
            "text/plain": [
              "1"
            ]
          },
          "execution_count": 12,
          "metadata": {},
          "output_type": "execute_result"
        }
      ],
      "source": [
        "a"
      ]
    },
    {
      "cell_type": "markdown",
      "metadata": {
        "id": "hGWjvQU7EsSP"
      },
      "source": [
        "As variáveis em Python possuem tipos. E nós veremos ao longo desse notebook os principais tipos utilizados. Mas de longe o tipo mais comum de variáveis que trabalhamos são as numéricas: Inteiras, Reais e Complexas"
      ]
    },
    {
      "cell_type": "code",
      "execution_count": null,
      "metadata": {
        "ExecuteTime": {
          "end_time": "2022-01-16T17:04:11.539094Z",
          "start_time": "2022-01-16T17:04:11.533104Z"
        },
        "id": "ZXGtjPuDEsSP",
        "outputId": "05fb8e97-49bd-4fdc-c432-601619e19b43"
      },
      "outputs": [
        {
          "data": {
            "text/plain": [
              "int"
            ]
          },
          "execution_count": 13,
          "metadata": {},
          "output_type": "execute_result"
        }
      ],
      "source": [
        "type(a)"
      ]
    },
    {
      "cell_type": "markdown",
      "metadata": {
        "id": "S0ZvDMKGEsSP"
      },
      "source": [
        "**NOTA**: Em Python nós temos as \"funções padrões da linguagem\" que são expressões como o \"type\" acima que podem ser utilizados livremente. Note que a cor do texto muda e devemos ter cuidado para não dar nomes de variáveis que sejam nomes desses \"nomes reservados\""
      ]
    },
    {
      "cell_type": "markdown",
      "metadata": {
        "id": "7ZSSFpfAEsSP"
      },
      "source": [
        "---"
      ]
    },
    {
      "cell_type": "markdown",
      "metadata": {
        "id": "GXf67CdtEsSQ"
      },
      "source": [
        "### Inteiros"
      ]
    },
    {
      "cell_type": "markdown",
      "metadata": {
        "id": "9I772n3MEsSQ"
      },
      "source": [
        "Inteiros são os tipos mais comuns de variáveis podendo ir de $-\\infty$ a $+\\infty$, mas que não são representados com casas decimais:\n",
        "\n",
        "-100, -10, -3, -2, -1, 0, 1, 2, 3, ..."
      ]
    },
    {
      "cell_type": "code",
      "execution_count": null,
      "metadata": {
        "ExecuteTime": {
          "end_time": "2022-01-16T17:04:48.672459Z",
          "start_time": "2022-01-16T17:04:48.669462Z"
        },
        "id": "_1CsYpNYEsSQ"
      },
      "outputs": [],
      "source": [
        "a = 1\n",
        "b = 2\n",
        "c = -7\n",
        "d = -10000000"
      ]
    },
    {
      "cell_type": "markdown",
      "metadata": {
        "id": "beqYa_VREsSQ"
      },
      "source": [
        "---"
      ]
    },
    {
      "cell_type": "markdown",
      "metadata": {
        "id": "OGvkYKhdEsSQ"
      },
      "source": [
        "### Operações"
      ]
    },
    {
      "cell_type": "markdown",
      "metadata": {
        "id": "u1K_j31FEsSQ"
      },
      "source": [
        "Números inteiros (e variáveis do python em geral) aceitam operações matemáticas"
      ]
    },
    {
      "cell_type": "markdown",
      "metadata": {
        "id": "6gm7LCYyEsSR"
      },
      "source": [
        "**Soma**"
      ]
    },
    {
      "cell_type": "code",
      "execution_count": null,
      "metadata": {
        "ExecuteTime": {
          "end_time": "2022-01-16T17:05:11.681858Z",
          "start_time": "2022-01-16T17:05:11.676912Z"
        },
        "id": "Ln4z0gywEsSR",
        "outputId": "82477fd4-0e91-4eee-b4dd-8ee3b9b6c074"
      },
      "outputs": [
        {
          "data": {
            "text/plain": [
              "2"
            ]
          },
          "execution_count": 15,
          "metadata": {},
          "output_type": "execute_result"
        }
      ],
      "source": [
        "1 + 1"
      ]
    },
    {
      "cell_type": "code",
      "execution_count": null,
      "metadata": {
        "ExecuteTime": {
          "end_time": "2022-01-16T17:05:17.696991Z",
          "start_time": "2022-01-16T17:05:17.692010Z"
        },
        "id": "HK_ccirgTUlB",
        "outputId": "c8483384-29b0-4273-ed83-05ece5befe58"
      },
      "outputs": [
        {
          "data": {
            "text/plain": [
              "3"
            ]
          },
          "execution_count": 16,
          "metadata": {},
          "output_type": "execute_result"
        }
      ],
      "source": [
        "a + b"
      ]
    },
    {
      "cell_type": "code",
      "execution_count": null,
      "metadata": {
        "ExecuteTime": {
          "end_time": "2022-01-16T17:05:31.281101Z",
          "start_time": "2022-01-16T17:05:31.276311Z"
        },
        "id": "6CAfV81XTUlC",
        "outputId": "a3c0114e-f64a-4f39-d20c-6961f1d43796"
      },
      "outputs": [
        {
          "data": {
            "text/plain": [
              "3"
            ]
          },
          "execution_count": 17,
          "metadata": {},
          "output_type": "execute_result"
        }
      ],
      "source": [
        "c = a + b\n",
        "c"
      ]
    },
    {
      "cell_type": "code",
      "execution_count": null,
      "metadata": {
        "ExecuteTime": {
          "end_time": "2022-01-16T17:05:47.535975Z",
          "start_time": "2022-01-16T17:05:47.532005Z"
        },
        "id": "fC5QL2GkTUlC"
      },
      "outputs": [],
      "source": [
        "c = c + b"
      ]
    },
    {
      "cell_type": "code",
      "execution_count": null,
      "metadata": {
        "ExecuteTime": {
          "end_time": "2022-01-16T17:05:49.583924Z",
          "start_time": "2022-01-16T17:05:49.580507Z"
        },
        "id": "wItJ35vGTUlC",
        "outputId": "7253d998-d817-4c7d-8bec-ffacf826f994"
      },
      "outputs": [
        {
          "data": {
            "text/plain": [
              "5"
            ]
          },
          "execution_count": 19,
          "metadata": {},
          "output_type": "execute_result"
        }
      ],
      "source": [
        "c"
      ]
    },
    {
      "cell_type": "code",
      "execution_count": null,
      "metadata": {
        "ExecuteTime": {
          "end_time": "2022-01-16T17:06:05.312178Z",
          "start_time": "2022-01-16T17:06:05.308146Z"
        },
        "id": "nJr2iySbTUlC",
        "outputId": "cb77055a-f9d1-493c-e96a-c3a0ad7f9481"
      },
      "outputs": [
        {
          "data": {
            "text/plain": [
              "7"
            ]
          },
          "execution_count": 20,
          "metadata": {},
          "output_type": "execute_result"
        }
      ],
      "source": [
        "c += b\n",
        "c"
      ]
    },
    {
      "cell_type": "markdown",
      "metadata": {
        "id": "ibAH8guLEsSR"
      },
      "source": [
        "**Subtração**"
      ]
    },
    {
      "cell_type": "code",
      "execution_count": null,
      "metadata": {
        "ExecuteTime": {
          "end_time": "2022-01-16T17:06:14.897332Z",
          "start_time": "2022-01-16T17:06:14.892491Z"
        },
        "id": "Z4WqeZE8EsSR",
        "outputId": "11272a94-a4cd-4891-a1d4-44aa54b93dd5"
      },
      "outputs": [
        {
          "data": {
            "text/plain": [
              "1"
            ]
          },
          "execution_count": 21,
          "metadata": {},
          "output_type": "execute_result"
        }
      ],
      "source": [
        "2 - 1"
      ]
    },
    {
      "cell_type": "code",
      "execution_count": null,
      "metadata": {
        "ExecuteTime": {
          "end_time": "2022-01-16T17:06:18.160769Z",
          "start_time": "2022-01-16T17:06:18.155817Z"
        },
        "id": "kj_18HiDTUlJ",
        "outputId": "11ce7158-748e-4c88-d36d-53e5f5d1febc"
      },
      "outputs": [
        {
          "data": {
            "text/plain": [
              "1"
            ]
          },
          "execution_count": 22,
          "metadata": {},
          "output_type": "execute_result"
        }
      ],
      "source": [
        "b - a"
      ]
    },
    {
      "cell_type": "code",
      "execution_count": null,
      "metadata": {
        "ExecuteTime": {
          "end_time": "2022-01-16T17:06:22.353001Z",
          "start_time": "2022-01-16T17:06:22.348168Z"
        },
        "id": "p9GeOyM5TUlJ",
        "outputId": "b2d48f34-8e7e-43b6-cb2c-723af9ca80df"
      },
      "outputs": [
        {
          "data": {
            "text/plain": [
              "6"
            ]
          },
          "execution_count": 23,
          "metadata": {},
          "output_type": "execute_result"
        }
      ],
      "source": [
        "c -= 1\n",
        "c"
      ]
    },
    {
      "cell_type": "markdown",
      "metadata": {
        "id": "giSdr0RdEsSR"
      },
      "source": [
        "**Multiplicação**"
      ]
    },
    {
      "cell_type": "code",
      "execution_count": null,
      "metadata": {
        "ExecuteTime": {
          "end_time": "2022-01-16T17:06:36.930168Z",
          "start_time": "2022-01-16T17:06:36.925160Z"
        },
        "id": "gTxiLJfXEsSR",
        "outputId": "59cc2266-bb2f-46f5-fe5a-52e4d67c792a"
      },
      "outputs": [
        {
          "data": {
            "text/plain": [
              "6"
            ]
          },
          "execution_count": 24,
          "metadata": {},
          "output_type": "execute_result"
        }
      ],
      "source": [
        "2 * 3"
      ]
    },
    {
      "cell_type": "code",
      "execution_count": null,
      "metadata": {
        "ExecuteTime": {
          "end_time": "2022-01-16T17:06:40.256145Z",
          "start_time": "2022-01-16T17:06:40.252162Z"
        },
        "id": "wL6PKS7hTUlL",
        "outputId": "176db177-c0f3-4b74-dd6f-8ee7d594e3e5"
      },
      "outputs": [
        {
          "data": {
            "text/plain": [
              "2"
            ]
          },
          "execution_count": 25,
          "metadata": {},
          "output_type": "execute_result"
        }
      ],
      "source": [
        "a * b"
      ]
    },
    {
      "cell_type": "code",
      "execution_count": null,
      "metadata": {
        "ExecuteTime": {
          "end_time": "2022-01-16T17:06:46.513529Z",
          "start_time": "2022-01-16T17:06:46.509558Z"
        },
        "id": "Kpx-Y1KRTUlL",
        "outputId": "d99ce59a-e8d1-489f-db13-c7b18fc05a65"
      },
      "outputs": [
        {
          "data": {
            "text/plain": [
              "12"
            ]
          },
          "execution_count": 26,
          "metadata": {},
          "output_type": "execute_result"
        }
      ],
      "source": [
        "c *= 2\n",
        "c"
      ]
    },
    {
      "cell_type": "markdown",
      "metadata": {
        "id": "aRbSn73OEsSR"
      },
      "source": [
        "**Divisão**"
      ]
    },
    {
      "cell_type": "code",
      "execution_count": null,
      "metadata": {
        "ExecuteTime": {
          "end_time": "2022-01-16T17:06:56.224964Z",
          "start_time": "2022-01-16T17:06:56.220175Z"
        },
        "id": "TepOws_qEsSR",
        "outputId": "83e1977b-bd8c-4d04-a3f3-7be49a203d81"
      },
      "outputs": [
        {
          "data": {
            "text/plain": [
              "2.0"
            ]
          },
          "execution_count": 27,
          "metadata": {},
          "output_type": "execute_result"
        }
      ],
      "source": [
        "6 / 3"
      ]
    },
    {
      "cell_type": "code",
      "execution_count": null,
      "metadata": {
        "ExecuteTime": {
          "end_time": "2022-01-16T17:07:01.265545Z",
          "start_time": "2022-01-16T17:07:01.260525Z"
        },
        "id": "6JQrcVAlTUlM",
        "outputId": "9839308f-1e69-478b-a9b9-f83314b41888"
      },
      "outputs": [
        {
          "data": {
            "text/plain": [
              "2.0"
            ]
          },
          "execution_count": 28,
          "metadata": {},
          "output_type": "execute_result"
        }
      ],
      "source": [
        "b / a"
      ]
    },
    {
      "cell_type": "markdown",
      "metadata": {
        "id": "KSwTfWfUEsSR"
      },
      "source": [
        "**Divisão inteira**"
      ]
    },
    {
      "cell_type": "markdown",
      "metadata": {
        "id": "MxFfUtlLEsSS"
      },
      "source": [
        "<img src=\"https://gracianotorrao.files.wordpress.com/2014/10/divisaoi.png\" />"
      ]
    },
    {
      "cell_type": "code",
      "execution_count": null,
      "metadata": {
        "ExecuteTime": {
          "end_time": "2022-01-16T17:08:12.129354Z",
          "start_time": "2022-01-16T17:08:12.125367Z"
        },
        "id": "8-rPOmoAEsSS",
        "outputId": "9685739a-4dc3-45e4-bb08-df57199ef460"
      },
      "outputs": [
        {
          "data": {
            "text/plain": [
              "8"
            ]
          },
          "execution_count": 29,
          "metadata": {},
          "output_type": "execute_result"
        }
      ],
      "source": [
        "17 // 2"
      ]
    },
    {
      "cell_type": "code",
      "execution_count": null,
      "metadata": {
        "ExecuteTime": {
          "end_time": "2022-01-16T17:08:16.800733Z",
          "start_time": "2022-01-16T17:08:16.795779Z"
        },
        "id": "jCGfYaGUTUlN",
        "outputId": "04547767-7597-481f-829e-724b69a23b37"
      },
      "outputs": [
        {
          "data": {
            "text/plain": [
              "8.5"
            ]
          },
          "execution_count": 30,
          "metadata": {},
          "output_type": "execute_result"
        }
      ],
      "source": [
        "17 / 2"
      ]
    },
    {
      "cell_type": "code",
      "execution_count": null,
      "metadata": {
        "ExecuteTime": {
          "end_time": "2022-01-16T17:08:24.049289Z",
          "start_time": "2022-01-16T17:08:24.044341Z"
        },
        "id": "60mwq65zTUlO",
        "outputId": "d9004ae6-21ed-410d-cd8f-d9c0f654db9b"
      },
      "outputs": [
        {
          "data": {
            "text/plain": [
              "2"
            ]
          },
          "execution_count": 31,
          "metadata": {},
          "output_type": "execute_result"
        }
      ],
      "source": [
        "b // a"
      ]
    },
    {
      "cell_type": "code",
      "execution_count": null,
      "metadata": {
        "ExecuteTime": {
          "end_time": "2022-01-16T17:08:33.768398Z",
          "start_time": "2022-01-16T17:08:33.763551Z"
        },
        "id": "n7VKchkbTUlP",
        "outputId": "960de896-f0c8-4d34-bfb6-6123c1e1d506"
      },
      "outputs": [
        {
          "data": {
            "text/plain": [
              "1"
            ]
          },
          "execution_count": 32,
          "metadata": {},
          "output_type": "execute_result"
        }
      ],
      "source": [
        "17 % 2"
      ]
    },
    {
      "cell_type": "code",
      "execution_count": null,
      "metadata": {
        "ExecuteTime": {
          "end_time": "2022-01-16T17:08:38.993510Z",
          "start_time": "2022-01-16T17:08:38.988104Z"
        },
        "id": "MwLtNOh2TUlP",
        "outputId": "11f651e3-7e23-4b40-9dbd-c8507f9d442b"
      },
      "outputs": [
        {
          "data": {
            "text/plain": [
              "0"
            ]
          },
          "execution_count": 33,
          "metadata": {},
          "output_type": "execute_result"
        }
      ],
      "source": [
        "b % a"
      ]
    },
    {
      "cell_type": "markdown",
      "metadata": {
        "id": "9ZTeXl9OEsSS"
      },
      "source": [
        "**Exponencial**"
      ]
    },
    {
      "cell_type": "code",
      "execution_count": null,
      "metadata": {
        "ExecuteTime": {
          "end_time": "2022-01-16T17:08:55.986825Z",
          "start_time": "2022-01-16T17:08:55.980889Z"
        },
        "id": "Oa9g2yE_EsSS",
        "outputId": "25726392-9bea-414e-e54d-d5645a6c9a1d"
      },
      "outputs": [
        {
          "data": {
            "text/plain": [
              "8"
            ]
          },
          "execution_count": 34,
          "metadata": {},
          "output_type": "execute_result"
        }
      ],
      "source": [
        "2 ** 3"
      ]
    },
    {
      "cell_type": "code",
      "execution_count": null,
      "metadata": {
        "ExecuteTime": {
          "end_time": "2022-01-16T17:09:02.689438Z",
          "start_time": "2022-01-16T17:09:02.684478Z"
        },
        "id": "cmdp6F0STUlQ",
        "outputId": "b1de564a-cba7-4fa9-de88-893e8a9ebcd3"
      },
      "outputs": [
        {
          "data": {
            "text/plain": [
              "2"
            ]
          },
          "execution_count": 35,
          "metadata": {},
          "output_type": "execute_result"
        }
      ],
      "source": [
        "b ** a"
      ]
    },
    {
      "cell_type": "markdown",
      "metadata": {
        "id": "N0JUJq_LEsSS"
      },
      "source": [
        "Operações no python seguem a mesma ordem da matemática, e nós podemos utilizar parenteses para determinar a ordem das operações"
      ]
    },
    {
      "cell_type": "code",
      "execution_count": null,
      "metadata": {
        "ExecuteTime": {
          "end_time": "2022-01-16T17:09:41.887949Z",
          "start_time": "2022-01-16T17:09:41.883040Z"
        },
        "id": "Gok3x-a_EsSS",
        "outputId": "1d1961b4-8d7d-4a71-c455-8a60ae2367e3"
      },
      "outputs": [
        {
          "data": {
            "text/plain": [
              "7"
            ]
          },
          "execution_count": 37,
          "metadata": {},
          "output_type": "execute_result"
        }
      ],
      "source": [
        "1 + 2 * 3"
      ]
    },
    {
      "cell_type": "code",
      "execution_count": null,
      "metadata": {
        "ExecuteTime": {
          "end_time": "2022-01-16T17:09:55.775807Z",
          "start_time": "2022-01-16T17:09:55.771819Z"
        },
        "id": "EDv4dqu5TUlR",
        "outputId": "e1e37653-dcca-4bc2-8f3c-734501b5729f"
      },
      "outputs": [
        {
          "data": {
            "text/plain": [
              "9"
            ]
          },
          "execution_count": 38,
          "metadata": {},
          "output_type": "execute_result"
        }
      ],
      "source": [
        "(1 + 2) * 3"
      ]
    },
    {
      "cell_type": "markdown",
      "metadata": {
        "id": "HEc0YYruEsSS"
      },
      "source": [
        "---"
      ]
    },
    {
      "cell_type": "markdown",
      "metadata": {
        "id": "-eiihRKqEsSS"
      },
      "source": [
        "### Comentários"
      ]
    },
    {
      "cell_type": "markdown",
      "metadata": {
        "id": "q8XMbdxwEsSS"
      },
      "source": [
        "Uma parte primordial de todo código é a estrutura de comentários que nos permite explicar o que cada bloco de código está fazendo com linguagem humana, para que terceiros possam entender mais facilmente o que estamos escrevendo.\n",
        "\n",
        "Python apresentar algumas sintaxes para escreve comentários"
      ]
    },
    {
      "cell_type": "markdown",
      "metadata": {
        "id": "QJvs8s5zEsSS"
      },
      "source": [
        "O #"
      ]
    },
    {
      "cell_type": "code",
      "execution_count": null,
      "metadata": {
        "ExecuteTime": {
          "end_time": "2022-01-16T17:11:29.360866Z",
          "start_time": "2022-01-16T17:11:29.357955Z"
        },
        "id": "LHkpH6U0EsST"
      },
      "outputs": [],
      "source": [
        "# isto é um comentário\n",
        "# isto também é um comentário\n",
        "a = 1 # haja comentário meu vingador"
      ]
    },
    {
      "cell_type": "code",
      "execution_count": null,
      "metadata": {
        "ExecuteTime": {
          "end_time": "2022-01-16T17:11:45.970857Z",
          "start_time": "2022-01-16T17:11:45.965925Z"
        },
        "id": "AiBxmPicTUlT",
        "outputId": "e9dcc398-4270-4b01-dbb4-183344092618"
      },
      "outputs": [
        {
          "ename": "SyntaxError",
          "evalue": "invalid syntax (103020762.py, line 1)",
          "output_type": "error",
          "traceback": [
            "\u001b[1;36m  Input \u001b[1;32mIn [42]\u001b[1;36m\u001b[0m\n\u001b[1;33m    a = # mas isto já é estupidez 1\u001b[0m\n\u001b[1;37m        ^\u001b[0m\n\u001b[1;31mSyntaxError\u001b[0m\u001b[1;31m:\u001b[0m invalid syntax\n"
          ]
        }
      ],
      "source": [
        "a = # mas isto já é estupidez 1"
      ]
    },
    {
      "cell_type": "markdown",
      "metadata": {
        "id": "ql_GsmNLEsST"
      },
      "source": [
        "O \"\"\" ou '''"
      ]
    },
    {
      "cell_type": "code",
      "execution_count": null,
      "metadata": {
        "ExecuteTime": {
          "end_time": "2022-01-16T17:13:07.137793Z",
          "start_time": "2022-01-16T17:13:07.132872Z"
        },
        "id": "ycchmjsEEsST"
      },
      "outputs": [],
      "source": [
        "\"\"\"Isto é um comentário\"\"\"\n",
        "a = 1\n",
        "\n",
        "\"\"\"\n",
        "Este é um grande comentário de\n",
        "múltiplas linhas vou até fazer\n",
        "uma dissertação aqui\n",
        "\"\"\"\n",
        "\n",
        "'''\n",
        "Mas eu não preciso me prender as \"\"\" não\n",
        "ein!\n",
        "'''\n",
        "\n",
        "a = \"\"\"Isso\"\"\""
      ]
    },
    {
      "cell_type": "markdown",
      "metadata": {
        "id": "Du74fYaZEsST"
      },
      "source": [
        "---"
      ]
    },
    {
      "cell_type": "markdown",
      "metadata": {
        "id": "rE9MHGR3EsST"
      },
      "source": [
        "### Print e Input"
      ]
    },
    {
      "cell_type": "markdown",
      "metadata": {
        "id": "W-l90YDUEsST"
      },
      "source": [
        "A função print é responsável por imprimir saídas no console de Python. Apesar de não ser muito utilizada dentro do contexto do jupyter essa função é muito usada em códigos tradicionais e na maioria dos ambientes de programação de produção.\n",
        "\n",
        "Para utiliza-la é simples basta chamar"
      ]
    },
    {
      "cell_type": "code",
      "execution_count": null,
      "metadata": {
        "ExecuteTime": {
          "end_time": "2022-01-16T17:13:50.307697Z",
          "start_time": "2022-01-16T17:13:50.302823Z"
        },
        "id": "phFHewmEEsST",
        "outputId": "e060a8bc-e031-4825-c921-bd786cdb7ba2"
      },
      "outputs": [
        {
          "name": "stdout",
          "output_type": "stream",
          "text": [
            "Alguma coisa a ser impressa\n"
          ]
        }
      ],
      "source": [
        "print(\"Alguma coisa a ser impressa\")"
      ]
    },
    {
      "cell_type": "markdown",
      "metadata": {
        "id": "cYZFkkqPEsST"
      },
      "source": [
        "E o conteúdo entre \"\" será colocado no console. Além disso você pode imprimir dados específicos ou dividir suas impressões em vária pedaços utilizando a sintaxe de vírgula"
      ]
    },
    {
      "cell_type": "code",
      "execution_count": null,
      "metadata": {
        "ExecuteTime": {
          "end_time": "2022-01-16T17:15:46.465436Z",
          "start_time": "2022-01-16T17:15:46.460576Z"
        },
        "id": "TgApZdotEsST",
        "outputId": "3fea09b3-5b8c-4d1d-a6df-2a92afd314e8"
      },
      "outputs": [
        {
          "name": "stdout",
          "output_type": "stream",
          "text": [
            "O valor de a é 1\n",
            "O valor de b é 2\n",
            "O valor de a + b é 3\n",
            "Olá mundo 1 cruel\n"
          ]
        }
      ],
      "source": [
        "a = 1\n",
        "b = 2\n",
        "print(\"O valor de a é\", a)\n",
        "print(\"O valor de b é\", b)\n",
        "print(\"O valor de a + b é\", a + b)\n",
        "print(\"Olá\", \"mundo\", a, \"cruel\")"
      ]
    },
    {
      "cell_type": "markdown",
      "metadata": {
        "id": "i185b5SXEsST"
      },
      "source": [
        "Por padrão a função print gerará separadores utilizando o \" \", mas você pode especificar como separar as palavras usando o argumento sep"
      ]
    },
    {
      "cell_type": "code",
      "execution_count": null,
      "metadata": {
        "ExecuteTime": {
          "end_time": "2022-01-16T17:15:59.361958Z",
          "start_time": "2022-01-16T17:15:59.357062Z"
        },
        "id": "Db6OFW5AEsST",
        "outputId": "fe35de9a-c722-4f76-afc7-47d6cc78a360"
      },
      "outputs": [
        {
          "name": "stdout",
          "output_type": "stream",
          "text": [
            "Olá/mundo/1/cruel\n"
          ]
        }
      ],
      "source": [
        "print(\"Olá\", \"mundo\", a, \"cruel\", sep=\"/\")"
      ]
    },
    {
      "cell_type": "markdown",
      "metadata": {
        "id": "88gTzkMoEsST"
      },
      "source": [
        "Os textos impressos ainda aceitam caracteres especiais que utilizam a sintaxe \"\\alguma letra\""
      ]
    },
    {
      "cell_type": "code",
      "execution_count": null,
      "metadata": {
        "ExecuteTime": {
          "end_time": "2022-01-16T17:16:47.569742Z",
          "start_time": "2022-01-16T17:16:47.565833Z"
        },
        "id": "CwDlFElTEsSU",
        "outputId": "d8494c45-2c5b-40df-ed71-ad9e09697486"
      },
      "outputs": [
        {
          "name": "stdout",
          "output_type": "stream",
          "text": [
            "Olá\n",
            "Mundo\n"
          ]
        }
      ],
      "source": [
        "print(\"Olá\\nMundo\")"
      ]
    },
    {
      "cell_type": "code",
      "execution_count": null,
      "metadata": {
        "ExecuteTime": {
          "end_time": "2022-01-16T17:17:01.681376Z",
          "start_time": "2022-01-16T17:17:01.676449Z"
        },
        "id": "WkLMOZy8TUlW",
        "outputId": "e7213b75-e416-4c79-c10f-09bfe3978bfa"
      },
      "outputs": [
        {
          "name": "stdout",
          "output_type": "stream",
          "text": [
            "Olá\tMundo\n"
          ]
        }
      ],
      "source": [
        "print(\"Olá\\tMundo\")"
      ]
    },
    {
      "cell_type": "markdown",
      "metadata": {
        "id": "687TUDTREsSU"
      },
      "source": [
        "Nós também podemos incorporar os valores de variáveis dentro do texto a ser imprimido utilizado a sintaxe do %"
      ]
    },
    {
      "cell_type": "code",
      "execution_count": null,
      "metadata": {
        "ExecuteTime": {
          "end_time": "2022-01-16T17:18:06.960083Z",
          "start_time": "2022-01-16T17:18:06.956634Z"
        },
        "id": "tKQ89OIbEsSU",
        "outputId": "272578b5-fe04-4b89-b771-35ffeb474712"
      },
      "outputs": [
        {
          "name": "stdout",
          "output_type": "stream",
          "text": [
            "O valor de a é 1|Não sei\n"
          ]
        }
      ],
      "source": [
        "print(\"O valor de a é %d\" % a, \"Não sei\", sep=\"|\")"
      ]
    },
    {
      "cell_type": "code",
      "execution_count": null,
      "metadata": {
        "ExecuteTime": {
          "end_time": "2022-01-16T17:18:57.391431Z",
          "start_time": "2022-01-16T17:18:57.387485Z"
        },
        "id": "dqMYYBzwTUlX",
        "outputId": "d3b8b081-12f0-4469-db52-a0d7c8c22a00"
      },
      "outputs": [
        {
          "name": "stdout",
          "output_type": "stream",
          "text": [
            "O valor de a é 1\n",
            "O valor de b é 2\n",
            "O valor de a + b é 3\n"
          ]
        }
      ],
      "source": [
        "print(\"O valor de a é %d\\nO valor de b é %i\\nO valor de a + b é %d\" % (a, b, a + b))"
      ]
    },
    {
      "cell_type": "code",
      "execution_count": null,
      "metadata": {
        "ExecuteTime": {
          "end_time": "2022-01-16T17:19:42.960936Z",
          "start_time": "2022-01-16T17:19:42.956979Z"
        },
        "id": "y6xMYtsJTUlX",
        "outputId": "fb09878e-c827-4274-f102-25ad30dd1b75"
      },
      "outputs": [
        {
          "name": "stdout",
          "output_type": "stream",
          "text": [
            "O valor de a é 007\n"
          ]
        }
      ],
      "source": [
        "print(\"O valor de a é %03d\" % 7)"
      ]
    },
    {
      "cell_type": "markdown",
      "metadata": {
        "id": "PSH7VSAGEsSU"
      },
      "source": [
        "Além de exportar informação nós também podemos receber informação por meio da função input"
      ]
    },
    {
      "cell_type": "code",
      "execution_count": null,
      "metadata": {
        "ExecuteTime": {
          "end_time": "2022-01-16T17:20:30.295101Z",
          "start_time": "2022-01-16T17:20:23.020089Z"
        },
        "id": "gygKeIIiEsSU",
        "outputId": "8299463a-9872-40d3-b784-0352149ac662"
      },
      "outputs": [
        {
          "name": "stdout",
          "output_type": "stream",
          "text": [
            "me manda ai um número: 1\n"
          ]
        },
        {
          "data": {
            "text/plain": [
              "'1'"
            ]
          },
          "execution_count": 60,
          "metadata": {},
          "output_type": "execute_result"
        }
      ],
      "source": [
        "input(\"me manda ai um número: \")"
      ]
    },
    {
      "cell_type": "markdown",
      "metadata": {
        "id": "QPFhENrREsSU"
      },
      "source": [
        "A função input retornará o valor digitado que pode ser armazenado numa variável"
      ]
    },
    {
      "cell_type": "code",
      "execution_count": null,
      "metadata": {
        "ExecuteTime": {
          "end_time": "2022-01-16T17:21:04.132754Z",
          "start_time": "2022-01-16T17:21:03.230074Z"
        },
        "id": "QHumdIY2EsSU",
        "outputId": "05cbd370-6c16-4950-858f-3755d9caf424"
      },
      "outputs": [
        {
          "name": "stdout",
          "output_type": "stream",
          "text": [
            "me manda ai um número: 1\n"
          ]
        }
      ],
      "source": [
        "num = input(\"me manda ai um número: \")"
      ]
    },
    {
      "cell_type": "code",
      "execution_count": null,
      "metadata": {
        "ExecuteTime": {
          "end_time": "2022-01-16T17:21:06.577555Z",
          "start_time": "2022-01-16T17:21:06.572780Z"
        },
        "id": "Y0YpZLufTUle",
        "outputId": "6c950dfb-d215-438e-a178-bf2d5a204c7d"
      },
      "outputs": [
        {
          "data": {
            "text/plain": [
              "'1'"
            ]
          },
          "execution_count": 62,
          "metadata": {},
          "output_type": "execute_result"
        }
      ],
      "source": [
        "num"
      ]
    },
    {
      "cell_type": "markdown",
      "metadata": {
        "id": "4mGpeCKxEsSU"
      },
      "source": [
        "Entretanto note que o console não fornece um valor inteiro como estamos acostumados, mas no lugar nos devolve um valor '1'. Para obter o nosso valor de interesse precisamos fazer uma conversão de tipo"
      ]
    },
    {
      "cell_type": "code",
      "execution_count": null,
      "metadata": {
        "ExecuteTime": {
          "end_time": "2022-01-16T17:21:27.045119Z",
          "start_time": "2022-01-16T17:21:26.141698Z"
        },
        "id": "IxrxIhx7EsSU",
        "outputId": "a4b9d916-c7f0-48c9-adf0-f9870eef898e"
      },
      "outputs": [
        {
          "name": "stdout",
          "output_type": "stream",
          "text": [
            "me manda ai um número: 1\n"
          ]
        }
      ],
      "source": [
        "num = int(input(\"me manda ai um número: \"))"
      ]
    },
    {
      "cell_type": "code",
      "execution_count": null,
      "metadata": {
        "ExecuteTime": {
          "end_time": "2022-01-16T17:21:29.521355Z",
          "start_time": "2022-01-16T17:21:29.516929Z"
        },
        "id": "MowOKrcjTUle",
        "outputId": "a648c585-a59b-49bd-c599-67ef54ce4471"
      },
      "outputs": [
        {
          "data": {
            "text/plain": [
              "1"
            ]
          },
          "execution_count": 64,
          "metadata": {},
          "output_type": "execute_result"
        }
      ],
      "source": [
        "num"
      ]
    },
    {
      "cell_type": "markdown",
      "metadata": {
        "id": "MMaa2FjGEsSU"
      },
      "source": [
        "---"
      ]
    },
    {
      "cell_type": "markdown",
      "metadata": {
        "id": "kHUSs9-gEsSU"
      },
      "source": [
        "**Exercício 1**\n",
        "\n",
        "Organize os numeros 2,3,4,5,10,12 para obter a saída 18\n",
        "em uma única operação:\n",
        "\n",
        "    x = 12*3\n",
        "    x = x + 4\n",
        "    x = x//10\n",
        "    x = x*5\n",
        "    x = x - 2\n",
        "    print(x)\n"
      ]
    },
    {
      "cell_type": "code",
      "execution_count": null,
      "metadata": {
        "id": "JoSSIaoUEsSV",
        "solution2": "hidden",
        "solution2_first": true
      },
      "outputs": [],
      "source": []
    },
    {
      "cell_type": "code",
      "execution_count": null,
      "metadata": {
        "ExecuteTime": {
          "end_time": "2021-09-06T14:12:25.039801Z",
          "start_time": "2021-09-06T14:12:25.029831Z"
        },
        "cellView": "form",
        "id": "4wSqByMLEsSU",
        "solution2": "hidden"
      },
      "outputs": [],
      "source": [
        "#@title Resposta\n",
        "x = (12 * 3 + 4) // 10 * 5 - 2\n",
        "print(x)"
      ]
    },
    {
      "cell_type": "markdown",
      "metadata": {
        "id": "av6-ODamEsSV"
      },
      "source": [
        "**Exercício 2**\n",
        "\n",
        "Escreva um Programa que imprime dois numeros de sua escolha\n",
        "e que depois imprime a soma, a subtração, a multiplicação,\n",
        "a divisão normal e a divisão inteira,\n",
        "e o resto da divisão do maior pelo menor\n",
        "(coloque na mensagem a palavra resto ao invez do símbolo %)\n",
        "\n",
        "EXEMPLO DE SAÍDA:\n",
        "\n",
        "x = 15; y = 10\n",
        "\n",
        "    15 + 10 = 25\n",
        "    15 - 10 = 5\n",
        "    15 x 10 = 150\n",
        "    15 / 10 = 1.5\n",
        "    15 // 10 = 1\n",
        "    15 resto 10 = 5\n"
      ]
    },
    {
      "cell_type": "code",
      "execution_count": null,
      "metadata": {
        "id": "PCk7m6AUEsSV",
        "solution2": "hidden",
        "solution2_first": true
      },
      "outputs": [],
      "source": []
    },
    {
      "cell_type": "code",
      "execution_count": null,
      "metadata": {
        "ExecuteTime": {
          "end_time": "2021-09-06T15:25:03.486433Z",
          "start_time": "2021-09-06T15:24:58.914131Z"
        },
        "cellView": "form",
        "id": "-xG22c6WEsSV",
        "solution2": "hidden"
      },
      "outputs": [],
      "source": [
        "#@title Resposta\n",
        "x = int(input(\"Digite o valor de x: \"))\n",
        "y = int(input(\"Digite o valor de y: \"))\n",
        "\n",
        "print(\"x =\", x, \"\\ny =\", y)\n",
        "print(x, \"+\", y, \"=\", x + y)\n",
        "print(x, \"-\", y, \"=\", x - y)\n",
        "print(x, \"x\", y, \"=\", x * y)\n",
        "print(x, \"/\", y, \"=\", x / y)\n",
        "print(x, \"//\", y, \"=\", x // y)\n",
        "print(x, \"resto\", y, \"=\", x % y)"
      ]
    },
    {
      "cell_type": "markdown",
      "metadata": {
        "id": "UZfkST2hEsSV"
      },
      "source": [
        "---"
      ]
    },
    {
      "cell_type": "markdown",
      "metadata": {
        "id": "Mu6uXNvpEsSV"
      },
      "source": [
        "## Controladores de Fluxo"
      ]
    },
    {
      "cell_type": "markdown",
      "metadata": {
        "id": "EIjHj4erEsSV"
      },
      "source": [
        "### Estruturas de Decisão"
      ]
    },
    {
      "cell_type": "markdown",
      "metadata": {
        "id": "nP-YvDmTEsSV"
      },
      "source": [
        "#### Variáveis Booleanas"
      ]
    },
    {
      "cell_type": "markdown",
      "metadata": {
        "id": "lJ8WcHKTEsSW"
      },
      "source": [
        "Além das variáveis de tipo inteiro nós temos outros tipos como as variáveis booleanas que são representações de valores binários de Verdadeiro e Falso (True e False respectivamente)"
      ]
    },
    {
      "cell_type": "code",
      "execution_count": null,
      "metadata": {
        "ExecuteTime": {
          "end_time": "2022-01-16T17:24:32.334857Z",
          "start_time": "2022-01-16T17:24:32.331948Z"
        },
        "id": "Rgv3Wkj0EsSW"
      },
      "outputs": [],
      "source": [
        "verdadeiro = True\n",
        "falso = False"
      ]
    },
    {
      "cell_type": "markdown",
      "metadata": {
        "id": "FYghuLUYEsSW"
      },
      "source": [
        "As variáveis booleanas são resultados de comparações entre diferentes valores que avaliam uma determinada expressão"
      ]
    },
    {
      "cell_type": "code",
      "execution_count": null,
      "metadata": {
        "ExecuteTime": {
          "end_time": "2022-01-16T17:25:02.626933Z",
          "start_time": "2022-01-16T17:25:02.622039Z"
        },
        "id": "_yBiva4YEsSW",
        "outputId": "b4a1bc40-5463-49ef-d1a4-3fded845c10d"
      },
      "outputs": [
        {
          "data": {
            "text/plain": [
              "True"
            ]
          },
          "execution_count": 66,
          "metadata": {},
          "output_type": "execute_result"
        }
      ],
      "source": [
        "a = 2\n",
        "a > 1"
      ]
    },
    {
      "cell_type": "markdown",
      "metadata": {
        "id": "EFomP8mhEsSW"
      },
      "source": [
        "Veja que o resultado da expressão a > 1 é um valor booleano nos dizendo que o valor de a, 2, é de fato maior do que 1. De forma análoga temos todas as expressões comparativas conhecidas"
      ]
    },
    {
      "cell_type": "code",
      "execution_count": null,
      "metadata": {
        "ExecuteTime": {
          "end_time": "2022-01-16T17:27:49.539088Z",
          "start_time": "2022-01-16T17:27:49.532169Z"
        },
        "id": "TmCuuX3lEsSW",
        "outputId": "932067a1-54a1-4c0c-8e87-82f5a2e01d51"
      },
      "outputs": [
        {
          "name": "stdout",
          "output_type": "stream",
          "text": [
            "a maior que 1 True\n",
            "a maior igual a 1 True\n",
            "a menor que 1 False\n",
            "a menor igual a 1 False\n",
            "a igual a 1 False\n",
            "a diferente de 1 True\n",
            "a entre 1 e 2 False\n"
          ]
        }
      ],
      "source": [
        "print(\"a maior que 1\", a > 1)\n",
        "print(\"a maior igual a 1\", a >= 1)\n",
        "print(\"a menor que 1\", a < 1)\n",
        "print(\"a menor igual a 1\", a <= 1)\n",
        "print(\"a igual a 1\", a == 1)\n",
        "print(\"a diferente de 1\", a != 1)\n",
        "print(\"a entre 1 e 2\", 1 < a < 2)"
      ]
    },
    {
      "cell_type": "markdown",
      "metadata": {
        "id": "dEyrGg2uEsSW"
      },
      "source": [
        "Podemos também concatenar expressões utilizando os operadores lógico and, or e not"
      ]
    },
    {
      "cell_type": "markdown",
      "metadata": {
        "id": "OJrD61b4EsSW"
      },
      "source": [
        "AND: Só é verdadeiro quando as duas expressões são verdadeiras"
      ]
    },
    {
      "cell_type": "code",
      "execution_count": null,
      "metadata": {
        "ExecuteTime": {
          "end_time": "2022-01-16T17:29:28.724419Z",
          "start_time": "2022-01-16T17:29:28.718462Z"
        },
        "id": "FJ7qn-aCEsSW",
        "outputId": "9aa32a1e-4122-4c85-fb3e-b1a0485edfbb"
      },
      "outputs": [
        {
          "name": "stdout",
          "output_type": "stream",
          "text": [
            "True True True\n",
            "False True False\n",
            "True False False\n",
            "False False False\n"
          ]
        }
      ],
      "source": [
        "a = 1\n",
        "b = 2\n",
        "\n",
        "print(a == 1 , b > 1, a == 1 and b > 1)\n",
        "print(a > 1 , b > 1, a > 1 and b > 1)\n",
        "print(a == 1 , b < 1, a == 1 and b < 1)\n",
        "print(a > 1 , b < 1, a > 1 and b < 1)"
      ]
    },
    {
      "cell_type": "markdown",
      "metadata": {
        "id": "zqgEVUMgEsSW"
      },
      "source": [
        "OR: É verdadeiro quando uma das expressões é verdadeira"
      ]
    },
    {
      "cell_type": "code",
      "execution_count": null,
      "metadata": {
        "ExecuteTime": {
          "end_time": "2022-01-16T17:30:51.938702Z",
          "start_time": "2022-01-16T17:30:51.931878Z"
        },
        "id": "zlU_FnLlEsSW",
        "outputId": "46666359-a92e-4d5e-a762-8067ceb2317e"
      },
      "outputs": [
        {
          "name": "stdout",
          "output_type": "stream",
          "text": [
            "True True True\n",
            "False True True\n",
            "True False True\n",
            "False False False\n"
          ]
        }
      ],
      "source": [
        "a = 1\n",
        "b = 2\n",
        "\n",
        "print(a == 1 , b > 1, a == 1 or b > 1)\n",
        "print(a > 1 , b > 1, a > 1 or b > 1)\n",
        "print(a == 1 , b < 1, a == 1 or b < 1)\n",
        "print(a > 1 , b < 1, a > 1 or b < 1)"
      ]
    },
    {
      "cell_type": "code",
      "execution_count": null,
      "metadata": {
        "ExecuteTime": {
          "end_time": "2022-01-16T17:31:46.577579Z",
          "start_time": "2022-01-16T17:31:46.573655Z"
        },
        "id": "wgcxXgp6TUlk"
      },
      "outputs": [],
      "source": [
        "c = 1"
      ]
    },
    {
      "cell_type": "code",
      "execution_count": null,
      "metadata": {
        "ExecuteTime": {
          "end_time": "2022-01-16T17:31:49.666531Z",
          "start_time": "2022-01-16T17:31:49.661526Z"
        },
        "id": "A8TrSa5nTUll",
        "outputId": "de1b25f2-6656-40a5-e6b1-d00440e4edae"
      },
      "outputs": [
        {
          "data": {
            "text/plain": [
              "True"
            ]
          },
          "execution_count": 74,
          "metadata": {},
          "output_type": "execute_result"
        }
      ],
      "source": [
        "a == 1 and (b > 1 or c > 1)"
      ]
    },
    {
      "cell_type": "markdown",
      "metadata": {
        "id": "s-LIah4CEsSW"
      },
      "source": [
        "NOT: Inverte o resultado de uma comparação"
      ]
    },
    {
      "cell_type": "code",
      "execution_count": null,
      "metadata": {
        "ExecuteTime": {
          "end_time": "2022-01-16T17:32:33.026670Z",
          "start_time": "2022-01-16T17:32:33.021840Z"
        },
        "id": "ohQUgOaEEsSW",
        "outputId": "69eb2e8e-32da-4534-8734-96517442ca36"
      },
      "outputs": [
        {
          "data": {
            "text/plain": [
              "False"
            ]
          },
          "execution_count": 76,
          "metadata": {},
          "output_type": "execute_result"
        }
      ],
      "source": [
        "not a == 1"
      ]
    },
    {
      "cell_type": "code",
      "execution_count": null,
      "metadata": {
        "ExecuteTime": {
          "end_time": "2022-01-16T17:32:43.873863Z",
          "start_time": "2022-01-16T17:32:43.869037Z"
        },
        "id": "pfzVPR7nTUll",
        "outputId": "740f7a52-75e4-4cb8-dd2a-c6232602ed65"
      },
      "outputs": [
        {
          "data": {
            "text/plain": [
              "True"
            ]
          },
          "execution_count": 77,
          "metadata": {},
          "output_type": "execute_result"
        }
      ],
      "source": [
        "not a > 1"
      ]
    },
    {
      "cell_type": "code",
      "execution_count": null,
      "metadata": {
        "ExecuteTime": {
          "end_time": "2022-01-16T17:33:02.033762Z",
          "start_time": "2022-01-16T17:33:02.029763Z"
        },
        "id": "cRXtiYl3TUlm",
        "outputId": "691c35f0-9723-4af6-efac-15a6503b200b"
      },
      "outputs": [
        {
          "data": {
            "text/plain": [
              "False"
            ]
          },
          "execution_count": 78,
          "metadata": {},
          "output_type": "execute_result"
        }
      ],
      "source": [
        "not (a == 1 or b > 1)"
      ]
    },
    {
      "cell_type": "markdown",
      "metadata": {
        "id": "xs_Ip0FQEsSX"
      },
      "source": [
        "#### If / Elif / Else"
      ]
    },
    {
      "cell_type": "markdown",
      "metadata": {
        "id": "D_vLF-51EsSX"
      },
      "source": [
        "Booleanos sozinhos não adicionam muito aos nosso programas, mas estruturas de decisão sim, uma vez que as mesmas podem alterar o andamento do código e executar determinados blocos de acordo com as condições especificadas"
      ]
    },
    {
      "cell_type": "code",
      "execution_count": null,
      "metadata": {
        "ExecuteTime": {
          "end_time": "2022-01-16T17:36:34.757947Z",
          "start_time": "2022-01-16T17:36:32.842917Z"
        },
        "id": "KPI7C_WWEsSX",
        "outputId": "a384e50c-8fe9-4c3f-839d-4ddbf6d32d6f"
      },
      "outputs": [
        {
          "name": "stdout",
          "output_type": "stream",
          "text": [
            "Qual a sua idade? 21\n",
            "Hora de encher a cara\n",
            "Fim\n"
          ]
        }
      ],
      "source": [
        "idade = int(input(\"Qual a sua idade? \"))\n",
        "if idade >= 18:\n",
        "    print(\"Hora de encher a cara\")\n",
        "print(\"Fim\")"
      ]
    },
    {
      "cell_type": "code",
      "execution_count": null,
      "metadata": {
        "ExecuteTime": {
          "end_time": "2022-01-16T17:37:18.582068Z",
          "start_time": "2022-01-16T17:37:16.060082Z"
        },
        "id": "3Caldt-2TUlm",
        "outputId": "dcf09178-f5e6-4491-95ac-9204588ff94c"
      },
      "outputs": [
        {
          "name": "stdout",
          "output_type": "stream",
          "text": [
            "Qual a sua idade? 17\n",
            "Pra você só toddynho\n",
            "Fim\n"
          ]
        }
      ],
      "source": [
        "idade = int(input(\"Qual a sua idade? \"))\n",
        "if idade >= 18:\n",
        "    print(\"Hora de encher a cara\")\n",
        "else:\n",
        "    print(\"Pra você só toddynho\")\n",
        "print(\"Fim\")"
      ]
    },
    {
      "cell_type": "code",
      "execution_count": null,
      "metadata": {
        "ExecuteTime": {
          "end_time": "2022-01-16T17:38:21.910430Z",
          "start_time": "2022-01-16T17:38:20.091720Z"
        },
        "id": "9xHM3spJTUln",
        "outputId": "d6b89044-945b-4e75-8bd3-ee4603a06655"
      },
      "outputs": [
        {
          "name": "stdout",
          "output_type": "stream",
          "text": [
            "Qual a sua idade? 70\n",
            "Dá pra pegar busão de graça\n",
            "Fim\n"
          ]
        }
      ],
      "source": [
        "idade = int(input(\"Qual a sua idade? \"))\n",
        "if idade >= 65:\n",
        "    print(\"Dá pra pegar busão de graça\")\n",
        "elif idade >= 18:\n",
        "    print(\"Hora de encher a cara\")\n",
        "else:\n",
        "    print(\"Pra você só toddynho\")\n",
        "print(\"Fim\")"
      ]
    },
    {
      "cell_type": "code",
      "execution_count": null,
      "metadata": {
        "ExecuteTime": {
          "end_time": "2022-01-16T17:38:45.510060Z",
          "start_time": "2022-01-16T17:38:43.502797Z"
        },
        "id": "XrMzBeUnTUln",
        "outputId": "bec55b91-c0c4-48fb-bb5b-0cdde71b2fa9"
      },
      "outputs": [
        {
          "name": "stdout",
          "output_type": "stream",
          "text": [
            "Qual a sua idade? 200\n",
            "Você é bem idoso!!\n",
            "Fim\n"
          ]
        }
      ],
      "source": [
        "idade = int(input(\"Qual a sua idade? \"))\n",
        "if idade >= 120:\n",
        "    print(\"Você é bem idoso!!\")\n",
        "elif idade >= 65:\n",
        "    print(\"Dá pra pegar busão de graça\")\n",
        "elif idade >= 18:\n",
        "    print(\"Hora de encher a cara\")\n",
        "else:\n",
        "    print(\"Pra você só toddynho\")\n",
        "print(\"Fim\")"
      ]
    },
    {
      "cell_type": "code",
      "execution_count": null,
      "metadata": {
        "ExecuteTime": {
          "end_time": "2022-01-16T17:39:29.398258Z",
          "start_time": "2022-01-16T17:39:26.573974Z"
        },
        "id": "-y9eY0u6TUln",
        "outputId": "2b2b3407-fb26-4c04-d920-7d8eff7d382d"
      },
      "outputs": [
        {
          "name": "stdout",
          "output_type": "stream",
          "text": [
            "Qual a sua idade? 70\n",
            "Dá pra pegar busão de graça\n",
            "Hora de encher a cara\n",
            "Fim\n"
          ]
        }
      ],
      "source": [
        "idade = int(input(\"Qual a sua idade? \"))\n",
        "if idade >= 65:\n",
        "    print(\"Dá pra pegar busão de graça\")\n",
        "\n",
        "if idade >= 18:\n",
        "    print(\"Hora de encher a cara\")\n",
        "else:\n",
        "    print(\"Pra você só toddynho\")\n",
        "print(\"Fim\")"
      ]
    },
    {
      "cell_type": "markdown",
      "metadata": {
        "id": "Rw2UulO8EsSX"
      },
      "source": [
        "---"
      ]
    },
    {
      "cell_type": "markdown",
      "metadata": {
        "id": "c4hELKLWEsSX"
      },
      "source": [
        "**Exercício 3**\n",
        "\n",
        "Faça um Programa para uma loja de tintas.\n",
        "\n",
        "O programa deverá pedir o tamanho em metros quadrados da área a ser pintada.\n",
        "Considere que a cobertura da tinta é de 1 litro para cada 6 metros quadrados\n",
        "e que a tinta é vendida em latas de 18 litros, que custam R\\\\$ 80,00 ou\n",
        "em galões de 4 litros, que custam R\\\\$ 25,00.\n",
        "\n",
        "Informe ao usuário as quantidades de tinta a serem compradas e os respectivos\n",
        "preços em 3 situações:\n",
        "    comprar apenas latas de 18 litros;\n",
        "    comprar apenas galões de 4 litros;\n",
        "    misturar latas e galões, de forma que o preço seja o menor."
      ]
    },
    {
      "cell_type": "code",
      "execution_count": null,
      "metadata": {
        "id": "IbScKN9dEsSX",
        "solution2": "hidden",
        "solution2_first": true
      },
      "outputs": [],
      "source": []
    },
    {
      "cell_type": "code",
      "execution_count": null,
      "metadata": {
        "ExecuteTime": {
          "end_time": "2021-09-06T14:12:59.254806Z",
          "start_time": "2021-09-06T14:12:57.200841Z"
        },
        "cellView": "form",
        "id": "q1afgGjlEsSX",
        "solution2": "hidden"
      },
      "outputs": [],
      "source": [
        "#@title Resposta\n",
        "# insira o valor da área aqui\n",
        "area = int(input(\"Insira o valor da área: \"))\n",
        "\n",
        "# Vamos calcular o numero de litros necessários para pintar a casa\n",
        "litros = area // 6\n",
        "if area % 6 > 0:\n",
        "    litros = litros + 1\n",
        "\n",
        "print(\"Litros necessários:\", litros, \"\\n\")\n",
        "\n",
        "print(\"1) comprar apenas latas de 18 litros\")\n",
        "latas = litros // 18\n",
        "if litros % 18 > 0:\n",
        "    latas = latas + 1\n",
        "\n",
        "print(\"Serão necessárias\", latas, \"latas\")\n",
        "print(\"Obteremos\", latas * 18, \"litros\")\n",
        "print(\"Total: R$\", latas * 80)\n",
        "\n",
        "print(\"\\n2)Comprar apenas galões de 4 litros\")\n",
        "galoes = litros//4\n",
        "if litros % 4 > 0:\n",
        "    galoes = galoes + 1\n",
        "\n",
        "print(\"Serão necessárias\", galoes, \"galoes\")\n",
        "print(\"Obteremos\", galoes * 4, \"litros\")\n",
        "print(\"Total: R$\", galoes * 25)\n",
        "\n",
        "# Vamos pensar, o preço total por litro pago nas latas é 80/18 ~ 4.44 R$/L\n",
        "# enquanto que para o gualão é 25/4 ~ 6.25 R$/L\n",
        "# portanto é sempre mais vantajoso comprar o máximo de latas possíveis\n",
        "# e o mínimo de galões, desde que o preço desses galoes não ultrapasse o preço\n",
        "# de uma lata, isto é, o numero de galoes seja menor ou igual a 3 (R$ 75)\n",
        "print(\"\\n3)Misturar latas e galões, de forma que o preço seja o menor.\")\n",
        "latas = litros // 18\n",
        "galoes = 0\n",
        "litros_restantes = litros % 18\n",
        "\n",
        "if litros_restantes <= 3 * 4:\n",
        "    # Ou seja o numero de galoes necessarios seja menor do que três\n",
        "    galoes = litros_restantes // 4\n",
        "    if litros_restantes % 4 > 0:\n",
        "        galoes += 1\n",
        "else:\n",
        "    latas += 1\n",
        "\n",
        "print(\"Serão necessárias\", latas, \"latas\")\n",
        "print(\"Serão necessárias\", galoes, \"galoes\")\n",
        "print(\"Obteremos\", latas * 18 + galoes * 4, \"litros\")\n",
        "print(\"Total: R$\", galoes * 25 + latas * 80)"
      ]
    },
    {
      "cell_type": "markdown",
      "metadata": {
        "id": "Q21r8Mc_EsSY"
      },
      "source": [
        "---"
      ]
    },
    {
      "cell_type": "markdown",
      "metadata": {
        "id": "52L348CYEsSY"
      },
      "source": [
        "### Estruturas de Repetição"
      ]
    },
    {
      "cell_type": "markdown",
      "metadata": {
        "id": "LxjYJXvrEsSY"
      },
      "source": [
        "Estruturas de repetição são cruciais em qualquer linguagem de programação porque permitem que determinados blocos de código sejam executados múltiplas vezes. É justamente esse tipo de estrutura que evita que tenhamos que escrever o mesmo código repetidas vezes para se atingir um determinado resultado"
      ]
    },
    {
      "cell_type": "markdown",
      "metadata": {
        "id": "R1aTgnkqEsSY"
      },
      "source": [
        "#### While"
      ]
    },
    {
      "cell_type": "markdown",
      "metadata": {
        "id": "3yz1xcsBEsSY"
      },
      "source": [
        "O bloco while é utilizado para executar um determinado bloco de código ENQUANTO (while em português) uma condição seja verdadeira"
      ]
    },
    {
      "cell_type": "code",
      "execution_count": null,
      "metadata": {
        "ExecuteTime": {
          "end_time": "2022-01-16T17:44:48.576885Z",
          "start_time": "2022-01-16T17:44:48.571933Z"
        },
        "id": "Uw3RZIAyEsSY",
        "outputId": "3c23167e-a3ce-4e7b-f5da-57b6c991fce0"
      },
      "outputs": [
        {
          "name": "stdout",
          "output_type": "stream",
          "text": [
            "0\n",
            "1\n",
            "2\n",
            "3\n",
            "4\n"
          ]
        }
      ],
      "source": [
        "a = 0\n",
        "while a < 5:\n",
        "    print(a)\n",
        "    a += 1"
      ]
    },
    {
      "cell_type": "markdown",
      "metadata": {
        "id": "G8Nz910lEsSY"
      },
      "source": [
        "É preciso ser muito cuidadoso, entretanto com laços infinitos, uma vez que seu programa travará caso você faça isso, entretanto é relativamente comum seu uso por exemplo em jogos ou em aps iterativos de uso contínuo"
      ]
    },
    {
      "cell_type": "code",
      "execution_count": null,
      "metadata": {
        "ExecuteTime": {
          "end_time": "2022-01-16T17:45:10.832447Z",
          "start_time": "2022-01-16T17:45:08.846060Z"
        },
        "id": "fhRAAD28EsSY"
      },
      "outputs": [],
      "source": [
        "a = 0\n",
        "while a < 5:\n",
        "    print(a)"
      ]
    },
    {
      "cell_type": "markdown",
      "metadata": {
        "id": "RSEyg3JZEsSY"
      },
      "source": [
        "---"
      ]
    },
    {
      "cell_type": "markdown",
      "metadata": {
        "id": "Wb3Ik4XAEsSY"
      },
      "source": [
        "**Exercício 4**\n",
        "\n",
        "Dizemos que um inteiro positivo n é perfeito se for igual à soma de\n",
        "seus divisores positivos diferentes de n.\n",
        "\n",
        "Exemplo: 6 é perfeito, pois 1+2+3 = 6.\n",
        "       \n",
        "Dado um inteiro positivo n, verificar se n é perfeito."
      ]
    },
    {
      "cell_type": "code",
      "execution_count": null,
      "metadata": {
        "id": "zbBwsh6fEsSZ",
        "solution2": "hidden",
        "solution2_first": true
      },
      "outputs": [],
      "source": []
    },
    {
      "cell_type": "code",
      "execution_count": null,
      "metadata": {
        "ExecuteTime": {
          "end_time": "2021-09-06T14:13:22.730775Z",
          "start_time": "2021-09-06T14:13:20.576161Z"
        },
        "cellView": "form",
        "id": "WyhL8h8TEsSY",
        "solution2": "hidden"
      },
      "outputs": [],
      "source": [
        "#@title Resposta\n",
        "n = int(input(\"Digite o valor de n: \"))\n",
        "\n",
        "cont, soma = 2, 1\n",
        "while cont < n:\n",
        "    if n % cont == 0:\n",
        "        soma += cont\n",
        "    cont += 1\n",
        "\n",
        "if soma == n:\n",
        "    print (\"O número\", n, \"é perfeito\")\n",
        "else:\n",
        "    print (\"O número\", n, \"não é perfeito\")"
      ]
    },
    {
      "cell_type": "markdown",
      "metadata": {
        "id": "wnNmqU-oEsSZ"
      },
      "source": [
        "---"
      ]
    },
    {
      "cell_type": "markdown",
      "metadata": {
        "id": "ZwghVaW6EsSZ"
      },
      "source": [
        "#### For"
      ]
    },
    {
      "cell_type": "markdown",
      "metadata": {
        "id": "0WaNYgVBEsSZ"
      },
      "source": [
        "Laços for, diferente do while, percorrem uma lista de itens em particular combinados com a expressão in. Esses laços são muito usados com listas (que veremos mais a frente), mas também com objetos \"range\""
      ]
    },
    {
      "cell_type": "code",
      "execution_count": null,
      "metadata": {
        "ExecuteTime": {
          "end_time": "2022-01-16T17:49:19.555566Z",
          "start_time": "2022-01-16T17:49:19.550485Z"
        },
        "id": "nOMqcsYaEsSZ",
        "outputId": "a448ccdd-7468-4c22-ec7e-8b408319ffe9"
      },
      "outputs": [
        {
          "name": "stdout",
          "output_type": "stream",
          "text": [
            "0\n",
            "1\n",
            "2\n",
            "3\n",
            "4\n"
          ]
        }
      ],
      "source": [
        "for a in range(5):\n",
        "    print(a)"
      ]
    },
    {
      "cell_type": "code",
      "execution_count": null,
      "metadata": {
        "ExecuteTime": {
          "end_time": "2022-01-16T17:49:34.833240Z",
          "start_time": "2022-01-16T17:49:34.828844Z"
        },
        "id": "v6Z37tq7TUlu",
        "outputId": "276e8af8-2d1f-4f53-d8fd-f9a712209b46"
      },
      "outputs": [
        {
          "name": "stdout",
          "output_type": "stream",
          "text": [
            "0\n",
            "1\n",
            "2\n",
            "3\n",
            "4\n"
          ]
        }
      ],
      "source": [
        "# começo = 0 (inclusivo)\n",
        "# fim = 5 (não inclusivo)\n",
        "# passo = 1\n",
        "for a in range(0, 5, 1):\n",
        "    print(a)"
      ]
    },
    {
      "cell_type": "code",
      "execution_count": null,
      "metadata": {
        "ExecuteTime": {
          "end_time": "2022-01-16T17:49:44.913368Z",
          "start_time": "2022-01-16T17:49:44.910375Z"
        },
        "id": "oOuRDx8iTUlu",
        "outputId": "3b781f09-9770-44ec-a13c-f75705612ddc"
      },
      "outputs": [
        {
          "name": "stdout",
          "output_type": "stream",
          "text": [
            "0\n",
            "2\n",
            "4\n"
          ]
        }
      ],
      "source": [
        "for a in range(0, 5, 2):\n",
        "    print(a)"
      ]
    },
    {
      "cell_type": "code",
      "execution_count": null,
      "metadata": {
        "ExecuteTime": {
          "end_time": "2022-01-16T17:50:11.507224Z",
          "start_time": "2022-01-16T17:50:11.501407Z"
        },
        "id": "7xcoTa8iTUlu",
        "outputId": "8627cea6-a26b-4fc8-a65e-5719011dc751"
      },
      "outputs": [
        {
          "name": "stdout",
          "output_type": "stream",
          "text": [
            "-5\n",
            "-4\n",
            "-3\n",
            "-2\n",
            "-1\n"
          ]
        }
      ],
      "source": [
        "for a in range(-5, 0, 1):\n",
        "    print(a)"
      ]
    },
    {
      "cell_type": "code",
      "execution_count": null,
      "metadata": {
        "ExecuteTime": {
          "end_time": "2022-01-16T17:50:21.091975Z",
          "start_time": "2022-01-16T17:50:21.087030Z"
        },
        "id": "GB5ei4I1TUlv",
        "outputId": "def352a1-15ec-44c9-810d-53033276e9bc"
      },
      "outputs": [
        {
          "name": "stdout",
          "output_type": "stream",
          "text": [
            "5\n",
            "4\n",
            "3\n",
            "2\n",
            "1\n"
          ]
        }
      ],
      "source": [
        "for a in range(5, 0, -1):\n",
        "    print(a)"
      ]
    },
    {
      "cell_type": "code",
      "execution_count": null,
      "metadata": {
        "ExecuteTime": {
          "end_time": "2022-01-16T17:50:51.218587Z",
          "start_time": "2022-01-16T17:50:51.214641Z"
        },
        "id": "u1_9DRqUTUlv",
        "outputId": "9c35170b-1700-4d22-afa4-46de2b85af0d"
      },
      "outputs": [
        {
          "name": "stdout",
          "output_type": "stream",
          "text": [
            "1\n",
            "2\n",
            "3\n",
            "4\n",
            "5\n",
            "6\n",
            "7\n",
            "8\n",
            "9\n",
            "10\n"
          ]
        }
      ],
      "source": [
        "for a in range(1, 11):\n",
        "    print(a)"
      ]
    },
    {
      "cell_type": "markdown",
      "metadata": {
        "id": "ja1acPdGEsSZ"
      },
      "source": [
        "---"
      ]
    },
    {
      "cell_type": "markdown",
      "metadata": {
        "id": "Wgjwv2tOEsSZ"
      },
      "source": [
        "**Exercício 5**\n",
        "\n",
        "Sabe-se que um número da forma n^3 é igual a soma de n ímpares consecutivos.\n",
        "\n",
        "Exemplo: 1^3= 1, 2^3= 3+5, 3^3= 7+9+11,  4^3= 13+15+17+19,...\n",
        "\n",
        "Dado m, determine os ímpares consecutivos cuja soma é igual a n^3 para n\n",
        "assumindo valores de 1 a m."
      ]
    },
    {
      "cell_type": "code",
      "execution_count": null,
      "metadata": {
        "id": "P59L6OVsEsSZ",
        "solution2": "hidden",
        "solution2_first": true
      },
      "outputs": [],
      "source": []
    },
    {
      "cell_type": "code",
      "execution_count": null,
      "metadata": {
        "ExecuteTime": {
          "end_time": "2022-01-16T17:52:26.184239Z",
          "start_time": "2022-01-16T17:52:23.342525Z"
        },
        "cellView": "form",
        "id": "JMc2yPedEsSZ",
        "solution2": "hidden",
        "outputId": "cf21caf9-4455-449d-9847-988ceafccb6c"
      },
      "outputs": [
        {
          "name": "stdout",
          "output_type": "stream",
          "text": [
            "Digite o valor de m: 6\n",
            "1*1*1 = \n",
            "+ 1\n",
            "\n",
            "\n",
            "2*2*2 = \n",
            "+ 3\n",
            "+ 5\n",
            "\n",
            "\n",
            "3*3*3 = \n",
            "+ 7\n",
            "+ 9\n",
            "+ 11\n",
            "\n",
            "\n",
            "4*4*4 = \n",
            "+ 13\n",
            "+ 15\n",
            "+ 17\n",
            "+ 19\n",
            "\n",
            "\n",
            "5*5*5 = \n",
            "+ 21\n",
            "+ 23\n",
            "+ 25\n",
            "+ 27\n",
            "+ 29\n",
            "\n",
            "\n",
            "6*6*6 = \n",
            "+ 31\n",
            "+ 33\n",
            "+ 35\n",
            "+ 37\n",
            "+ 39\n",
            "+ 41\n",
            "\n",
            "\n"
          ]
        }
      ],
      "source": [
        "#@title Resposta\n",
        "m = int(input(\"Digite o valor de m: \"))\n",
        "for n in range(1, m+1):\n",
        "    soma, inicio = 0, 1\n",
        "    while soma != n*n*n:\n",
        "        soma = 0\n",
        "        for i in range(n):\n",
        "            soma = soma + inicio + 2 * i\n",
        "        inicio += 2\n",
        "\n",
        "    inicio = inicio - 2\n",
        "    print(\"%d*%d*%d = \" % (n, n, n))\n",
        "    for i in range(n):\n",
        "        print(\"+\", inicio + 2 * i)\n",
        "    print(\"\\n\")"
      ]
    },
    {
      "cell_type": "markdown",
      "metadata": {
        "id": "VOzR47y9EsSZ"
      },
      "source": [
        "---"
      ]
    },
    {
      "cell_type": "markdown",
      "metadata": {
        "id": "nBhOdYBaEsSZ"
      },
      "source": [
        "#### Break e Continue"
      ]
    },
    {
      "cell_type": "markdown",
      "metadata": {
        "id": "SA7YxCleEsSZ"
      },
      "source": [
        "As expressões break e continue são controladores de fluxo que permitem alterar como um determinado loop funciona"
      ]
    },
    {
      "cell_type": "code",
      "execution_count": null,
      "metadata": {
        "ExecuteTime": {
          "end_time": "2022-01-16T17:54:50.674000Z",
          "start_time": "2022-01-16T17:54:50.669062Z"
        },
        "id": "0VlKJlJAEsSa",
        "outputId": "d58f15e9-becb-4a12-9e98-b1bae67dd550"
      },
      "outputs": [
        {
          "name": "stdout",
          "output_type": "stream",
          "text": [
            "0\n",
            "1\n",
            "2\n"
          ]
        }
      ],
      "source": [
        "for i in range(5):\n",
        "    if i == 3:\n",
        "        break\n",
        "    print(i)"
      ]
    },
    {
      "cell_type": "code",
      "execution_count": null,
      "metadata": {
        "ExecuteTime": {
          "end_time": "2022-01-16T17:55:11.507510Z",
          "start_time": "2022-01-16T17:55:11.503693Z"
        },
        "id": "f6SwsDxHTUlx",
        "outputId": "ec0f64c3-5cfe-4b71-e227-e6bf8251350a"
      },
      "outputs": [
        {
          "name": "stdout",
          "output_type": "stream",
          "text": [
            "0\n",
            "1\n",
            "2\n",
            "4\n"
          ]
        }
      ],
      "source": [
        "for i in range(5):\n",
        "    if i == 3:\n",
        "        continue\n",
        "    print(i)"
      ]
    },
    {
      "cell_type": "markdown",
      "metadata": {
        "id": "QHjtbyQkEsSa"
      },
      "source": [
        "---"
      ]
    },
    {
      "cell_type": "markdown",
      "metadata": {
        "id": "pIXXnKT6EsSa"
      },
      "source": [
        "**Exercício 6**\n",
        "\n",
        "Escreva o jogo do chute.\n",
        "\n",
        "\n",
        "Nele, dado um número inteiro entre 1 e 100, você deve pedir\n",
        "para o usuário advinhar o número que você escolheu\n",
        "\n",
        "Para cada chute do usuário você deve imprimir uma dica, se\n",
        "ele chutou baixo de mais ou alto demais\n",
        "\n",
        "Uma vez que o usuário acerte o chute o programa imprime uma\n",
        "mensagem e também o número de chutes que o usuário deu\n",
        "\n",
        "OBS: Use o statement break\n",
        "\n",
        "Exemplo:\n",
        "\n",
        "    Tente advinhar o número que eu estou pensando\n",
        "    Seu Chute: 50\n",
        "    Você deve chutar mais alto!\n",
        "    Seu Chute: 75\n",
        "    Você deve chutar mais alto!\n",
        "    Seu Chute: 87\n",
        "    Você deve chutar mais alto!\n",
        "    Seu Chute: 93\n",
        "    Você deve chutar mais alto!\n",
        "    Seu Chute: 97\n",
        "    Você deve chutar mais baixo!\n",
        "    Seu Chute: 95\n",
        "    Parabens você acertou!!\n",
        "    Você chutou 6 vezes"
      ]
    },
    {
      "cell_type": "code",
      "execution_count": null,
      "metadata": {
        "id": "fpfh7ZUFEsSa",
        "solution2": "hidden",
        "solution2_first": true
      },
      "outputs": [],
      "source": []
    },
    {
      "cell_type": "code",
      "execution_count": null,
      "metadata": {
        "cellView": "form",
        "id": "xwtlFMoSEsSa",
        "solution2": "hidden"
      },
      "outputs": [],
      "source": [
        "#@title Resposta\n",
        "num = 37\n",
        "\n",
        "chutes = 0\n",
        "\n",
        "print(\"Tente advinhar o número que eu estou pensando\")\n",
        "\n",
        "while True:\n",
        "    chute = int(input(\"Seu Chute: \"))\n",
        "    chutes += 1\n",
        "    if chute == num:\n",
        "        break\n",
        "    elif chute < num:\n",
        "        print(\"Você deve chutar mais alto!\")\n",
        "    else:\n",
        "        print(\"Você deve chutar mais baixo!\")\n",
        "\n",
        "\n",
        "print(\"Parabens você acertou!!\")\n",
        "print(\"Você chutou %i vezes\"%chutes)"
      ]
    },
    {
      "cell_type": "markdown",
      "metadata": {
        "id": "2BnwrJgkEsSa"
      },
      "source": [
        "---"
      ]
    },
    {
      "cell_type": "markdown",
      "metadata": {
        "id": "9ixwrbQKEsSa"
      },
      "source": [
        "## Tipos de Variáveis"
      ]
    },
    {
      "cell_type": "markdown",
      "metadata": {
        "id": "G55O_P2dEsSa"
      },
      "source": [
        "### Variáveis Numéricas"
      ]
    },
    {
      "cell_type": "markdown",
      "metadata": {
        "id": "KWCXzuWDEsSa"
      },
      "source": [
        "#### Reais"
      ]
    },
    {
      "cell_type": "markdown",
      "metadata": {
        "id": "jqSo-qI4EsSa"
      },
      "source": [
        "Números reais são iguais a números inteiros, exceto que possuem casas decimais representadas por ."
      ]
    },
    {
      "cell_type": "code",
      "execution_count": null,
      "metadata": {
        "ExecuteTime": {
          "end_time": "2022-01-16T17:57:31.122570Z",
          "start_time": "2022-01-16T17:57:31.118708Z"
        },
        "id": "4YXyiV2zEsSa"
      },
      "outputs": [],
      "source": [
        "a = 1.1\n",
        "b = 1.0\n",
        "c = 2.\n",
        "d = .27"
      ]
    },
    {
      "cell_type": "code",
      "execution_count": null,
      "metadata": {
        "ExecuteTime": {
          "end_time": "2022-01-16T17:57:47.457711Z",
          "start_time": "2022-01-16T17:57:47.452889Z"
        },
        "id": "JF1qkECbTUl0",
        "outputId": "b517694b-f07e-4130-ee42-f37645f562bb"
      },
      "outputs": [
        {
          "data": {
            "text/plain": [
              "float"
            ]
          },
          "execution_count": 108,
          "metadata": {},
          "output_type": "execute_result"
        }
      ],
      "source": [
        "type(b)"
      ]
    },
    {
      "cell_type": "markdown",
      "metadata": {
        "id": "Q4Kn99wJEsSa"
      },
      "source": [
        "Podemos converter números reais para inteiros e vice-versa utilizando operações matemáticas, na qual, por padrão, sempre converteremos o resultado da operação para um valor real."
      ]
    },
    {
      "cell_type": "code",
      "execution_count": null,
      "metadata": {
        "ExecuteTime": {
          "end_time": "2022-01-16T17:58:22.083149Z",
          "start_time": "2022-01-16T17:58:22.078294Z"
        },
        "id": "1R4LYYdqEsSa",
        "outputId": "35f26794-d7c9-4629-aff6-cd4904813312"
      },
      "outputs": [
        {
          "data": {
            "text/plain": [
              "2.2"
            ]
          },
          "execution_count": 109,
          "metadata": {},
          "output_type": "execute_result"
        }
      ],
      "source": [
        "1.1 * 2"
      ]
    },
    {
      "cell_type": "code",
      "execution_count": null,
      "metadata": {
        "ExecuteTime": {
          "end_time": "2022-01-16T17:58:40.564549Z",
          "start_time": "2022-01-16T17:58:40.559599Z"
        },
        "id": "PbIUhdeXTUl0",
        "outputId": "5483bb22-2bc3-4996-d6a0-405b0d2ac795"
      },
      "outputs": [
        {
          "data": {
            "text/plain": [
              "1.0"
            ]
          },
          "execution_count": 110,
          "metadata": {},
          "output_type": "execute_result"
        }
      ],
      "source": [
        "4.3 // 3"
      ]
    },
    {
      "cell_type": "markdown",
      "metadata": {
        "id": "Ky6aDs5BEsSb"
      },
      "source": [
        "As funções float e int.\n",
        "\n",
        "É importante notar que a função int não arredonda o número real, ela apenas pega o valor da representação numérica inteira do número"
      ]
    },
    {
      "cell_type": "code",
      "execution_count": null,
      "metadata": {
        "ExecuteTime": {
          "end_time": "2022-01-16T17:59:15.606541Z",
          "start_time": "2022-01-16T17:59:15.601621Z"
        },
        "id": "F441z092EsSb",
        "outputId": "ba91813a-a587-44e5-b3c9-2fba5bf1aa93"
      },
      "outputs": [
        {
          "data": {
            "text/plain": [
              "2.0"
            ]
          },
          "execution_count": 111,
          "metadata": {},
          "output_type": "execute_result"
        }
      ],
      "source": [
        "float(2)"
      ]
    },
    {
      "cell_type": "code",
      "execution_count": null,
      "metadata": {
        "ExecuteTime": {
          "end_time": "2022-01-16T17:59:20.802483Z",
          "start_time": "2022-01-16T17:59:20.798480Z"
        },
        "id": "vORL9adRTUl1",
        "outputId": "eb51419a-5534-4150-f2eb-2b55ecf822b4"
      },
      "outputs": [
        {
          "data": {
            "text/plain": [
              "2.4"
            ]
          },
          "execution_count": 112,
          "metadata": {},
          "output_type": "execute_result"
        }
      ],
      "source": [
        "float(\"2.4\")"
      ]
    },
    {
      "cell_type": "code",
      "execution_count": null,
      "metadata": {
        "ExecuteTime": {
          "end_time": "2022-01-16T17:59:27.314411Z",
          "start_time": "2022-01-16T17:59:27.310464Z"
        },
        "id": "ONftPwJCTUl2",
        "outputId": "6b3ad77a-9f68-447f-f30b-1bd18f93f182"
      },
      "outputs": [
        {
          "data": {
            "text/plain": [
              "2"
            ]
          },
          "execution_count": 113,
          "metadata": {},
          "output_type": "execute_result"
        }
      ],
      "source": [
        "int(2.4)"
      ]
    },
    {
      "cell_type": "code",
      "execution_count": null,
      "metadata": {
        "ExecuteTime": {
          "end_time": "2022-01-16T17:59:34.706924Z",
          "start_time": "2022-01-16T17:59:34.702502Z"
        },
        "id": "lFQNLqOVTUl2",
        "outputId": "0d395312-80c1-4dcb-d7ee-ffc65efc5c67"
      },
      "outputs": [
        {
          "data": {
            "text/plain": [
              "2"
            ]
          },
          "execution_count": 114,
          "metadata": {},
          "output_type": "execute_result"
        }
      ],
      "source": [
        "int(2.6)"
      ]
    },
    {
      "cell_type": "markdown",
      "metadata": {
        "id": "N8GktGYMEsSb"
      },
      "source": [
        "E a função round"
      ]
    },
    {
      "cell_type": "code",
      "execution_count": null,
      "metadata": {
        "ExecuteTime": {
          "end_time": "2022-01-16T18:00:02.211620Z",
          "start_time": "2022-01-16T18:00:02.207657Z"
        },
        "id": "yCc9ZFaHEsSb",
        "outputId": "61be2300-cc81-4935-f7d9-f7bb0ec59da0"
      },
      "outputs": [
        {
          "data": {
            "text/plain": [
              "3"
            ]
          },
          "execution_count": 116,
          "metadata": {},
          "output_type": "execute_result"
        }
      ],
      "source": [
        "round(2.6)"
      ]
    },
    {
      "cell_type": "code",
      "execution_count": null,
      "metadata": {
        "ExecuteTime": {
          "end_time": "2022-01-16T18:00:19.906871Z",
          "start_time": "2022-01-16T18:00:19.902910Z"
        },
        "id": "niwQibSZTUl3",
        "outputId": "cfc0b4da-1aee-4525-ea4d-d4b97c961459"
      },
      "outputs": [
        {
          "data": {
            "text/plain": [
              "3.44"
            ]
          },
          "execution_count": 117,
          "metadata": {},
          "output_type": "execute_result"
        }
      ],
      "source": [
        "round(3.435678, 2)"
      ]
    },
    {
      "cell_type": "markdown",
      "metadata": {
        "id": "rPO9tZOGEsSb"
      },
      "source": [
        "Nas funções de print podemos formatar números inteiros"
      ]
    },
    {
      "cell_type": "code",
      "execution_count": null,
      "metadata": {
        "ExecuteTime": {
          "end_time": "2022-01-16T18:01:24.066712Z",
          "start_time": "2022-01-16T18:01:24.062806Z"
        },
        "id": "p98tdrbqEsSb",
        "outputId": "fec261ea-6b01-4713-986b-5a1ac3dd1e6f"
      },
      "outputs": [
        {
          "name": "stdout",
          "output_type": "stream",
          "text": [
            "Numero real 2.3\n",
            "Numero real 2.300000\n",
            "Numero real 2.35\n"
          ]
        }
      ],
      "source": [
        "print(\"Numero real\", 2.3)\n",
        "print(\"Numero real %f\" % 2.3)\n",
        "print(\"Numero real %.2f\" % 2.34567)"
      ]
    },
    {
      "cell_type": "markdown",
      "metadata": {
        "id": "CArU9Qh6EsSb"
      },
      "source": [
        "---"
      ]
    },
    {
      "cell_type": "markdown",
      "metadata": {
        "id": "pRw5ppU7EsSb"
      },
      "source": [
        "**Exercício 7**"
      ]
    },
    {
      "cell_type": "markdown",
      "metadata": {
        "id": "bzEGXoyPEsSb"
      },
      "source": [
        "Tendo como dados de entrada a altura e o sexo de uma pessoa, construa um algoritmo que calcule seu peso ideal, utilizando as seguintes fórmulas:\n",
        "\n",
        "Para homens: (72.7*h) - 58\n",
        "\n",
        "Para mulheres: (62.1*h) - 44.7 (h = altura)\n",
        "\n",
        "Peça o peso da pessoa e informe se ela está dentro, acima ou abaixo do peso."
      ]
    },
    {
      "cell_type": "code",
      "execution_count": null,
      "metadata": {
        "id": "ULvO7QCNEsSc",
        "solution2": "hidden",
        "solution2_first": true
      },
      "outputs": [],
      "source": []
    },
    {
      "cell_type": "code",
      "execution_count": null,
      "metadata": {
        "cellView": "form",
        "id": "wQ6ZzLKMEsSb",
        "solution2": "hidden"
      },
      "outputs": [],
      "source": [
        "#@title Resposta\n",
        "altura = float(input(\"Digite a sua altura: \"))\n",
        "sexo = int(input(\"Digite o seu sexo(Masculino = 0/ Feminino = 1): \"))\n",
        "peso = float(input(\"Digite o seu peso: \"))\n",
        "\n",
        "if sexo == 0:\n",
        "    peso_ideal = (72.7 * altura) - 58\n",
        "else:\n",
        "    peso_ideal = (62.1 * altura) - 44.7\n",
        "\n",
        "if peso > peso_ideal:\n",
        "    print(\"Você está acima do peso\")\n",
        "elif peso == peso_ideal:\n",
        "    print(\"Você está no seu peso ideal\")\n",
        "else:\n",
        "    print(\"Você está abaixo do peso\")"
      ]
    },
    {
      "cell_type": "markdown",
      "metadata": {
        "id": "cNMcWB-iEsSc"
      },
      "source": [
        "---"
      ]
    },
    {
      "cell_type": "markdown",
      "metadata": {
        "id": "8rRVHjGDEsSc"
      },
      "source": [
        "#### Complexo"
      ]
    },
    {
      "cell_type": "markdown",
      "metadata": {
        "id": "7dtxcO66EsSc"
      },
      "source": [
        "Python também possuí estruturas para representar números complexos utilizando o j para representar a parte imaginária de um número"
      ]
    },
    {
      "cell_type": "code",
      "execution_count": null,
      "metadata": {
        "ExecuteTime": {
          "end_time": "2022-01-16T18:13:16.835701Z",
          "start_time": "2022-01-16T18:13:16.831689Z"
        },
        "id": "5kx4jpb9EsSc",
        "outputId": "6aa83b3b-8dee-4e48-9f05-1a870a44205d"
      },
      "outputs": [
        {
          "data": {
            "text/plain": [
              "(1+2j)"
            ]
          },
          "execution_count": 120,
          "metadata": {},
          "output_type": "execute_result"
        }
      ],
      "source": [
        "a = 1 + 2j\n",
        "a"
      ]
    },
    {
      "cell_type": "markdown",
      "metadata": {
        "ExecuteTime": {
          "end_time": "2021-09-06T14:46:01.693481Z",
          "start_time": "2021-09-06T14:46:01.680986Z"
        },
        "id": "mUWYCbvpEsSc"
      },
      "source": [
        "Podemos acessar as partes reais e complexas de um número de forma independente"
      ]
    },
    {
      "cell_type": "code",
      "execution_count": null,
      "metadata": {
        "ExecuteTime": {
          "end_time": "2022-01-16T18:13:23.698380Z",
          "start_time": "2022-01-16T18:13:23.694378Z"
        },
        "id": "wcdDHdG0EsSc",
        "outputId": "721a471c-97e9-488e-8709-754d77e2611d"
      },
      "outputs": [
        {
          "data": {
            "text/plain": [
              "1.0"
            ]
          },
          "execution_count": 121,
          "metadata": {},
          "output_type": "execute_result"
        }
      ],
      "source": [
        "a.real"
      ]
    },
    {
      "cell_type": "code",
      "execution_count": null,
      "metadata": {
        "ExecuteTime": {
          "end_time": "2022-01-16T18:13:27.107427Z",
          "start_time": "2022-01-16T18:13:27.102518Z"
        },
        "id": "vUQJ4XzWTUl8",
        "outputId": "98cca683-04e2-41ba-bba6-735655174b44"
      },
      "outputs": [
        {
          "data": {
            "text/plain": [
              "2.0"
            ]
          },
          "execution_count": 122,
          "metadata": {},
          "output_type": "execute_result"
        }
      ],
      "source": [
        "a.imag"
      ]
    },
    {
      "cell_type": "markdown",
      "metadata": {
        "id": "ENkX2nSbEsSc"
      },
      "source": [
        "E até fazer operações númericas com essas partes"
      ]
    },
    {
      "cell_type": "code",
      "execution_count": null,
      "metadata": {
        "ExecuteTime": {
          "end_time": "2022-01-16T18:13:35.171413Z",
          "start_time": "2022-01-16T18:13:35.165490Z"
        },
        "id": "r2lI1p92EsSc",
        "outputId": "c6e266d5-9719-48cb-c210-03b9b691890e"
      },
      "outputs": [
        {
          "data": {
            "text/plain": [
              "3.0"
            ]
          },
          "execution_count": 123,
          "metadata": {},
          "output_type": "execute_result"
        }
      ],
      "source": [
        "a.real + 2"
      ]
    },
    {
      "cell_type": "code",
      "execution_count": null,
      "metadata": {
        "ExecuteTime": {
          "end_time": "2022-01-16T18:13:41.890607Z",
          "start_time": "2022-01-16T18:13:41.885727Z"
        },
        "id": "gdsxvmbpTUl-",
        "outputId": "cf25ab41-e381-4515-99a3-aa474b6a316a"
      },
      "outputs": [
        {
          "data": {
            "text/plain": [
              "5.0"
            ]
          },
          "execution_count": 124,
          "metadata": {},
          "output_type": "execute_result"
        }
      ],
      "source": [
        "a.imag + 3"
      ]
    },
    {
      "cell_type": "code",
      "execution_count": null,
      "metadata": {
        "ExecuteTime": {
          "end_time": "2022-01-16T18:13:56.306587Z",
          "start_time": "2022-01-16T18:13:55.886810Z"
        },
        "id": "EQebYmjVTUl-",
        "outputId": "b1a5bb08-6892-4407-def8-bfcea08347f4"
      },
      "outputs": [
        {
          "ename": "AttributeError",
          "evalue": "readonly attribute",
          "output_type": "error",
          "traceback": [
            "\u001b[1;31m---------------------------------------------------------------------------\u001b[0m",
            "\u001b[1;31mAttributeError\u001b[0m                            Traceback (most recent call last)",
            "Input \u001b[1;32mIn [125]\u001b[0m, in \u001b[0;36m<module>\u001b[1;34m\u001b[0m\n\u001b[1;32m----> 1\u001b[0m a\u001b[38;5;241m.\u001b[39mreal \u001b[38;5;241m=\u001b[39m a\u001b[38;5;241m.\u001b[39mreal \u001b[38;5;241m+\u001b[39m \u001b[38;5;241m2\u001b[39m\n",
            "\u001b[1;31mAttributeError\u001b[0m: readonly attribute"
          ]
        }
      ],
      "source": [
        "a.real = a.real + 2"
      ]
    },
    {
      "cell_type": "markdown",
      "metadata": {
        "id": "jui-NfeCEsSc"
      },
      "source": [
        "Assim como com o próprio número"
      ]
    },
    {
      "cell_type": "code",
      "execution_count": null,
      "metadata": {
        "ExecuteTime": {
          "end_time": "2022-01-16T18:14:26.003196Z",
          "start_time": "2022-01-16T18:14:25.998212Z"
        },
        "id": "ySkzUoLaEsSc",
        "outputId": "1a2c5b06-40ac-4002-ed0f-017aa4b3200d"
      },
      "outputs": [
        {
          "data": {
            "text/plain": [
              "(3+2j)"
            ]
          },
          "execution_count": 127,
          "metadata": {},
          "output_type": "execute_result"
        }
      ],
      "source": [
        "a + (2 + 0j)"
      ]
    },
    {
      "cell_type": "markdown",
      "metadata": {
        "id": "Yc-rwdNHEsSc"
      },
      "source": [
        "De forma análoga a int e float, temos também uma função \"complex\" que permite fazer a conversão em um número complexo"
      ]
    },
    {
      "cell_type": "code",
      "execution_count": null,
      "metadata": {
        "ExecuteTime": {
          "end_time": "2022-01-16T18:14:44.147406Z",
          "start_time": "2022-01-16T18:14:44.142566Z"
        },
        "id": "uJPIvxvEEsSc",
        "outputId": "e1b7b989-5bb3-4733-becb-bc596c30df93"
      },
      "outputs": [
        {
          "data": {
            "text/plain": [
              "(5+2j)"
            ]
          },
          "execution_count": 128,
          "metadata": {},
          "output_type": "execute_result"
        }
      ],
      "source": [
        "complex(5, 2)"
      ]
    },
    {
      "cell_type": "code",
      "execution_count": null,
      "metadata": {
        "ExecuteTime": {
          "end_time": "2022-01-16T18:14:51.523232Z",
          "start_time": "2022-01-16T18:14:51.518205Z"
        },
        "id": "Vsy2hSXOTUl_",
        "outputId": "71d8c6f7-de7b-4611-d9e4-7081f16d1317"
      },
      "outputs": [
        {
          "data": {
            "text/plain": [
              "(2.6+0j)"
            ]
          },
          "execution_count": 129,
          "metadata": {},
          "output_type": "execute_result"
        }
      ],
      "source": [
        "complex(2.6)"
      ]
    },
    {
      "cell_type": "markdown",
      "metadata": {
        "id": "uJLPagZPEsSd"
      },
      "source": [
        "---"
      ]
    },
    {
      "cell_type": "markdown",
      "metadata": {
        "id": "eqxx7cDQEsSd"
      },
      "source": [
        "### Variáveis de Coleção"
      ]
    },
    {
      "cell_type": "markdown",
      "metadata": {
        "id": "4xW5b9WnEsSd"
      },
      "source": [
        "Além das variáveis que observamos até aqui que representam uma entidade numérica, nós também temos variáveis que corresponde a uma coleção de objetos. Isto é, variáveis com múltiplos valores."
      ]
    },
    {
      "cell_type": "markdown",
      "metadata": {
        "id": "25XWT5iTEsSd"
      },
      "source": [
        "Essas variáveis são muito utilizadas quando precisamos armazenar grupos de informação específicos e tem múltiplicas aplicação nos ambientes de programação. Vamos ver as principais delas"
      ]
    },
    {
      "cell_type": "markdown",
      "metadata": {
        "id": "J5-TKMEeEsSd"
      },
      "source": [
        "---"
      ]
    },
    {
      "cell_type": "markdown",
      "metadata": {
        "id": "Jn8ZugV5EsSd"
      },
      "source": [
        "#### Listas"
      ]
    },
    {
      "cell_type": "markdown",
      "metadata": {
        "id": "PJFH7jrcEsSd"
      },
      "source": [
        "Python inclui diversas estruturas de dados compostas, usadas para agrupar outros valores. A mais versátil é list (lista), que pode ser escrita como uma lista de valores (itens) separados por vírgula, entre colchetes. Os valores contidos na lista não precisam ser todos do mesmo tipo."
      ]
    },
    {
      "cell_type": "code",
      "execution_count": null,
      "metadata": {
        "ExecuteTime": {
          "end_time": "2022-01-16T18:43:50.181154Z",
          "start_time": "2022-01-16T18:43:50.176188Z"
        },
        "id": "UrhcDqjCTUmC",
        "outputId": "5f4ab6cd-3941-49ff-a55a-6732a1c77743"
      },
      "outputs": [
        {
          "data": {
            "text/plain": [
              "[0, 1, 2, 3, 4, 5]"
            ]
          },
          "execution_count": 168,
          "metadata": {},
          "output_type": "execute_result"
        }
      ],
      "source": [
        "lista = [0, 1, 2, 3, 4, 5]\n",
        "lista"
      ]
    },
    {
      "cell_type": "code",
      "execution_count": null,
      "metadata": {
        "ExecuteTime": {
          "end_time": "2022-01-16T18:44:02.658775Z",
          "start_time": "2022-01-16T18:44:02.654885Z"
        },
        "id": "WGLG-CKjTUmC",
        "outputId": "4f1c826d-c061-4c72-ca9f-cf613fdcd1e3"
      },
      "outputs": [
        {
          "data": {
            "text/plain": [
              "[0, 2.4, (3+1j)]"
            ]
          },
          "execution_count": 170,
          "metadata": {},
          "output_type": "execute_result"
        }
      ],
      "source": [
        "lista = [0, 2.4, 3 + 1j]\n",
        "lista"
      ]
    },
    {
      "cell_type": "markdown",
      "metadata": {
        "id": "_DTE3HztEsSd"
      },
      "source": [
        "As lista podem ser indexadas (subscritas), com o primeiro elemento como índice 0"
      ]
    },
    {
      "cell_type": "code",
      "execution_count": null,
      "metadata": {
        "ExecuteTime": {
          "end_time": "2022-01-16T18:45:33.923687Z",
          "start_time": "2022-01-16T18:45:33.918695Z"
        },
        "id": "fjJuhfL9TUmC",
        "outputId": "4bd5f10f-dfee-4364-e34d-b6ba971c3da8"
      },
      "outputs": [
        {
          "name": "stdout",
          "output_type": "stream",
          "text": [
            "10\n",
            "50\n",
            "30\n"
          ]
        }
      ],
      "source": [
        "lista = [10, 20, 30, 40, 50]\n",
        "print(lista[0])\n",
        "print(lista[4])\n",
        "print(lista[2])"
      ]
    },
    {
      "cell_type": "code",
      "execution_count": null,
      "metadata": {
        "ExecuteTime": {
          "end_time": "2022-01-16T18:45:47.963812Z",
          "start_time": "2022-01-16T18:45:47.950159Z"
        },
        "id": "NE1JIkGfTUmD",
        "outputId": "0707e3f8-8769-414f-9820-6fa2ce211c4a"
      },
      "outputs": [
        {
          "ename": "IndexError",
          "evalue": "list index out of range",
          "output_type": "error",
          "traceback": [
            "\u001b[1;31m---------------------------------------------------------------------------\u001b[0m",
            "\u001b[1;31mIndexError\u001b[0m                                Traceback (most recent call last)",
            "Input \u001b[1;32mIn [173]\u001b[0m, in \u001b[0;36m<module>\u001b[1;34m\u001b[0m\n\u001b[1;32m----> 1\u001b[0m \u001b[43mlista\u001b[49m\u001b[43m[\u001b[49m\u001b[38;5;241;43m5\u001b[39;49m\u001b[43m]\u001b[49m\n",
            "\u001b[1;31mIndexError\u001b[0m: list index out of range"
          ]
        }
      ],
      "source": [
        "lista[5]"
      ]
    },
    {
      "cell_type": "markdown",
      "metadata": {
        "id": "MzsULmdhEsSd"
      },
      "source": [
        "Índices também podem ser números negativos para iniciar a contagem pela direita:"
      ]
    },
    {
      "cell_type": "code",
      "execution_count": null,
      "metadata": {
        "ExecuteTime": {
          "end_time": "2022-01-16T18:46:21.188302Z",
          "start_time": "2022-01-16T18:46:21.184338Z"
        },
        "id": "d4r8HlOuTUmD",
        "outputId": "16ba64da-25a5-42bc-f882-60f094ffc146"
      },
      "outputs": [
        {
          "name": "stdout",
          "output_type": "stream",
          "text": [
            "50\n",
            "40\n",
            "10\n"
          ]
        }
      ],
      "source": [
        "print(lista[-1])\n",
        "print(lista[-2])\n",
        "print(lista[-5])"
      ]
    },
    {
      "cell_type": "code",
      "execution_count": null,
      "metadata": {
        "ExecuteTime": {
          "end_time": "2022-01-16T18:46:32.524631Z",
          "start_time": "2022-01-16T18:46:32.510796Z"
        },
        "id": "48AuF_U-TUmD",
        "outputId": "e104282b-c759-4be0-ebcf-165f750b169c"
      },
      "outputs": [
        {
          "ename": "IndexError",
          "evalue": "list index out of range",
          "output_type": "error",
          "traceback": [
            "\u001b[1;31m---------------------------------------------------------------------------\u001b[0m",
            "\u001b[1;31mIndexError\u001b[0m                                Traceback (most recent call last)",
            "Input \u001b[1;32mIn [175]\u001b[0m, in \u001b[0;36m<module>\u001b[1;34m\u001b[0m\n\u001b[1;32m----> 1\u001b[0m \u001b[43mlista\u001b[49m\u001b[43m[\u001b[49m\u001b[38;5;241;43m-\u001b[39;49m\u001b[38;5;241;43m7\u001b[39;49m\u001b[43m]\u001b[49m\n",
            "\u001b[1;31mIndexError\u001b[0m: list index out of range"
          ]
        }
      ],
      "source": [
        "lista[-7]"
      ]
    },
    {
      "cell_type": "markdown",
      "metadata": {
        "id": "l2ox1VSHEsSd"
      },
      "source": [
        "Note que dado que -0 é o mesmo que 0, índices negativos começam em -1.\n",
        "\n",
        "Além da indexação, o fatiamento também é permitido. Embora a indexação seja usada para obter elementos individuais, fatiar permite que você obtenha conjuntos de elementos:"
      ]
    },
    {
      "cell_type": "code",
      "execution_count": null,
      "metadata": {
        "ExecuteTime": {
          "end_time": "2022-01-16T18:47:33.652222Z",
          "start_time": "2022-01-16T18:47:33.647375Z"
        },
        "id": "2UKVhILTTUmE",
        "outputId": "6601084e-b20e-423e-cc05-1291f19c4e14"
      },
      "outputs": [
        {
          "name": "stdout",
          "output_type": "stream",
          "text": [
            "[10, 20]\n",
            "[30, 40, 50]\n",
            "[10, 20]\n",
            "[30, 40, 50]\n"
          ]
        }
      ],
      "source": [
        "print(lista[0:2])\n",
        "print(lista[2:5])\n",
        "print(lista[:2])\n",
        "print(lista[2:])"
      ]
    },
    {
      "cell_type": "markdown",
      "metadata": {
        "id": "GZFVGYHnEsSe"
      },
      "source": [
        "Os índices do fatiamento possuem padrões úteis; um primeiro índice omitido padrão é zero, um segundo índice omitido é por padrão o tamanho da lista sendo fatiada:"
      ]
    },
    {
      "cell_type": "code",
      "execution_count": null,
      "metadata": {
        "ExecuteTime": {
          "end_time": "2022-01-16T18:49:13.026601Z",
          "start_time": "2022-01-16T18:49:13.022806Z"
        },
        "id": "AAx7LnHOTUmE",
        "outputId": "d6704fc4-e800-40dc-bcca-c06568a45534"
      },
      "outputs": [
        {
          "name": "stdout",
          "output_type": "stream",
          "text": [
            "[10, 30, 50]\n",
            "[40, 50]\n",
            "[10, 30, 50]\n",
            "[50, 40, 30, 20, 10]\n"
          ]
        }
      ],
      "source": [
        "print(lista[0:5:2])\n",
        "print(lista[-2:])\n",
        "print(lista[0::2])\n",
        "print(lista[::-1])"
      ]
    },
    {
      "cell_type": "markdown",
      "metadata": {
        "id": "nTiY8GSREsSe"
      },
      "source": [
        "Observe como o início sempre está incluído, e o fim sempre é excluído. Isso garante que lista[:i] + lista[i:] seja sempre igual a lista:\n"
      ]
    },
    {
      "cell_type": "code",
      "execution_count": null,
      "metadata": {
        "ExecuteTime": {
          "end_time": "2022-01-16T18:49:35.683383Z",
          "start_time": "2022-01-16T18:49:35.679440Z"
        },
        "id": "nWOI4kdREsSe",
        "outputId": "0f130ab0-bdd5-4c22-bcb5-500d9a0a03af"
      },
      "outputs": [
        {
          "name": "stdout",
          "output_type": "stream",
          "text": [
            "[10, 20, 30, 40, 50]\n",
            "[10, 20, 30, 40, 50]\n"
          ]
        }
      ],
      "source": [
        "print(lista[:2] + lista[2:])\n",
        "print(lista[:4] + lista[4:])"
      ]
    },
    {
      "cell_type": "markdown",
      "metadata": {
        "id": "nPGUbSOWEsSe"
      },
      "source": [
        "Uma maneira de lembrar como fatias funcionam é pensar que os índices indicam posições entre elementos, onde a borda esquerda do primeiro elemento é 0. Assim, a borda direita do último elemento de uma lista de comprimento n tem índice n, por exemplo:"
      ]
    },
    {
      "cell_type": "code",
      "execution_count": null,
      "metadata": {
        "ExecuteTime": {
          "end_time": "2022-01-16T18:52:08.867356Z",
          "start_time": "2022-01-16T18:52:08.862435Z"
        },
        "id": "JrGztcq6EsSe",
        "outputId": "f6e2ecc1-0aef-4280-b2ce-1607750ddf70"
      },
      "outputs": [
        {
          "name": "stdout",
          "output_type": "stream",
          "text": [
            "\n",
            " +---+---+---+---+---+---+\n",
            " | 0 | 1 | 2 | 3 | 4 | 5 |\n",
            " +---+---+---+---+---+---+\n",
            " 0   1   2   3   4   5   6\n",
            "-6  -5  -4  -3  -2  -1   \n",
            "\n"
          ]
        }
      ],
      "source": [
        "print(\n",
        "\"\"\"\n",
        " +---+---+---+---+---+---+\n",
        " | 0 | 1 | 2 | 3 | 4 | 5 |\n",
        " +---+---+---+---+---+---+\n",
        " 0   1   2   3   4   5   6\n",
        "-6  -5  -4  -3  -2  -1\n",
        "\"\"\"\n",
        ")"
      ]
    },
    {
      "cell_type": "markdown",
      "metadata": {
        "id": "kTgTtAAbEsSe"
      },
      "source": [
        "A primeira fileira de números indica a posição dos índices 0…6 na lista; a segunda fileira indica a posição dos respectivos índices negativos. Uma fatia de i a j consiste em todos os caracteres entre as bordas i e j, respectivamente.\n",
        "\n",
        "Para índices positivos, o comprimento da fatia é a diferença entre os índices, se ambos estão dentro dos limites da lista. Por exemplo, o comprimento de lista[1:3] é 2.\n",
        "\n",
        "A tentativa de usar um índice que seja muito grande resultará em um erro:"
      ]
    },
    {
      "cell_type": "code",
      "execution_count": null,
      "metadata": {
        "ExecuteTime": {
          "end_time": "2022-01-16T18:52:14.301299Z",
          "start_time": "2022-01-16T18:52:14.287554Z"
        },
        "id": "4lcSi62NEsSe",
        "outputId": "ea2ff618-8baa-47a5-d185-62db408e0a1c"
      },
      "outputs": [
        {
          "ename": "IndexError",
          "evalue": "list index out of range",
          "output_type": "error",
          "traceback": [
            "\u001b[1;31m---------------------------------------------------------------------------\u001b[0m",
            "\u001b[1;31mIndexError\u001b[0m                                Traceback (most recent call last)",
            "Input \u001b[1;32mIn [185]\u001b[0m, in \u001b[0;36m<module>\u001b[1;34m\u001b[0m\n\u001b[1;32m----> 1\u001b[0m \u001b[43mlista\u001b[49m\u001b[43m[\u001b[49m\u001b[38;5;241;43m42\u001b[39;49m\u001b[43m]\u001b[49m\n",
            "\u001b[1;31mIndexError\u001b[0m: list index out of range"
          ]
        }
      ],
      "source": [
        "lista[42]"
      ]
    },
    {
      "cell_type": "markdown",
      "metadata": {
        "id": "eLcXxfcfEsSe"
      },
      "source": [
        "No entanto, os índices de fatiamento fora do alcance são tratados graciosamente (N.d.T: o termo original “gracefully” indica robustez no tratamento de erros) quando usados para fatiamento. Um índice maior que o comprimento é trocado pelo comprimento, um limite superior menor que o limite inferior produz uma string vazia:"
      ]
    },
    {
      "cell_type": "code",
      "execution_count": null,
      "metadata": {
        "ExecuteTime": {
          "end_time": "2022-01-16T18:52:50.356631Z",
          "start_time": "2022-01-16T18:52:50.351868Z"
        },
        "id": "w2Of9jZVEsSe",
        "outputId": "1d48bada-daa6-4973-a06a-cbef3f471373"
      },
      "outputs": [
        {
          "name": "stdout",
          "output_type": "stream",
          "text": [
            "[30, 40, 50]\n",
            "[]\n"
          ]
        }
      ],
      "source": [
        "print(lista[2:42])\n",
        "print(lista[42:])"
      ]
    },
    {
      "cell_type": "markdown",
      "metadata": {
        "id": "Qv1eDAwGEsSe"
      },
      "source": [
        "O terceiro termo do fatiamento indica o passo a ser aplicado entre cada elemento"
      ]
    },
    {
      "cell_type": "code",
      "execution_count": null,
      "metadata": {
        "ExecuteTime": {
          "end_time": "2022-01-16T18:53:22.548878Z",
          "start_time": "2022-01-16T18:53:22.543936Z"
        },
        "id": "zoSl-hqSEsSe",
        "outputId": "7488fd1f-97b5-4359-f7c7-daa021a7d021"
      },
      "outputs": [
        {
          "data": {
            "text/plain": [
              "[10, 20, 30, 40, 50]"
            ]
          },
          "execution_count": 188,
          "metadata": {},
          "output_type": "execute_result"
        }
      ],
      "source": [
        "lista[0:5:1]"
      ]
    },
    {
      "cell_type": "code",
      "execution_count": null,
      "metadata": {
        "ExecuteTime": {
          "end_time": "2022-01-16T18:53:29.732957Z",
          "start_time": "2022-01-16T18:53:29.727016Z"
        },
        "id": "MqH6iVzWTUmO",
        "outputId": "530abdc7-98ba-478a-eb0a-f5ec1c30c307"
      },
      "outputs": [
        {
          "data": {
            "text/plain": [
              "[10, 30, 50]"
            ]
          },
          "execution_count": 189,
          "metadata": {},
          "output_type": "execute_result"
        }
      ],
      "source": [
        "lista[0:5:2]"
      ]
    },
    {
      "cell_type": "code",
      "execution_count": null,
      "metadata": {
        "ExecuteTime": {
          "end_time": "2022-01-16T18:53:36.821508Z",
          "start_time": "2022-01-16T18:53:36.814493Z"
        },
        "id": "jg2nMY_-TUmP",
        "outputId": "0f8b317f-0143-4080-f21b-8976709cdc66"
      },
      "outputs": [
        {
          "data": {
            "text/plain": [
              "[50, 40, 30]"
            ]
          },
          "execution_count": 190,
          "metadata": {},
          "output_type": "execute_result"
        }
      ],
      "source": [
        "lista[-1:-4:-1]"
      ]
    },
    {
      "cell_type": "markdown",
      "metadata": {
        "id": "cZCffKYDEsSe"
      },
      "source": [
        "Listas também podem ser combinadas entre si utilizando os operadores + e *"
      ]
    },
    {
      "cell_type": "code",
      "execution_count": null,
      "metadata": {
        "ExecuteTime": {
          "end_time": "2022-01-16T18:54:52.469992Z",
          "start_time": "2022-01-16T18:54:52.464045Z"
        },
        "id": "duo3ClBxEsSe",
        "outputId": "d6f668d0-61a0-42f1-ac89-3f49028c0fe2"
      },
      "outputs": [
        {
          "data": {
            "text/plain": [
              "[1, 2, 3, 4, 5, 6]"
            ]
          },
          "execution_count": 192,
          "metadata": {},
          "output_type": "execute_result"
        }
      ],
      "source": [
        "lista1 = [1, 2, 3]\n",
        "lista2 = [4, 5, 6]\n",
        "lista3 = lista1 + lista2\n",
        "lista3"
      ]
    },
    {
      "cell_type": "code",
      "execution_count": null,
      "metadata": {
        "ExecuteTime": {
          "end_time": "2022-01-16T18:55:08.723727Z",
          "start_time": "2022-01-16T18:55:08.718774Z"
        },
        "id": "ao6ZMw-zTUmQ",
        "outputId": "f83141d0-99f2-4b89-b467-773657d13d52"
      },
      "outputs": [
        {
          "data": {
            "text/plain": [
              "[1, 2, 3, 1, 2, 3, 1, 2, 3]"
            ]
          },
          "execution_count": 193,
          "metadata": {},
          "output_type": "execute_result"
        }
      ],
      "source": [
        "lista1 * 3"
      ]
    },
    {
      "cell_type": "markdown",
      "metadata": {
        "id": "l8RG431gEsSe"
      },
      "source": [
        "Listas também aceitam qualquer tipo de objeto incluindo outras listas"
      ]
    },
    {
      "cell_type": "code",
      "execution_count": null,
      "metadata": {
        "ExecuteTime": {
          "end_time": "2022-01-16T18:55:42.676720Z",
          "start_time": "2022-01-16T18:55:42.671761Z"
        },
        "id": "W2i0XAA9EsSf",
        "outputId": "baf6cdd3-c09d-4036-97f8-42d79fb36b8f"
      },
      "outputs": [
        {
          "data": {
            "text/plain": [
              "[0, 2.4, (3+1j), [1, 2, 3]]"
            ]
          },
          "execution_count": 195,
          "metadata": {},
          "output_type": "execute_result"
        }
      ],
      "source": [
        "lista = [0, 2.4, 3 + 1j, [1, 2, 3]]\n",
        "lista"
      ]
    },
    {
      "cell_type": "code",
      "execution_count": null,
      "metadata": {
        "ExecuteTime": {
          "end_time": "2022-01-16T18:56:09.812428Z",
          "start_time": "2022-01-16T18:56:09.807512Z"
        },
        "id": "ZS7sZFNGTUmR",
        "outputId": "635ba70a-b21c-41ff-fd13-2537c992efa7"
      },
      "outputs": [
        {
          "data": {
            "text/plain": [
              "2"
            ]
          },
          "execution_count": 197,
          "metadata": {},
          "output_type": "execute_result"
        }
      ],
      "source": [
        "lista[3][1]"
      ]
    },
    {
      "cell_type": "markdown",
      "metadata": {
        "id": "CR22TeojEsSf"
      },
      "source": [
        "Listas são objetos mútaveis na qual podemos alterar os valores de seus elementos utilizando a sintaxe de atribuição"
      ]
    },
    {
      "cell_type": "code",
      "execution_count": null,
      "metadata": {
        "ExecuteTime": {
          "end_time": "2022-01-16T18:56:43.893557Z",
          "start_time": "2022-01-16T18:56:43.887785Z"
        },
        "id": "b2XqrW4pEsSf",
        "outputId": "4bfadf31-a878-42e6-e11c-840d07161fe6"
      },
      "outputs": [
        {
          "data": {
            "text/plain": [
              "[1, 2, 4]"
            ]
          },
          "execution_count": 198,
          "metadata": {},
          "output_type": "execute_result"
        }
      ],
      "source": [
        "lista = [1, 2, 3]\n",
        "lista[2] = 4\n",
        "lista"
      ]
    },
    {
      "cell_type": "markdown",
      "metadata": {
        "id": "K2be-YTaEsSf"
      },
      "source": [
        "Além disso, elas possuem múltiplos métodos para alterar seu conteúdo (https://docs.python.org/3/tutorial/datastructures.html), abaixo listamos os mais comuns"
      ]
    },
    {
      "cell_type": "markdown",
      "metadata": {
        "ExecuteTime": {
          "end_time": "2021-09-06T23:12:27.466539Z",
          "start_time": "2021-09-06T23:12:27.460555Z"
        },
        "id": "1jnUPQyIEsSf"
      },
      "source": [
        "APPEND: Adiciona um novo elemento ao final da lista"
      ]
    },
    {
      "cell_type": "code",
      "execution_count": null,
      "metadata": {
        "ExecuteTime": {
          "end_time": "2022-01-16T18:57:49.557238Z",
          "start_time": "2022-01-16T18:57:49.551458Z"
        },
        "id": "VSWsgUVWEsSf",
        "outputId": "d013f8c7-7ce2-4640-f720-c23a65cf69b6"
      },
      "outputs": [
        {
          "name": "stdout",
          "output_type": "stream",
          "text": [
            "[1, 2, 3]\n",
            "[1, 2, 3, 4]\n",
            "[1, 2, 3, 4, 5]\n"
          ]
        }
      ],
      "source": [
        "lista = [1, 2, 3]\n",
        "print(lista)\n",
        "lista.append(4)\n",
        "print(lista)\n",
        "lista.append(5)\n",
        "print(lista)"
      ]
    },
    {
      "cell_type": "markdown",
      "metadata": {
        "id": "VBcUq-P8EsSf"
      },
      "source": [
        "REMOVE: Remove a primeira ocorrência de um determinado elemento de uma lista"
      ]
    },
    {
      "cell_type": "code",
      "execution_count": null,
      "metadata": {
        "ExecuteTime": {
          "end_time": "2022-01-16T18:58:27.878263Z",
          "start_time": "2022-01-16T18:58:27.873315Z"
        },
        "id": "TUlwzxDDEsSf",
        "outputId": "4a49429a-32ee-4d7a-855f-a9c855dd91b1"
      },
      "outputs": [
        {
          "name": "stdout",
          "output_type": "stream",
          "text": [
            "[1, 2, 3]\n",
            "[1, 2]\n"
          ]
        }
      ],
      "source": [
        "lista = [1, 2, 3]\n",
        "print(lista)\n",
        "lista.remove(3)\n",
        "print(lista)"
      ]
    },
    {
      "cell_type": "code",
      "execution_count": null,
      "metadata": {
        "ExecuteTime": {
          "end_time": "2022-01-16T18:58:36.478059Z",
          "start_time": "2022-01-16T18:58:36.463336Z"
        },
        "id": "bXYuxyu_TUmT",
        "outputId": "39055066-042d-410c-cb83-d6a6d6b9557f"
      },
      "outputs": [
        {
          "ename": "ValueError",
          "evalue": "list.remove(x): x not in list",
          "output_type": "error",
          "traceback": [
            "\u001b[1;31m---------------------------------------------------------------------------\u001b[0m",
            "\u001b[1;31mValueError\u001b[0m                                Traceback (most recent call last)",
            "Input \u001b[1;32mIn [202]\u001b[0m, in \u001b[0;36m<module>\u001b[1;34m\u001b[0m\n\u001b[1;32m----> 1\u001b[0m \u001b[43mlista\u001b[49m\u001b[38;5;241;43m.\u001b[39;49m\u001b[43mremove\u001b[49m\u001b[43m(\u001b[49m\u001b[38;5;241;43m3\u001b[39;49m\u001b[43m)\u001b[49m\n",
            "\u001b[1;31mValueError\u001b[0m: list.remove(x): x not in list"
          ]
        }
      ],
      "source": [
        "lista.remove(3)"
      ]
    },
    {
      "cell_type": "code",
      "execution_count": null,
      "metadata": {
        "ExecuteTime": {
          "end_time": "2022-01-16T18:59:06.917517Z",
          "start_time": "2022-01-16T18:59:06.912599Z"
        },
        "id": "UARSNU3VTUmT",
        "outputId": "66754b66-6f98-47ea-ff45-5c4429c74273"
      },
      "outputs": [
        {
          "name": "stdout",
          "output_type": "stream",
          "text": [
            "[1, 2, 3, 4, 5, 6, 3]\n",
            "[1, 2, 4, 5, 6, 3]\n"
          ]
        }
      ],
      "source": [
        "lista = [1, 2, 3, 4, 5, 6, 3]\n",
        "print(lista)\n",
        "lista.remove(3)\n",
        "print(lista)"
      ]
    },
    {
      "cell_type": "markdown",
      "metadata": {
        "id": "XWBg73X1EsSf"
      },
      "source": [
        "INSERT: Insere um novo elemento no indice selecionado da lista"
      ]
    },
    {
      "cell_type": "code",
      "execution_count": null,
      "metadata": {
        "ExecuteTime": {
          "end_time": "2022-01-16T18:59:57.446370Z",
          "start_time": "2022-01-16T18:59:57.441365Z"
        },
        "id": "FkAkK4XOEsSf",
        "outputId": "33fe3bb4-6dd9-41ae-edd5-ac3488ce6c6d"
      },
      "outputs": [
        {
          "name": "stdout",
          "output_type": "stream",
          "text": [
            "[1, 2, 3]\n",
            "[1, 1.1, 2, 3]\n"
          ]
        }
      ],
      "source": [
        "lista = [1, 2, 3]\n",
        "print(lista)\n",
        "lista.insert(1, 1.1)\n",
        "print(lista)"
      ]
    },
    {
      "cell_type": "markdown",
      "metadata": {
        "ExecuteTime": {
          "end_time": "2021-09-06T23:14:14.093013Z",
          "start_time": "2021-09-06T23:14:14.085038Z"
        },
        "id": "MokWB-O2EsSh"
      },
      "source": [
        "SORT: Ordena os elementos da lista"
      ]
    },
    {
      "cell_type": "code",
      "execution_count": null,
      "metadata": {
        "ExecuteTime": {
          "end_time": "2022-01-16T19:00:37.572801Z",
          "start_time": "2022-01-16T19:00:37.567849Z"
        },
        "id": "9vqEt_0gEsSh",
        "outputId": "7c7fda43-a690-46fc-a9c1-73bd8e2f47e8"
      },
      "outputs": [
        {
          "name": "stdout",
          "output_type": "stream",
          "text": [
            "[1, 7, 4, 3, 9, 6]\n",
            "[1, 3, 4, 6, 7, 9]\n"
          ]
        }
      ],
      "source": [
        "lista = [1, 7, 4, 3, 9, 6]\n",
        "print(lista)\n",
        "lista.sort()\n",
        "print(lista)"
      ]
    },
    {
      "cell_type": "code",
      "execution_count": null,
      "metadata": {
        "ExecuteTime": {
          "end_time": "2022-01-16T19:01:03.711662Z",
          "start_time": "2022-01-16T19:01:03.695309Z"
        },
        "id": "q9REEtBgTUmV",
        "outputId": "e361aca5-6275-4e6e-d282-7d11d2f65517"
      },
      "outputs": [
        {
          "name": "stdout",
          "output_type": "stream",
          "text": [
            "[1, 7, 4, 3, [9, 6]]\n"
          ]
        },
        {
          "ename": "TypeError",
          "evalue": "'<' not supported between instances of 'list' and 'int'",
          "output_type": "error",
          "traceback": [
            "\u001b[1;31m---------------------------------------------------------------------------\u001b[0m",
            "\u001b[1;31mTypeError\u001b[0m                                 Traceback (most recent call last)",
            "Input \u001b[1;32mIn [206]\u001b[0m, in \u001b[0;36m<module>\u001b[1;34m\u001b[0m\n\u001b[0;32m      1\u001b[0m lista \u001b[38;5;241m=\u001b[39m [\u001b[38;5;241m1\u001b[39m, \u001b[38;5;241m7\u001b[39m, \u001b[38;5;241m4\u001b[39m, \u001b[38;5;241m3\u001b[39m, [\u001b[38;5;241m9\u001b[39m, \u001b[38;5;241m6\u001b[39m]]\n\u001b[0;32m      2\u001b[0m \u001b[38;5;28mprint\u001b[39m(lista)\n\u001b[1;32m----> 3\u001b[0m \u001b[43mlista\u001b[49m\u001b[38;5;241;43m.\u001b[39;49m\u001b[43msort\u001b[49m\u001b[43m(\u001b[49m\u001b[43m)\u001b[49m\n\u001b[0;32m      4\u001b[0m \u001b[38;5;28mprint\u001b[39m(lista)\n",
            "\u001b[1;31mTypeError\u001b[0m: '<' not supported between instances of 'list' and 'int'"
          ]
        }
      ],
      "source": [
        "lista = [1, 7, 4, 3, [9, 6]]\n",
        "print(lista)\n",
        "lista.sort()\n",
        "print(lista)"
      ]
    },
    {
      "cell_type": "markdown",
      "metadata": {
        "id": "Xm_wlrPEEsSh"
      },
      "source": [
        "Assim como range, listas são objetos que podem ser percorridos com for loops"
      ]
    },
    {
      "cell_type": "code",
      "execution_count": null,
      "metadata": {
        "ExecuteTime": {
          "end_time": "2022-01-16T19:01:58.115498Z",
          "start_time": "2022-01-16T19:01:58.111489Z"
        },
        "id": "lTEE7YIeEsSh",
        "outputId": "2ebea9f8-6dba-4ade-9502-cb8fd2774b18"
      },
      "outputs": [
        {
          "name": "stdout",
          "output_type": "stream",
          "text": [
            "1\n",
            "3\n",
            "4\n",
            "7\n",
            "[9, 6]\n"
          ]
        }
      ],
      "source": [
        "for i in lista:\n",
        "    print(i)"
      ]
    },
    {
      "cell_type": "markdown",
      "metadata": {
        "id": "eo7303tqEsSh"
      },
      "source": [
        "E nós também podemos checar o conteúdo de uma lista usando a expressão \"in\""
      ]
    },
    {
      "cell_type": "code",
      "execution_count": null,
      "metadata": {
        "ExecuteTime": {
          "end_time": "2022-01-16T19:02:29.331062Z",
          "start_time": "2022-01-16T19:02:29.327220Z"
        },
        "id": "_CwKL_EEEsSi",
        "outputId": "f5c7b419-49fe-481a-ffbb-842656c49209"
      },
      "outputs": [
        {
          "data": {
            "text/plain": [
              "True"
            ]
          },
          "execution_count": 209,
          "metadata": {},
          "output_type": "execute_result"
        }
      ],
      "source": [
        "3 in lista"
      ]
    },
    {
      "cell_type": "code",
      "execution_count": null,
      "metadata": {
        "ExecuteTime": {
          "end_time": "2022-01-16T19:02:39.109037Z",
          "start_time": "2022-01-16T19:02:39.104120Z"
        },
        "id": "ykXkMCy7TUmX",
        "outputId": "cb116013-8fd0-4b26-d9d0-77c0d09dd48f"
      },
      "outputs": [
        {
          "data": {
            "text/plain": [
              "False"
            ]
          },
          "execution_count": 210,
          "metadata": {},
          "output_type": "execute_result"
        }
      ],
      "source": [
        "6 in lista"
      ]
    },
    {
      "cell_type": "markdown",
      "metadata": {
        "id": "NWP1JAE0EsSi"
      },
      "source": [
        "A função embutida len() devolve o tamanho de uma lista:"
      ]
    },
    {
      "cell_type": "code",
      "execution_count": null,
      "metadata": {
        "ExecuteTime": {
          "end_time": "2022-01-16T19:03:14.084434Z",
          "start_time": "2022-01-16T19:03:14.080493Z"
        },
        "id": "DhILVhcwEsSi",
        "outputId": "90702e7d-7538-4762-f52e-038249542868"
      },
      "outputs": [
        {
          "data": {
            "text/plain": [
              "5"
            ]
          },
          "execution_count": 211,
          "metadata": {},
          "output_type": "execute_result"
        }
      ],
      "source": [
        "len(lista)"
      ]
    },
    {
      "cell_type": "markdown",
      "metadata": {
        "id": "A-gP-CAjEsSi"
      },
      "source": [
        "---"
      ]
    },
    {
      "cell_type": "markdown",
      "metadata": {
        "id": "lYDnuWycEsSi"
      },
      "source": [
        "**Exercício 8**"
      ]
    },
    {
      "cell_type": "markdown",
      "metadata": {
        "id": "xaOwOZzrEsSi"
      },
      "source": [
        "Faça um programa que leia um número indeterminado de valores, correspondentes a notas, encerrando a entrada de dados quando for informado um valor igual a -1 (que não deve ser armazenado).\n",
        "\n",
        "Após esta entrada de dados, faça:\n",
        "1. Mostre a quantidade de valores que foram lidos;\n",
        "1. Exiba todos os valores na ordem em que foram informados;\n",
        "1. Exiba todos os valores na ordem inversa à que foram informados;\n",
        "1. Calcule e mostre a soma dos valores;\n",
        "1. Calcule e mostre a média dos valores;\n",
        "1. Calcule e mostre a quantidade de valores acima da média calculada;\n",
        "1. Calcule e mostre a quantidade de valores abaixo de sete;\n",
        "1. Encerre o programa com uma mensagem;"
      ]
    },
    {
      "cell_type": "code",
      "execution_count": null,
      "metadata": {
        "id": "J0kSYkFQEsSi",
        "solution2": "hidden",
        "solution2_first": true
      },
      "outputs": [],
      "source": []
    },
    {
      "cell_type": "code",
      "execution_count": null,
      "metadata": {
        "cellView": "form",
        "id": "fIsT5ETPEsSi",
        "solution2": "hidden"
      },
      "outputs": [],
      "source": [
        "#@title Resposta\n",
        "notas = []\n",
        "\n",
        "while True:\n",
        "    nota = float(input(\"Digite uma nota: \"))\n",
        "    notas.append(nota)\n",
        "    if nota == -1: break\n",
        "\n",
        "print(\"Foram lidos %i valores.\" % len(notas))\n",
        "\n",
        "print(\"\\nValores informados: \")\n",
        "for nota in notas:\n",
        "    print(nota)\n",
        "\n",
        "print(\"\\nValores informados (ordem inversa): \")\n",
        "notas.reverse()\n",
        "for nota in notas:\n",
        "    print(nota)\n",
        "\n",
        "soma = 0\n",
        "for nota in notas:\n",
        "    soma += nota\n",
        "print(\"\\nA soma de valores é\", soma)\n",
        "\n",
        "soma /= len(notas)\n",
        "print(\"\\nA média dos valores é\", soma)\n",
        "\n",
        "acima = 0\n",
        "for nota in notas:\n",
        "    if nota > soma:\n",
        "        acima += 1\n",
        "print(\"\\nNúmero de notas acima da média é\", acima)\n",
        "\n",
        "abaixo = 0\n",
        "for nota in notas:\n",
        "    if nota < 7:\n",
        "        abaixo += 1\n",
        "print(\"\\nNúmero de notas abaixo de 7 é\", abaixo)"
      ]
    },
    {
      "cell_type": "markdown",
      "metadata": {
        "id": "pT5FGc8lEsSi"
      },
      "source": [
        "---"
      ]
    },
    {
      "cell_type": "markdown",
      "metadata": {
        "id": "Iv3FReD2EsSi"
      },
      "source": [
        "#### Tuplas"
      ]
    },
    {
      "cell_type": "markdown",
      "metadata": {
        "id": "ezfLkEt8EsSi"
      },
      "source": [
        "Uma tupla consiste em uma sequência de valores separados por vírgulas, por exemplo:"
      ]
    },
    {
      "cell_type": "code",
      "execution_count": null,
      "metadata": {
        "ExecuteTime": {
          "end_time": "2022-01-16T19:24:08.694490Z",
          "start_time": "2022-01-16T19:24:08.689536Z"
        },
        "id": "tOE3Gjh4EsSj",
        "outputId": "e1476fa1-8626-48ad-cb80-dab479235bfa"
      },
      "outputs": [
        {
          "data": {
            "text/plain": [
              "(1, 2, 3)"
            ]
          },
          "execution_count": 212,
          "metadata": {},
          "output_type": "execute_result"
        }
      ],
      "source": [
        "tupla = (1, 2, 3)\n",
        "tupla"
      ]
    },
    {
      "cell_type": "code",
      "execution_count": null,
      "metadata": {
        "ExecuteTime": {
          "end_time": "2022-01-16T19:24:15.044602Z",
          "start_time": "2022-01-16T19:24:15.040649Z"
        },
        "id": "1_r1IMVjTUmZ",
        "outputId": "e80d6741-096a-4112-ee27-95841036ed82"
      },
      "outputs": [
        {
          "data": {
            "text/plain": [
              "(1, 2, 3)"
            ]
          },
          "execution_count": 213,
          "metadata": {},
          "output_type": "execute_result"
        }
      ],
      "source": [
        "tupla = 1, 2, 3\n",
        "tupla"
      ]
    },
    {
      "cell_type": "markdown",
      "metadata": {
        "id": "_NIemvOgEsSj"
      },
      "source": [
        "Como você pode ver no trecho acima, na saída do console as tuplas são sempre envolvidas por parênteses, assim tuplas aninhadas podem ser lidas corretamente. Na criação, tuplas podem ser envolvidas ou não por parênteses, desde que o contexto não exija os parênteses (como no caso da tupla dentro de uma expressão maior). Não é possível atribuir itens individuais de uma tupla, contudo é possível criar tuplas que contenham objetos mutáveis, como listas.\n"
      ]
    },
    {
      "cell_type": "code",
      "execution_count": null,
      "metadata": {
        "ExecuteTime": {
          "end_time": "2022-01-16T19:24:46.708738Z",
          "start_time": "2022-01-16T19:24:46.704762Z"
        },
        "id": "6-jw9-oDEsSj",
        "outputId": "e8018028-4601-4a25-f776-9deea6507050"
      },
      "outputs": [
        {
          "data": {
            "text/plain": [
              "(1, 2, [3, 4, 5])"
            ]
          },
          "execution_count": 214,
          "metadata": {},
          "output_type": "execute_result"
        }
      ],
      "source": [
        "tupla = 1, 2, [3, 4, 5]\n",
        "tupla"
      ]
    },
    {
      "cell_type": "markdown",
      "metadata": {
        "id": "RmGBTLFIEsSj"
      },
      "source": [
        "Tuplas são muito similares a listas, entretanto são objetos imutaveis que ocupam menos memória e são mais eficientes computacionalmente"
      ]
    },
    {
      "cell_type": "code",
      "execution_count": null,
      "metadata": {
        "ExecuteTime": {
          "end_time": "2022-01-16T19:25:17.607859Z",
          "start_time": "2022-01-16T19:25:17.602981Z"
        },
        "id": "t0tjPusjEsSj",
        "outputId": "f303c6b7-1829-410d-e80a-5b520034ee04"
      },
      "outputs": [
        {
          "name": "stdout",
          "output_type": "stream",
          "text": [
            "1\n",
            "([3, 4, 5], 2, 1)\n",
            "True\n"
          ]
        }
      ],
      "source": [
        "print(tupla[0])\n",
        "print(tupla[::-1])\n",
        "print(1 in tupla)"
      ]
    },
    {
      "cell_type": "markdown",
      "metadata": {
        "id": "YeFBTcR-EsSj"
      },
      "source": [
        "\n",
        "Apesar de tuplas serem similares a listas, elas são frequentemente utilizadas em situações diferentes e com propósitos distintos. Tuplas são imutáveis, e usualmente contém uma sequência heterogênea de elementos que são acessados via desempacotamento (ver a seguir nessa seção) ou índice (ou mesmo por um atributo no caso de namedtuples). Listas são mutáveis, e seus elementos geralmente são homogêneos e são acessados iterando sobre a lista."
      ]
    },
    {
      "cell_type": "code",
      "execution_count": null,
      "metadata": {
        "ExecuteTime": {
          "end_time": "2022-01-16T19:26:06.782592Z",
          "start_time": "2022-01-16T19:26:06.767825Z"
        },
        "id": "9PCfP2zsEsSj",
        "outputId": "dbb20f6a-eb61-4f0e-f41c-418368689ca7"
      },
      "outputs": [
        {
          "ename": "TypeError",
          "evalue": "'tuple' object does not support item assignment",
          "output_type": "error",
          "traceback": [
            "\u001b[1;31m---------------------------------------------------------------------------\u001b[0m",
            "\u001b[1;31mTypeError\u001b[0m                                 Traceback (most recent call last)",
            "Input \u001b[1;32mIn [216]\u001b[0m, in \u001b[0;36m<module>\u001b[1;34m\u001b[0m\n\u001b[1;32m----> 1\u001b[0m tupla[\u001b[38;5;241m0\u001b[39m] \u001b[38;5;241m=\u001b[39m \u001b[38;5;241m7\u001b[39m\n",
            "\u001b[1;31mTypeError\u001b[0m: 'tuple' object does not support item assignment"
          ]
        }
      ],
      "source": [
        "tupla[0] = 7"
      ]
    },
    {
      "cell_type": "code",
      "execution_count": null,
      "metadata": {
        "ExecuteTime": {
          "end_time": "2022-01-16T19:26:56.054990Z",
          "start_time": "2022-01-16T19:26:56.049031Z"
        },
        "id": "xkXZGZYNTUmb",
        "outputId": "11768ff3-0ecb-4de1-e2c1-cf847a192448"
      },
      "outputs": [
        {
          "data": {
            "text/plain": [
              "[1, 2, [3, 4, 5]]"
            ]
          },
          "execution_count": 217,
          "metadata": {},
          "output_type": "execute_result"
        }
      ],
      "source": [
        "lista = list(tupla)\n",
        "lista"
      ]
    },
    {
      "cell_type": "code",
      "execution_count": null,
      "metadata": {
        "ExecuteTime": {
          "end_time": "2022-01-16T19:27:13.876628Z",
          "start_time": "2022-01-16T19:27:13.871757Z"
        },
        "id": "6mD5eVcuTUmb",
        "outputId": "535fd35d-4597-4902-bee9-ccbc8281b9c5"
      },
      "outputs": [
        {
          "data": {
            "text/plain": [
              "(1, 2, [3, 4, 5])"
            ]
          },
          "execution_count": 219,
          "metadata": {},
          "output_type": "execute_result"
        }
      ],
      "source": [
        "tupla = tuple(lista)\n",
        "tupla"
      ]
    },
    {
      "cell_type": "markdown",
      "metadata": {
        "id": "LcXpBnMyEsSj"
      },
      "source": [
        "Um problema especial é a criação de tuplas contendo 0 ou 1 itens: a sintaxe usa certos truques para acomodar estes casos. Tuplas vazias são construídas por um par de parênteses vazios; uma tupla unitária é construída por um único valor e uma vírgula entre parênteses (não basta colocar um único valor entre parênteses). Feio, mas funciona. Por exemplo:"
      ]
    },
    {
      "cell_type": "code",
      "execution_count": null,
      "metadata": {
        "ExecuteTime": {
          "end_time": "2022-01-16T19:28:00.756834Z",
          "start_time": "2022-01-16T19:28:00.752027Z"
        },
        "id": "HB5e-hi5EsSj",
        "outputId": "2b56bd76-ef54-42f5-cc2e-b21f934a7442"
      },
      "outputs": [
        {
          "data": {
            "text/plain": [
              "(1,)"
            ]
          },
          "execution_count": 222,
          "metadata": {},
          "output_type": "execute_result"
        }
      ],
      "source": [
        "tupla = (1, )\n",
        "tupla"
      ]
    },
    {
      "cell_type": "code",
      "execution_count": null,
      "metadata": {
        "ExecuteTime": {
          "end_time": "2022-01-16T19:28:20.308242Z",
          "start_time": "2022-01-16T19:28:20.303340Z"
        },
        "id": "d7QtGIGCTUmc",
        "outputId": "0e4d0c25-b733-4d88-dd23-a7275fc59c39"
      },
      "outputs": [
        {
          "data": {
            "text/plain": [
              "tuple"
            ]
          },
          "execution_count": 224,
          "metadata": {},
          "output_type": "execute_result"
        }
      ],
      "source": [
        "tupla = ()\n",
        "type(tupla)"
      ]
    },
    {
      "cell_type": "markdown",
      "metadata": {
        "id": "JsFvDGdoEsSj"
      },
      "source": [
        "---"
      ]
    },
    {
      "cell_type": "markdown",
      "metadata": {
        "id": "toq4xEzDEsSj"
      },
      "source": [
        "#### Dicionários"
      ]
    },
    {
      "cell_type": "markdown",
      "metadata": {
        "id": "Cv36zEcWEsSj"
      },
      "source": [
        "Outra estrutura de dados muito útil embutida em Python é o dicionário, cujo tipo é dict. Dicionários são também chamados de “memória associativa” ou “vetor associativo” em outras linguagens. Diferente de sequências que são indexadas por inteiros, dicionários são indexados por chaves (keys), que podem ser de qualquer tipo imutável (como strings e inteiros). Tuplas também podem ser chaves se contiverem apenas strings, inteiros ou outras tuplas. Se a tupla contiver, direta ou indiretamente, qualquer valor mutável, não poderá ser chave. Listas não podem ser usadas como chaves porque podem ser modificadas internamente pela atribuição em índices ou fatias, e por métodos como append() e extend().\n",
        "\n",
        "Um bom modelo mental é imaginar um dicionário como um conjunto não-ordenado de pares chave:valor, onde as chaves são únicas em uma dada instância do dicionário. Dicionários são delimitados por chaves: {}, e contém uma lista de pares chave:valor separada por vírgulas. Dessa forma também será exibido o conteúdo de um dicionário no console do Python. O dicionário vazio é {}."
      ]
    },
    {
      "cell_type": "code",
      "execution_count": null,
      "metadata": {
        "ExecuteTime": {
          "end_time": "2022-01-16T19:33:01.814455Z",
          "start_time": "2022-01-16T19:33:01.809504Z"
        },
        "id": "NRrrQ595EsSj",
        "outputId": "9f72ad2a-22f6-4152-e93a-d50b5391685c"
      },
      "outputs": [
        {
          "data": {
            "text/plain": [
              "{'nome': 'Pedro', 'sobrenome': 'Forli', 'idade': 20}"
            ]
          },
          "execution_count": 225,
          "metadata": {},
          "output_type": "execute_result"
        }
      ],
      "source": [
        "dicionario = {\"nome\": \"Pedro\", \"sobrenome\": \"Forli\", \"idade\": 20}\n",
        "dicionario"
      ]
    },
    {
      "cell_type": "code",
      "execution_count": null,
      "metadata": {
        "ExecuteTime": {
          "end_time": "2022-01-16T19:33:11.605158Z",
          "start_time": "2022-01-16T19:33:11.600176Z"
        },
        "id": "O3c-UG2sTUmd",
        "outputId": "1da9f641-6b8e-49aa-9a2e-a78894a0b512"
      },
      "outputs": [
        {
          "data": {
            "text/plain": [
              "'Pedro'"
            ]
          },
          "execution_count": 226,
          "metadata": {},
          "output_type": "execute_result"
        }
      ],
      "source": [
        "dicionario[\"nome\"]"
      ]
    },
    {
      "cell_type": "markdown",
      "metadata": {
        "id": "NyAmOejEEsSj"
      },
      "source": [
        "As principais operações em um dicionário são armazenar e recuperar valores a partir de chaves. Também é possível remover um par chave:valor com o comando del. Se você armazenar um valor utilizando uma chave já presente, o antigo valor será substituído pelo novo. Se tentar recuperar um valor usando uma chave inexistente, será gerado um erro."
      ]
    },
    {
      "cell_type": "code",
      "execution_count": null,
      "metadata": {
        "ExecuteTime": {
          "end_time": "2022-01-16T19:33:57.572995Z",
          "start_time": "2022-01-16T19:33:57.569077Z"
        },
        "id": "8enM6IJsEsSj",
        "outputId": "250330b5-af2c-48a0-c592-9eb461148673"
      },
      "outputs": [
        {
          "name": "stdout",
          "output_type": "stream",
          "text": [
            "{'nome': 'Pedro', 'sobrenome': 'Forli', 'idade': 20}\n",
            "{'nome': 'Pedro', 'sobrenome': 'Forli'}\n"
          ]
        }
      ],
      "source": [
        "print(dicionario)\n",
        "del dicionario[\"idade\"]\n",
        "print(dicionario)"
      ]
    },
    {
      "cell_type": "code",
      "execution_count": null,
      "metadata": {
        "ExecuteTime": {
          "end_time": "2022-01-16T19:34:11.221430Z",
          "start_time": "2022-01-16T19:34:11.216457Z"
        },
        "id": "UABYG6HgTUmf",
        "outputId": "6670be77-0508-444b-8f64-f4a69b6bdfb1"
      },
      "outputs": [
        {
          "data": {
            "text/plain": [
              "{'nome': 'Mateus', 'sobrenome': 'Forli'}"
            ]
          },
          "execution_count": 228,
          "metadata": {},
          "output_type": "execute_result"
        }
      ],
      "source": [
        "dicionario[\"nome\"] = \"Mateus\"\n",
        "dicionario"
      ]
    },
    {
      "cell_type": "code",
      "execution_count": null,
      "metadata": {
        "ExecuteTime": {
          "end_time": "2022-01-16T19:34:19.381095Z",
          "start_time": "2022-01-16T19:34:19.376243Z"
        },
        "id": "fcH8S6LhTUmf",
        "outputId": "fca1ff8e-928a-4789-d526-1908ab227181"
      },
      "outputs": [
        {
          "data": {
            "text/plain": [
              "'Mateus'"
            ]
          },
          "execution_count": 229,
          "metadata": {},
          "output_type": "execute_result"
        }
      ],
      "source": [
        "dicionario[\"nome\"]"
      ]
    },
    {
      "cell_type": "code",
      "execution_count": null,
      "metadata": {
        "ExecuteTime": {
          "end_time": "2022-01-16T19:34:23.554707Z",
          "start_time": "2022-01-16T19:34:23.504522Z"
        },
        "id": "bjavpxpcTUmf",
        "outputId": "a2374b81-50c0-4199-fea2-ee683fc02ff4"
      },
      "outputs": [
        {
          "ename": "KeyError",
          "evalue": "'idade'",
          "output_type": "error",
          "traceback": [
            "\u001b[1;31m---------------------------------------------------------------------------\u001b[0m",
            "\u001b[1;31mKeyError\u001b[0m                                  Traceback (most recent call last)",
            "Input \u001b[1;32mIn [230]\u001b[0m, in \u001b[0;36m<module>\u001b[1;34m\u001b[0m\n\u001b[1;32m----> 1\u001b[0m \u001b[43mdicionario\u001b[49m\u001b[43m[\u001b[49m\u001b[38;5;124;43m\"\u001b[39;49m\u001b[38;5;124;43midade\u001b[39;49m\u001b[38;5;124;43m\"\u001b[39;49m\u001b[43m]\u001b[49m\n",
            "\u001b[1;31mKeyError\u001b[0m: 'idade'"
          ]
        }
      ],
      "source": [
        "dicionario[\"idade\"]"
      ]
    },
    {
      "cell_type": "markdown",
      "metadata": {
        "id": "WwG0L2xmEsSk"
      },
      "source": [
        "Executar list(d) em um dicionário devolve a lista de todas as chaves presentes no dicionário, na ordem de inserção (se desejar ordená-las basta usar a função sorted(d)). Para verificar a existência de uma chave, use o operador in."
      ]
    },
    {
      "cell_type": "code",
      "execution_count": null,
      "metadata": {
        "ExecuteTime": {
          "end_time": "2022-01-16T19:35:22.709628Z",
          "start_time": "2022-01-16T19:35:22.705212Z"
        },
        "id": "iAw2h2G_EsSk",
        "outputId": "336b921b-045a-4c9e-d727-203372d4ee97"
      },
      "outputs": [
        {
          "data": {
            "text/plain": [
              "False"
            ]
          },
          "execution_count": 231,
          "metadata": {},
          "output_type": "execute_result"
        }
      ],
      "source": [
        "\"Mateus\" in dicionario"
      ]
    },
    {
      "cell_type": "code",
      "execution_count": null,
      "metadata": {
        "ExecuteTime": {
          "end_time": "2022-01-16T19:35:29.638047Z",
          "start_time": "2022-01-16T19:35:29.632203Z"
        },
        "id": "4YbnHu1YTUmh",
        "outputId": "f748838c-2f9d-4098-b317-2f28177411cc"
      },
      "outputs": [
        {
          "data": {
            "text/plain": [
              "True"
            ]
          },
          "execution_count": 232,
          "metadata": {},
          "output_type": "execute_result"
        }
      ],
      "source": [
        "\"nome\" in dicionario"
      ]
    },
    {
      "cell_type": "code",
      "execution_count": null,
      "metadata": {
        "ExecuteTime": {
          "end_time": "2022-01-16T19:35:38.244117Z",
          "start_time": "2022-01-16T19:35:38.239334Z"
        },
        "id": "d3DDwK3FTUmh",
        "outputId": "f984abfc-7e76-4e52-ac7f-820e5679d112"
      },
      "outputs": [
        {
          "data": {
            "text/plain": [
              "['nome', 'sobrenome']"
            ]
          },
          "execution_count": 233,
          "metadata": {},
          "output_type": "execute_result"
        }
      ],
      "source": [
        "list(dicionario)"
      ]
    },
    {
      "cell_type": "code",
      "execution_count": null,
      "metadata": {
        "ExecuteTime": {
          "end_time": "2022-01-16T19:35:49.332060Z",
          "start_time": "2022-01-16T19:35:49.329080Z"
        },
        "id": "P0cmgREXTUmh",
        "outputId": "567f1927-5928-4710-c3a1-bbf0d9e9681b"
      },
      "outputs": [
        {
          "data": {
            "text/plain": [
              "('nome', 'sobrenome')"
            ]
          },
          "execution_count": 235,
          "metadata": {},
          "output_type": "execute_result"
        }
      ],
      "source": [
        "tuple(dicionario)"
      ]
    },
    {
      "cell_type": "markdown",
      "metadata": {
        "id": "n8kOmamiEsSk"
      },
      "source": [
        "Dicionários, assim como listas, possuem métodos pré-definidos que ajudam a trabalhar com a estrutura"
      ]
    },
    {
      "cell_type": "markdown",
      "metadata": {
        "id": "nnoddv52EsSk"
      },
      "source": [
        "KEYS: Lista de chaves do dicionário"
      ]
    },
    {
      "cell_type": "code",
      "execution_count": null,
      "metadata": {
        "ExecuteTime": {
          "end_time": "2022-01-16T19:36:46.837341Z",
          "start_time": "2022-01-16T19:36:46.833342Z"
        },
        "id": "p7vqBtgFEsSk",
        "outputId": "54570bb2-6253-4065-aac1-f2c1287fc8f3"
      },
      "outputs": [
        {
          "name": "stdout",
          "output_type": "stream",
          "text": [
            "nome\n",
            "sobrenome\n"
          ]
        }
      ],
      "source": [
        "for k in dicionario.keys():\n",
        "    print(k)"
      ]
    },
    {
      "cell_type": "code",
      "execution_count": null,
      "metadata": {
        "ExecuteTime": {
          "end_time": "2022-01-16T19:36:56.180513Z",
          "start_time": "2022-01-16T19:36:56.176564Z"
        },
        "id": "oem3BvUeTUmi",
        "outputId": "eb6e436a-8529-4577-b532-a0deca100740"
      },
      "outputs": [
        {
          "data": {
            "text/plain": [
              "True"
            ]
          },
          "execution_count": 238,
          "metadata": {},
          "output_type": "execute_result"
        }
      ],
      "source": [
        "\"nome\" in dicionario.keys()"
      ]
    },
    {
      "cell_type": "code",
      "execution_count": null,
      "metadata": {
        "ExecuteTime": {
          "end_time": "2022-01-16T19:37:07.204023Z",
          "start_time": "2022-01-16T19:37:07.199190Z"
        },
        "id": "X9Wr7Rp7TUmi",
        "outputId": "7f84d822-8fbf-4e72-bb84-3ea1bb940f28"
      },
      "outputs": [
        {
          "name": "stdout",
          "output_type": "stream",
          "text": [
            "nome\n",
            "sobrenome\n"
          ]
        }
      ],
      "source": [
        "for k in dicionario:\n",
        "    print(k)"
      ]
    },
    {
      "cell_type": "markdown",
      "metadata": {
        "id": "RXTChLjmEsSk"
      },
      "source": [
        "VALUES: Lista de valores do dicionário"
      ]
    },
    {
      "cell_type": "code",
      "execution_count": null,
      "metadata": {
        "ExecuteTime": {
          "end_time": "2022-01-16T19:37:26.053537Z",
          "start_time": "2022-01-16T19:37:26.048622Z"
        },
        "id": "r8y2wZ_AEsSk",
        "outputId": "0fa4400f-c9f8-4b43-da20-ef00aebe7f4b"
      },
      "outputs": [
        {
          "data": {
            "text/plain": [
              "dict_values(['Mateus', 'Forli'])"
            ]
          },
          "execution_count": 240,
          "metadata": {},
          "output_type": "execute_result"
        }
      ],
      "source": [
        "dicionario.values()"
      ]
    },
    {
      "cell_type": "code",
      "execution_count": null,
      "metadata": {
        "ExecuteTime": {
          "end_time": "2022-01-16T19:37:36.997065Z",
          "start_time": "2022-01-16T19:37:36.991245Z"
        },
        "id": "dMe56Uh_TUmj",
        "outputId": "1c623602-4000-44c2-a084-5ab91e7f8a61"
      },
      "outputs": [
        {
          "data": {
            "text/plain": [
              "['Mateus', 'Forli']"
            ]
          },
          "execution_count": 241,
          "metadata": {},
          "output_type": "execute_result"
        }
      ],
      "source": [
        "list(dicionario.values())"
      ]
    },
    {
      "cell_type": "code",
      "execution_count": null,
      "metadata": {
        "ExecuteTime": {
          "end_time": "2022-01-16T19:37:41.908119Z",
          "start_time": "2022-01-16T19:37:41.904197Z"
        },
        "id": "loPqGS6ITUmk",
        "outputId": "8d4862dd-ea6a-4218-d710-6c37ff26cd12"
      },
      "outputs": [
        {
          "data": {
            "text/plain": [
              "True"
            ]
          },
          "execution_count": 242,
          "metadata": {},
          "output_type": "execute_result"
        }
      ],
      "source": [
        "\"Mateus\" in dicionario.values()"
      ]
    },
    {
      "cell_type": "markdown",
      "metadata": {
        "id": "TRLid7baEsSk"
      },
      "source": [
        "ITEMS: Pares de chave e valor"
      ]
    },
    {
      "cell_type": "code",
      "execution_count": null,
      "metadata": {
        "ExecuteTime": {
          "end_time": "2022-01-16T19:38:01.653002Z",
          "start_time": "2022-01-16T19:38:01.648171Z"
        },
        "id": "GD8g6gdOEsSk",
        "outputId": "5c6506c9-72ae-4d00-a770-dd88410c4d82"
      },
      "outputs": [
        {
          "data": {
            "text/plain": [
              "dict_items([('nome', 'Mateus'), ('sobrenome', 'Forli')])"
            ]
          },
          "execution_count": 243,
          "metadata": {},
          "output_type": "execute_result"
        }
      ],
      "source": [
        "dicionario.items()"
      ]
    },
    {
      "cell_type": "code",
      "execution_count": null,
      "metadata": {
        "ExecuteTime": {
          "end_time": "2022-01-16T19:38:41.479177Z",
          "start_time": "2022-01-16T19:38:41.474326Z"
        },
        "id": "MYANvalFTUmk",
        "outputId": "fe540e85-ed92-4ab0-ee69-8d273f73e541"
      },
      "outputs": [
        {
          "name": "stdout",
          "output_type": "stream",
          "text": [
            "nome -> Mateus\n",
            "sobrenome -> Forli\n"
          ]
        }
      ],
      "source": [
        "for k, v in dicionario.items():\n",
        "    print(k, \"->\", v)"
      ]
    },
    {
      "cell_type": "markdown",
      "metadata": {
        "id": "VryaBHPlEsSk"
      },
      "source": [
        "GET: Obtém o valor do dicionário"
      ]
    },
    {
      "cell_type": "code",
      "execution_count": null,
      "metadata": {
        "ExecuteTime": {
          "end_time": "2022-01-16T19:39:05.093125Z",
          "start_time": "2022-01-16T19:39:05.088243Z"
        },
        "id": "jpRhy8V-EsSk",
        "outputId": "4fe4eefc-e79d-4b66-a469-40052a5294fd"
      },
      "outputs": [
        {
          "data": {
            "text/plain": [
              "'Mateus'"
            ]
          },
          "execution_count": 245,
          "metadata": {},
          "output_type": "execute_result"
        }
      ],
      "source": [
        "dicionario[\"nome\"]"
      ]
    },
    {
      "cell_type": "code",
      "execution_count": null,
      "metadata": {
        "ExecuteTime": {
          "end_time": "2022-01-16T19:39:12.180799Z",
          "start_time": "2022-01-16T19:39:12.176463Z"
        },
        "id": "VyLXZKk3TUml",
        "outputId": "d3cfc05f-d1ef-4295-cafb-d8c079602834"
      },
      "outputs": [
        {
          "data": {
            "text/plain": [
              "'Mateus'"
            ]
          },
          "execution_count": 246,
          "metadata": {},
          "output_type": "execute_result"
        }
      ],
      "source": [
        "dicionario.get(\"nome\")"
      ]
    },
    {
      "cell_type": "code",
      "execution_count": null,
      "metadata": {
        "ExecuteTime": {
          "end_time": "2022-01-16T19:39:22.862774Z",
          "start_time": "2022-01-16T19:39:22.848941Z"
        },
        "id": "niYSAbN5TUml",
        "outputId": "8ec6df8b-1358-4e02-968f-22452815de76"
      },
      "outputs": [
        {
          "ename": "KeyError",
          "evalue": "'idade'",
          "output_type": "error",
          "traceback": [
            "\u001b[1;31m---------------------------------------------------------------------------\u001b[0m",
            "\u001b[1;31mKeyError\u001b[0m                                  Traceback (most recent call last)",
            "Input \u001b[1;32mIn [247]\u001b[0m, in \u001b[0;36m<module>\u001b[1;34m\u001b[0m\n\u001b[1;32m----> 1\u001b[0m \u001b[43mdicionario\u001b[49m\u001b[43m[\u001b[49m\u001b[38;5;124;43m\"\u001b[39;49m\u001b[38;5;124;43midade\u001b[39;49m\u001b[38;5;124;43m\"\u001b[39;49m\u001b[43m]\u001b[49m\n",
            "\u001b[1;31mKeyError\u001b[0m: 'idade'"
          ]
        }
      ],
      "source": [
        "dicionario[\"idade\"]"
      ]
    },
    {
      "cell_type": "code",
      "execution_count": null,
      "metadata": {
        "ExecuteTime": {
          "end_time": "2022-01-16T19:39:29.300515Z",
          "start_time": "2022-01-16T19:39:29.296555Z"
        },
        "id": "aPhQ1iXITUml"
      },
      "outputs": [],
      "source": [
        "dicionario.get(\"idade\")"
      ]
    },
    {
      "cell_type": "markdown",
      "metadata": {
        "id": "nrTZ6XpiEsSk"
      },
      "source": [
        "---"
      ]
    },
    {
      "cell_type": "markdown",
      "metadata": {
        "id": "nyQRk1h4EsSk"
      },
      "source": [
        "**Exercício 9**"
      ]
    },
    {
      "cell_type": "markdown",
      "metadata": {
        "id": "zwKo34Y-EsSl"
      },
      "source": [
        "Escreva um programa que receba quantas entradas o usuário desejar e depois\n",
        "crie um novo contato para cada entrada (Nome, Telefone, Endereço, Email), e\n",
        "por fim imprima, em ordem alfabética, a agenda de contatos"
      ]
    },
    {
      "cell_type": "code",
      "execution_count": null,
      "metadata": {
        "id": "wuLJiKOPEsSl",
        "solution2": "hidden",
        "solution2_first": true
      },
      "outputs": [],
      "source": []
    },
    {
      "cell_type": "code",
      "execution_count": null,
      "metadata": {
        "cellView": "form",
        "id": "NAb_4YL9EsSl",
        "solution2": "hidden"
      },
      "outputs": [],
      "source": [
        "#@title Resposta\n",
        "nomes = []\n",
        "agenda = {}\n",
        "\n",
        "while True:\n",
        "    ordem = input('Deseja adicionar um novo contato(add) ou parar a execução(stop)').lower()\n",
        "\n",
        "    if not ordem.isalpha():\n",
        "        print(\"Digite apenas letras!\")\n",
        "\n",
        "    elif ordem.startswith('a'):\n",
        "        contato = {}\n",
        "\n",
        "\n",
        "        nome = input('Digite o nome do contato: ')\n",
        "        if not nome[0].isupper():\n",
        "            nome = nome[0].upper() + nome[1:]\n",
        "\n",
        "        nomes.append(nome)\n",
        "\n",
        "        tel = input('Digite o telefone do contato: ')\n",
        "        contato['Telefone'] = tel\n",
        "\n",
        "        end = input('Digite o endereço do contato: ')\n",
        "        contato['Endereço'] = end\n",
        "\n",
        "        email = input('Digite o Email do contato: ')\n",
        "        contato['Email'] = email\n",
        "\n",
        "        agenda[nome] = contato\n",
        "\n",
        "    elif ordem.startswith('s'):\n",
        "        break\n",
        "\n",
        "print('A G E N D A\\n')\n",
        "nomes.sort()\n",
        "for nome in nomes:\n",
        "    print('Nome: ', nome)\n",
        "    print('Telefone: ', agenda[nome]['Telefone'])\n",
        "    print('Endereço: ', agenda[nome]['Endereço'])\n",
        "    print('Email: ', agenda[nome]['Email'])\n",
        "    print()"
      ]
    },
    {
      "cell_type": "markdown",
      "metadata": {
        "id": "fBJNCYcNEsSl"
      },
      "source": [
        "---"
      ]
    },
    {
      "cell_type": "markdown",
      "metadata": {
        "id": "hkWrocc3EsSl"
      },
      "source": [
        "#### Sets"
      ]
    },
    {
      "cell_type": "markdown",
      "metadata": {
        "id": "Nx8jFmymEsSl"
      },
      "source": [
        "Python também inclui um tipo de dados para conjuntos, chamado set. Um conjunto é uma coleção desordenada de elementos, sem elementos repetidos. Usos comuns para conjuntos incluem a verificação eficiente da existência de objetos e a eliminação de itens duplicados. Conjuntos também suportam operações matemáticas como união, interseção, diferença e diferença simétrica.\n",
        "\n",
        "Chaves ou a função set() podem ser usados para criar conjuntos. Note: para criar um conjunto vazio você precisa usar set(), não {}; este último cria um dicionário vazio."
      ]
    },
    {
      "cell_type": "code",
      "execution_count": null,
      "metadata": {
        "ExecuteTime": {
          "end_time": "2022-01-16T19:42:28.598504Z",
          "start_time": "2022-01-16T19:42:28.593675Z"
        },
        "id": "eirMZ35vEsSl",
        "outputId": "4f966829-88e3-4c07-bb47-7a964222253c"
      },
      "outputs": [
        {
          "data": {
            "text/plain": [
              "{1, 2, 3}"
            ]
          },
          "execution_count": 249,
          "metadata": {},
          "output_type": "execute_result"
        }
      ],
      "source": [
        "conj = {1, 2, 3}\n",
        "conj"
      ]
    },
    {
      "cell_type": "code",
      "execution_count": null,
      "metadata": {
        "ExecuteTime": {
          "end_time": "2022-01-16T19:42:47.253702Z",
          "start_time": "2022-01-16T19:42:47.248809Z"
        },
        "id": "4c9d-nzETUmn",
        "outputId": "bbfbcb9b-751e-49df-9a0f-1457ca60e53b"
      },
      "outputs": [
        {
          "data": {
            "text/plain": [
              "{1, 2, 3}"
            ]
          },
          "execution_count": 250,
          "metadata": {},
          "output_type": "execute_result"
        }
      ],
      "source": [
        "conj = set([1, 2, 3])\n",
        "conj"
      ]
    },
    {
      "cell_type": "code",
      "execution_count": null,
      "metadata": {
        "ExecuteTime": {
          "end_time": "2022-01-16T19:43:09.653787Z",
          "start_time": "2022-01-16T19:43:09.648847Z"
        },
        "id": "ICSO2ayQTUmo",
        "outputId": "75a00570-31f5-430e-9b87-57086deb4eca"
      },
      "outputs": [
        {
          "data": {
            "text/plain": [
              "{1, 2, 3, 4, 5}"
            ]
          },
          "execution_count": 251,
          "metadata": {},
          "output_type": "execute_result"
        }
      ],
      "source": [
        "{1, 2, 3, 3, 3, 4, 5}"
      ]
    },
    {
      "cell_type": "code",
      "execution_count": null,
      "metadata": {
        "ExecuteTime": {
          "end_time": "2022-01-16T19:43:33.712607Z",
          "start_time": "2022-01-16T19:43:33.698224Z"
        },
        "id": "nJYYyKcSTUmo",
        "outputId": "f12e6d78-fcc7-4024-d7be-0e91791b3257"
      },
      "outputs": [
        {
          "ename": "TypeError",
          "evalue": "'set' object is not subscriptable",
          "output_type": "error",
          "traceback": [
            "\u001b[1;31m---------------------------------------------------------------------------\u001b[0m",
            "\u001b[1;31mTypeError\u001b[0m                                 Traceback (most recent call last)",
            "Input \u001b[1;32mIn [252]\u001b[0m, in \u001b[0;36m<module>\u001b[1;34m\u001b[0m\n\u001b[1;32m----> 1\u001b[0m \u001b[43mconj\u001b[49m\u001b[43m[\u001b[49m\u001b[38;5;241;43m0\u001b[39;49m\u001b[43m]\u001b[49m\n",
            "\u001b[1;31mTypeError\u001b[0m: 'set' object is not subscriptable"
          ]
        }
      ],
      "source": [
        "conj[0]"
      ]
    },
    {
      "cell_type": "markdown",
      "metadata": {
        "id": "OfJSj7WpEsSl"
      },
      "source": [
        "Sets permitem calculos de conjuntos como intersecção, sub e superset"
      ]
    },
    {
      "cell_type": "code",
      "execution_count": null,
      "metadata": {
        "ExecuteTime": {
          "end_time": "2022-01-16T19:45:42.758233Z",
          "start_time": "2022-01-16T19:45:42.753275Z"
        },
        "id": "kM5D7Xv0EsSl",
        "outputId": "13c4bc5f-6d59-4550-8ebe-e35d304d2270"
      },
      "outputs": [
        {
          "name": "stdout",
          "output_type": "stream",
          "text": [
            "{1, 2}\n",
            "{3}\n",
            "True\n",
            "True\n"
          ]
        }
      ],
      "source": [
        "conj1 = {1, 2, 3}\n",
        "conj2 = {3, 4, 5}\n",
        "conj3 = {1, 2, 3, 4, 5}\n",
        "\n",
        "print(conj1 - conj2)\n",
        "print(conj1.intersection(conj2))\n",
        "print(conj3.issuperset(conj2))\n",
        "print(conj1.issubset(conj3))"
      ]
    },
    {
      "cell_type": "code",
      "execution_count": null,
      "metadata": {
        "ExecuteTime": {
          "end_time": "2022-01-16T19:46:19.286008Z",
          "start_time": "2022-01-16T19:46:19.281070Z"
        },
        "id": "gKRTrFVOTUmp",
        "outputId": "bae30538-3584-4d69-e53e-60af8221f539"
      },
      "outputs": [
        {
          "data": {
            "text/plain": [
              "[1, 2, 3, 4, 5, 6, 7, 8]"
            ]
          },
          "execution_count": 258,
          "metadata": {},
          "output_type": "execute_result"
        }
      ],
      "source": [
        "list(set([1, 2, 3, 4, 5, 5, 6, 7, 8, 8]))"
      ]
    },
    {
      "cell_type": "markdown",
      "metadata": {
        "id": "t-JIVCx7EsSl"
      },
      "source": [
        "---"
      ]
    },
    {
      "cell_type": "markdown",
      "metadata": {
        "id": "_7ioi2vMEsSl"
      },
      "source": [
        "### Variáveis de Texto"
      ]
    },
    {
      "cell_type": "markdown",
      "metadata": {
        "id": "Hftc9eD6EsSl"
      },
      "source": [
        "Além de números, Python também pode manipular strings (sequências de caracteres), que podem ser expressas de diversas formas. Elas podem ser delimitadas por aspas simples ('...') ou duplas (\"...\") e teremos o mesmo resultado. \\ pode ser usada para escapar aspas:"
      ]
    },
    {
      "cell_type": "code",
      "execution_count": null,
      "metadata": {
        "ExecuteTime": {
          "end_time": "2022-01-16T21:12:13.655228Z",
          "start_time": "2022-01-16T21:12:13.650358Z"
        },
        "id": "YrkC5WKITUmq",
        "outputId": "6d548765-5ebc-4d9e-8d9c-0c2c0f6d6dae"
      },
      "outputs": [
        {
          "data": {
            "text/plain": [
              "'Olá mundo'"
            ]
          },
          "execution_count": 265,
          "metadata": {},
          "output_type": "execute_result"
        }
      ],
      "source": [
        "\"Olá mundo\""
      ]
    },
    {
      "cell_type": "code",
      "execution_count": null,
      "metadata": {
        "ExecuteTime": {
          "end_time": "2022-01-16T21:12:24.581018Z",
          "start_time": "2022-01-16T21:12:24.578105Z"
        },
        "id": "AiyImVSwTUmr"
      },
      "outputs": [],
      "source": [
        "a = \"Olá mundo\""
      ]
    },
    {
      "cell_type": "code",
      "execution_count": null,
      "metadata": {
        "ExecuteTime": {
          "end_time": "2022-01-16T21:12:26.213902Z",
          "start_time": "2022-01-16T21:12:26.209036Z"
        },
        "id": "AcbgHdqvTUmr",
        "outputId": "b1dfdd71-b4bb-4213-f55d-72b54206e204"
      },
      "outputs": [
        {
          "data": {
            "text/plain": [
              "'Olá mundo'"
            ]
          },
          "execution_count": 267,
          "metadata": {},
          "output_type": "execute_result"
        }
      ],
      "source": [
        "a"
      ]
    },
    {
      "cell_type": "code",
      "execution_count": null,
      "metadata": {
        "ExecuteTime": {
          "end_time": "2022-01-16T21:13:38.133097Z",
          "start_time": "2022-01-16T21:13:38.128176Z"
        },
        "id": "eFzPrrV5TUmr",
        "outputId": "6c3a3d47-4ab9-4ca7-dbab-c6db348cd563"
      },
      "outputs": [
        {
          "data": {
            "text/plain": [
              "'Ele disse \"eu gosto de sorvete\"'"
            ]
          },
          "execution_count": 268,
          "metadata": {},
          "output_type": "execute_result"
        }
      ],
      "source": [
        "\"Ele disse \\\"eu gosto de sorvete\\\"\""
      ]
    },
    {
      "cell_type": "markdown",
      "metadata": {
        "id": "m1j7P64vEsSm"
      },
      "source": [
        "Na interpretação interativa, a string de saída é delimitada com aspas e caracteres especiais são escapados com barras invertidas. Embora isso possa às vezes parecer diferente da entrada (as aspas podem mudar), as duas strings são equivalentes. A string é delimitada com aspas duplas se a string contiver uma única aspa simples e nenhuma aspa dupla, caso contrário, ela é delimitada com aspas simples."
      ]
    },
    {
      "cell_type": "markdown",
      "metadata": {
        "id": "i07GXkUNEsSm"
      },
      "source": [
        "Se não quiseres que os caracteres sejam precedidos por \\ para serem interpretados como caracteres especiais, poderás usar strings raw (N.d.T: “crua” ou sem processamento de caracteres de escape) adicionando um r antes da primeira aspa:"
      ]
    },
    {
      "cell_type": "code",
      "execution_count": null,
      "metadata": {
        "ExecuteTime": {
          "end_time": "2022-01-16T21:14:48.165727Z",
          "start_time": "2022-01-16T21:14:48.161781Z"
        },
        "id": "O8QsJI4JEsSm",
        "outputId": "514c2e6e-4a9f-4b0b-841a-d43e5368c067"
      },
      "outputs": [
        {
          "name": "stdout",
          "output_type": "stream",
          "text": [
            "C:\n",
            "eusa\n"
          ]
        }
      ],
      "source": [
        "print(\"C:\\neusa\")"
      ]
    },
    {
      "cell_type": "code",
      "execution_count": null,
      "metadata": {
        "ExecuteTime": {
          "end_time": "2022-01-16T21:14:54.069794Z",
          "start_time": "2022-01-16T21:14:54.065787Z"
        },
        "id": "h1U5T87-TUms",
        "outputId": "fa16bb5a-02ba-4f24-ead7-b82ac461b2f9"
      },
      "outputs": [
        {
          "name": "stdout",
          "output_type": "stream",
          "text": [
            "C:\\neusa\n"
          ]
        }
      ],
      "source": [
        "print(\"C:\\\\neusa\")"
      ]
    },
    {
      "cell_type": "code",
      "execution_count": null,
      "metadata": {
        "ExecuteTime": {
          "end_time": "2022-01-16T21:14:59.973373Z",
          "start_time": "2022-01-16T21:14:59.969430Z"
        },
        "id": "EEajzCFDTUmt",
        "outputId": "8e89a1a5-f20c-4c4b-f03a-dfa98742c0f2"
      },
      "outputs": [
        {
          "name": "stdout",
          "output_type": "stream",
          "text": [
            "C:\\neusa\n"
          ]
        }
      ],
      "source": [
        "print(r\"C:\\neusa\")"
      ]
    },
    {
      "cell_type": "markdown",
      "metadata": {
        "id": "KHyaoAjTEsSm"
      },
      "source": [
        "As strings literais podem abranger várias linhas. Uma maneira é usar as aspas triplas: \"\"\"...\"\"\" ou '''...'''. O fim das linhas é incluído automaticamente na string, mas é possível evitar isso adicionando uma \\ no final. O seguinte exemplo:"
      ]
    },
    {
      "cell_type": "code",
      "execution_count": null,
      "metadata": {
        "ExecuteTime": {
          "end_time": "2022-01-16T21:16:14.934304Z",
          "start_time": "2022-01-16T21:16:14.929474Z"
        },
        "id": "b7qmdWuzEsSm",
        "outputId": "97322a27-0419-43ff-fa23-fdd10ba830e5"
      },
      "outputs": [
        {
          "data": {
            "text/plain": [
              "'Uma string com múltiplas\\nlinhas a ser mostrada'"
            ]
          },
          "execution_count": 275,
          "metadata": {},
          "output_type": "execute_result"
        }
      ],
      "source": [
        "\"\"\"\\\n",
        "Uma string com múltiplas\n",
        "linhas a ser mostrada\\\n",
        "\"\"\""
      ]
    },
    {
      "cell_type": "markdown",
      "metadata": {
        "ExecuteTime": {
          "end_time": "2021-09-07T12:35:45.857002Z",
          "start_time": "2021-09-07T12:35:45.844036Z"
        },
        "id": "MoPLCu2_EsSm"
      },
      "source": [
        "Strings podem ser concatenadas (coladas) com o operador +, e repetidas com *:"
      ]
    },
    {
      "cell_type": "code",
      "execution_count": null,
      "metadata": {
        "ExecuteTime": {
          "end_time": "2022-01-16T21:16:50.133111Z",
          "start_time": "2022-01-16T21:16:50.129273Z"
        },
        "id": "srGoQ-z0EsSm",
        "outputId": "2fda642f-d068-4105-de56-72c50a50baad"
      },
      "outputs": [
        {
          "data": {
            "text/plain": [
              "'unununium'"
            ]
          },
          "execution_count": 277,
          "metadata": {},
          "output_type": "execute_result"
        }
      ],
      "source": [
        "3 * 'un' + 'ium'"
      ]
    },
    {
      "cell_type": "markdown",
      "metadata": {
        "id": "mPdN_P0BEsSm"
      },
      "source": [
        "Duas ou mais strings literais (ou seja, entre aspas) ao lado da outra são automaticamente concatenados."
      ]
    },
    {
      "cell_type": "code",
      "execution_count": null,
      "metadata": {
        "ExecuteTime": {
          "end_time": "2022-01-16T21:17:04.263033Z",
          "start_time": "2022-01-16T21:17:04.258255Z"
        },
        "id": "dDb9uG4-EsSm",
        "outputId": "1f02500d-2631-4dc0-c5e3-16e68ad33b82"
      },
      "outputs": [
        {
          "data": {
            "text/plain": [
              "'Python'"
            ]
          },
          "execution_count": 278,
          "metadata": {},
          "output_type": "execute_result"
        }
      ],
      "source": [
        "'Py' 'thon'"
      ]
    },
    {
      "cell_type": "markdown",
      "metadata": {
        "id": "hg2-XS8GEsSm"
      },
      "source": [
        "Esse recurso é particularmente útil quando você quer quebrar strings longas:"
      ]
    },
    {
      "cell_type": "code",
      "execution_count": null,
      "metadata": {
        "ExecuteTime": {
          "end_time": "2022-01-16T21:17:45.351282Z",
          "start_time": "2022-01-16T21:17:45.346406Z"
        },
        "id": "WIS8eWopEsSn",
        "outputId": "6a2e4cf0-f0e1-445d-b1e4-2928c22c76be"
      },
      "outputs": [
        {
          "data": {
            "text/plain": [
              "'Olha, esse é um texto enorme que eu vou querer deixar entre múltiplas linhas para o meu código ser mais legível'"
            ]
          },
          "execution_count": 280,
          "metadata": {},
          "output_type": "execute_result"
        }
      ],
      "source": [
        "texto = (\n",
        "    \"Olha, esse é um texto enorme que eu vou querer deixar \"\n",
        "    \"entre múltiplas linhas para o meu código ser mais legível\"\n",
        ")\n",
        "texto"
      ]
    },
    {
      "cell_type": "markdown",
      "metadata": {
        "id": "P7hGs624EsSn"
      },
      "source": [
        "Isso só funciona com duas strings literais, não com variáveis ou expressões:"
      ]
    },
    {
      "cell_type": "code",
      "execution_count": null,
      "metadata": {
        "ExecuteTime": {
          "end_time": "2022-01-16T21:18:30.053004Z",
          "start_time": "2022-01-16T21:18:30.049044Z"
        },
        "id": "j3H7v4GwEsSn"
      },
      "outputs": [],
      "source": [
        "p1 = \"Py\"\n",
        "#p1 \"thon\""
      ]
    },
    {
      "cell_type": "markdown",
      "metadata": {
        "id": "OrA23oPhEsSn"
      },
      "source": [
        "Se você quiser concatenar variáveis ou uma variável e uma literal, use +:"
      ]
    },
    {
      "cell_type": "code",
      "execution_count": null,
      "metadata": {
        "ExecuteTime": {
          "end_time": "2022-01-16T21:18:31.092819Z",
          "start_time": "2022-01-16T21:18:31.087888Z"
        },
        "id": "UGA1NP1PEsSn",
        "outputId": "132682da-197c-4f1a-85da-525885ddba93"
      },
      "outputs": [
        {
          "data": {
            "text/plain": [
              "'Python'"
            ]
          },
          "execution_count": 286,
          "metadata": {},
          "output_type": "execute_result"
        }
      ],
      "source": [
        "p1 + \"thon\""
      ]
    },
    {
      "cell_type": "markdown",
      "metadata": {
        "id": "z5Nm6ZtlEsSn"
      },
      "source": [
        "As strings podem ser indexadas (subscritas), da mesma maneira que listas e tuplas"
      ]
    },
    {
      "cell_type": "code",
      "execution_count": null,
      "metadata": {
        "ExecuteTime": {
          "end_time": "2022-01-16T21:19:48.887457Z",
          "start_time": "2022-01-16T21:19:48.882987Z"
        },
        "id": "u4QY_V8GEsSn",
        "outputId": "43d9d3d2-a85c-4886-e81a-f971ba97aec1"
      },
      "outputs": [
        {
          "name": "stdout",
          "output_type": "stream",
          "text": [
            "P\n",
            "n\n"
          ]
        }
      ],
      "source": [
        "[\"P\", \"y\", \"t\", \"h\", \"o\", \"n\"]\n",
        "p = \"Python\"\n",
        "print(p[0])\n",
        "print(p[5])"
      ]
    },
    {
      "cell_type": "code",
      "execution_count": null,
      "metadata": {
        "ExecuteTime": {
          "end_time": "2022-01-16T21:19:56.599062Z",
          "start_time": "2022-01-16T21:19:56.594204Z"
        },
        "id": "QjXy5gM0TUmw",
        "outputId": "4942ae58-e777-4d4a-dee5-8ace0dfab651"
      },
      "outputs": [
        {
          "data": {
            "text/plain": [
              "'n'"
            ]
          },
          "execution_count": 291,
          "metadata": {},
          "output_type": "execute_result"
        }
      ],
      "source": [
        "p[-1]"
      ]
    },
    {
      "cell_type": "code",
      "execution_count": null,
      "metadata": {
        "ExecuteTime": {
          "end_time": "2022-01-16T21:19:59.989627Z",
          "start_time": "2022-01-16T21:19:59.985733Z"
        },
        "id": "-iBMRbt_TUmx",
        "outputId": "d2244306-0c87-476f-ad91-e2c9aa778712"
      },
      "outputs": [
        {
          "data": {
            "text/plain": [
              "'yt'"
            ]
          },
          "execution_count": 292,
          "metadata": {},
          "output_type": "execute_result"
        }
      ],
      "source": [
        "p[1:3]"
      ]
    },
    {
      "cell_type": "code",
      "execution_count": null,
      "metadata": {
        "ExecuteTime": {
          "end_time": "2022-01-16T21:20:10.183212Z",
          "start_time": "2022-01-16T21:20:10.177387Z"
        },
        "id": "-4ffIdVLTUmx",
        "outputId": "e8d3a14d-c731-498b-a1af-985e8c7db549"
      },
      "outputs": [
        {
          "data": {
            "text/plain": [
              "'thonh'"
            ]
          },
          "execution_count": 293,
          "metadata": {},
          "output_type": "execute_result"
        }
      ],
      "source": [
        "p[2:] + p[3:4]"
      ]
    },
    {
      "cell_type": "code",
      "execution_count": null,
      "metadata": {
        "ExecuteTime": {
          "end_time": "2022-01-16T21:20:17.889557Z",
          "start_time": "2022-01-16T21:20:17.873809Z"
        },
        "id": "2742V0mMTUmx",
        "outputId": "f9f8511c-be9c-4079-e7f8-9ecb23fb0f90"
      },
      "outputs": [
        {
          "ename": "IndexError",
          "evalue": "string index out of range",
          "output_type": "error",
          "traceback": [
            "\u001b[1;31m---------------------------------------------------------------------------\u001b[0m",
            "\u001b[1;31mIndexError\u001b[0m                                Traceback (most recent call last)",
            "Input \u001b[1;32mIn [294]\u001b[0m, in \u001b[0;36m<module>\u001b[1;34m\u001b[0m\n\u001b[1;32m----> 1\u001b[0m \u001b[43mp\u001b[49m\u001b[43m[\u001b[49m\u001b[38;5;241;43m42\u001b[39;49m\u001b[43m]\u001b[49m\n",
            "\u001b[1;31mIndexError\u001b[0m: string index out of range"
          ]
        }
      ],
      "source": [
        "p[42]"
      ]
    },
    {
      "cell_type": "code",
      "execution_count": null,
      "metadata": {
        "ExecuteTime": {
          "end_time": "2022-01-16T21:20:22.005621Z",
          "start_time": "2022-01-16T21:20:22.001618Z"
        },
        "id": "6nk6cK3lTUmx",
        "outputId": "c4b1ef58-278d-4e46-b27a-ab469cf91010"
      },
      "outputs": [
        {
          "data": {
            "text/plain": [
              "''"
            ]
          },
          "execution_count": 295,
          "metadata": {},
          "output_type": "execute_result"
        }
      ],
      "source": [
        "p[42:]"
      ]
    },
    {
      "cell_type": "code",
      "execution_count": null,
      "metadata": {
        "ExecuteTime": {
          "end_time": "2022-01-16T21:20:27.926959Z",
          "start_time": "2022-01-16T21:20:27.922038Z"
        },
        "id": "-ZKExOP4TUmy",
        "outputId": "d38b24f9-9dc4-434f-fb89-1a4c1c31b836"
      },
      "outputs": [
        {
          "data": {
            "text/plain": [
              "'thon'"
            ]
          },
          "execution_count": 296,
          "metadata": {},
          "output_type": "execute_result"
        }
      ],
      "source": [
        "p[2:42]"
      ]
    },
    {
      "cell_type": "markdown",
      "metadata": {
        "id": "qjUtNV8ZEsSn"
      },
      "source": [
        "As strings do Python não podem ser alteradas — uma string é imutável. Portanto, atribuir a uma posição indexada na sequência resulta em um erro:"
      ]
    },
    {
      "cell_type": "code",
      "execution_count": null,
      "metadata": {
        "ExecuteTime": {
          "end_time": "2022-01-16T21:20:55.426119Z",
          "start_time": "2022-01-16T21:20:55.410776Z"
        },
        "id": "VzQJqvebEsSn",
        "outputId": "c5f944e2-a7c6-4008-b88c-6510b0afb670"
      },
      "outputs": [
        {
          "ename": "TypeError",
          "evalue": "'str' object does not support item assignment",
          "output_type": "error",
          "traceback": [
            "\u001b[1;31m---------------------------------------------------------------------------\u001b[0m",
            "\u001b[1;31mTypeError\u001b[0m                                 Traceback (most recent call last)",
            "Input \u001b[1;32mIn [297]\u001b[0m, in \u001b[0;36m<module>\u001b[1;34m\u001b[0m\n\u001b[1;32m----> 1\u001b[0m p[\u001b[38;5;241m0\u001b[39m] \u001b[38;5;241m=\u001b[39m \u001b[38;5;124m\"\u001b[39m\u001b[38;5;124mJ\u001b[39m\u001b[38;5;124m\"\u001b[39m\n",
            "\u001b[1;31mTypeError\u001b[0m: 'str' object does not support item assignment"
          ]
        }
      ],
      "source": [
        "p[0] = \"J\""
      ]
    },
    {
      "cell_type": "markdown",
      "metadata": {
        "id": "iGpWqZJvEsSn"
      },
      "source": [
        "Se você precisar de uma string diferente, deverá criar uma nova:"
      ]
    },
    {
      "cell_type": "code",
      "execution_count": null,
      "metadata": {
        "ExecuteTime": {
          "end_time": "2022-01-16T21:21:09.959550Z",
          "start_time": "2022-01-16T21:21:09.954630Z"
        },
        "id": "6-vPP9OGEsSn",
        "outputId": "0b06004e-a679-4eab-a1ab-b5fec208dce2"
      },
      "outputs": [
        {
          "data": {
            "text/plain": [
              "'Jython'"
            ]
          },
          "execution_count": 298,
          "metadata": {},
          "output_type": "execute_result"
        }
      ],
      "source": [
        "\"J\" + p[1:]"
      ]
    },
    {
      "cell_type": "markdown",
      "metadata": {
        "id": "vy-0p8Y5EsSn"
      },
      "source": [
        "A função embutida len() devolve o comprimento de uma string:"
      ]
    },
    {
      "cell_type": "code",
      "execution_count": null,
      "metadata": {
        "ExecuteTime": {
          "end_time": "2022-01-16T21:21:25.847314Z",
          "start_time": "2022-01-16T21:21:25.842372Z"
        },
        "id": "X5mXjMJHEsSn",
        "outputId": "c56a6288-4ae4-4574-ff04-bf2393ef9e67"
      },
      "outputs": [
        {
          "data": {
            "text/plain": [
              "6"
            ]
          },
          "execution_count": 299,
          "metadata": {},
          "output_type": "execute_result"
        }
      ],
      "source": [
        "len(p)"
      ]
    },
    {
      "cell_type": "markdown",
      "metadata": {
        "id": "XZ1w0q2hEsSn"
      },
      "source": [
        "Assim como todas as variáveis numéricas strings também possuem uma função que permite converter uma expressão em texto."
      ]
    },
    {
      "cell_type": "code",
      "execution_count": null,
      "metadata": {
        "ExecuteTime": {
          "end_time": "2022-01-16T21:21:52.631564Z",
          "start_time": "2022-01-16T21:21:52.626720Z"
        },
        "id": "3F9rFUHdEsSn",
        "outputId": "2a41b480-328e-4f09-ec68-7146ca0a5216"
      },
      "outputs": [
        {
          "data": {
            "text/plain": [
              "'[1, 2, 3]'"
            ]
          },
          "execution_count": 301,
          "metadata": {},
          "output_type": "execute_result"
        }
      ],
      "source": [
        "str([1, 2, 3])"
      ]
    },
    {
      "cell_type": "markdown",
      "metadata": {
        "id": "nqbdCf7KEsSn"
      },
      "source": [
        "Como já vimos, strings podem ser criadas a partir de outras variáveis apresentando formatações específicas. Há 4 principais tipos de sintaxe para isso:"
      ]
    },
    {
      "cell_type": "markdown",
      "metadata": {
        "id": "Jk8VzZkMEsSo"
      },
      "source": [
        "1) Operador %: A formatação que vimos no print com o uso do % para colocar inteiros e reais"
      ]
    },
    {
      "cell_type": "markdown",
      "metadata": {
        "id": "p90FtlXLEsSo"
      },
      "source": [
        "<img src=\"https://i.stack.imgur.com/j1NqG.png\" />"
      ]
    },
    {
      "cell_type": "code",
      "execution_count": null,
      "metadata": {
        "ExecuteTime": {
          "end_time": "2022-01-16T21:23:20.455271Z",
          "start_time": "2022-01-16T21:23:20.451304Z"
        },
        "id": "m6FZHov7EsSo",
        "outputId": "c7a32074-b2da-4d5a-a88b-6e95cd94494c"
      },
      "outputs": [
        {
          "name": "stdout",
          "output_type": "stream",
          "text": [
            "Olá mundo 1\n"
          ]
        }
      ],
      "source": [
        "print(\"Olá %s %d\" % (\"mundo\", 1))"
      ]
    },
    {
      "cell_type": "markdown",
      "metadata": {
        "ExecuteTime": {
          "end_time": "2021-09-07T12:49:06.456626Z",
          "start_time": "2021-09-07T12:49:06.438675Z"
        },
        "id": "tbrRNApXEsSo"
      },
      "source": [
        "2) str.format: Utiliza a sintaxe do .format passando para a string o nome de variáveis específicas"
      ]
    },
    {
      "cell_type": "code",
      "execution_count": null,
      "metadata": {
        "ExecuteTime": {
          "end_time": "2022-01-16T21:25:51.368349Z",
          "start_time": "2022-01-16T21:25:51.362482Z"
        },
        "id": "wg_LE71GEsSo",
        "outputId": "bf07e229-b7c8-432f-9087-233d0e1fd946"
      },
      "outputs": [
        {
          "name": "stdout",
          "output_type": "stream",
          "text": [
            "Olá Pedro, há um erro 0xbadc0ffee!\n",
            "Olá Pedro, há um erro 0xbadc0ffee!\n"
          ]
        }
      ],
      "source": [
        "nome = \"Pedro\"\n",
        "errno = \"badc0ffee\"\n",
        "print(\"Olá {}, há um erro 0x{}!\".format(nome, errno))\n",
        "print(\"Olá {nome}, há um erro 0x{errno}!\".format(errno=errno, nome=nome))"
      ]
    },
    {
      "cell_type": "markdown",
      "metadata": {
        "id": "dM9djsJ5EsSo"
      },
      "source": [
        "3) f-strings: O formato que mais utilizaremos no curso, na qual ao colocar um \"f\" na frente da string podemos passar as variáveis diretamente para ela"
      ]
    },
    {
      "cell_type": "code",
      "execution_count": null,
      "metadata": {
        "ExecuteTime": {
          "end_time": "2022-01-16T21:27:07.477910Z",
          "start_time": "2022-01-16T21:27:07.474510Z"
        },
        "id": "YXzKV9NCEsSo",
        "outputId": "f46f5a90-9343-4306-afdd-3544b1768264"
      },
      "outputs": [
        {
          "name": "stdout",
          "output_type": "stream",
          "text": [
            "Olá, Pedro\n",
            "Olá, 7\n",
            "Olá Pedro, há um erro 0xbadc0ffee!\n"
          ]
        }
      ],
      "source": [
        "print(f\"Olá, {nome}\")\n",
        "print(f\"Olá, {1 + 2 * 3}\")\n",
        "print(f\"Olá {nome}, há um erro 0x{errno}!\")"
      ]
    },
    {
      "cell_type": "markdown",
      "metadata": {
        "id": "8hjCcWhaEsSo"
      },
      "source": [
        "4) Templates: Gera strings que esperam determinadas variáveis para serem utilizadas com template múltiplas vezes"
      ]
    },
    {
      "cell_type": "code",
      "execution_count": null,
      "metadata": {
        "ExecuteTime": {
          "end_time": "2022-01-16T21:29:03.546233Z",
          "start_time": "2022-01-16T21:29:03.539382Z"
        },
        "id": "qo_AqKsgEsSp",
        "outputId": "7d6a5ecf-535b-4dae-a490-93e7699cba59"
      },
      "outputs": [
        {
          "name": "stdout",
          "output_type": "stream",
          "text": [
            "Olá, Pedro\n",
            "Olá Pedro, há um erro 0xbadc0ffee!\n"
          ]
        }
      ],
      "source": [
        "from string import Template\n",
        "\n",
        "s1 = Template(\"Olá, $nome\")\n",
        "s2 = Template(\"Olá $nome, há um erro 0x$errno!\")\n",
        "\n",
        "print(s1.substitute(nome=nome))\n",
        "print(s2.substitute(nome=nome, errno=errno))"
      ]
    },
    {
      "cell_type": "markdown",
      "metadata": {
        "id": "xpI2_7LlEsSp"
      },
      "source": [
        "Por fim, é importante destacar que há uma série de ferramentas pré-prontas para se trabalhar na manipulação de strings em python, os chamados métodos. Destacamos abaixo o mais utilizados"
      ]
    },
    {
      "cell_type": "markdown",
      "metadata": {
        "id": "b4qaEtdiEsSp"
      },
      "source": [
        "UPPER / LOWER: Converte um string para maiscula / minuscula"
      ]
    },
    {
      "cell_type": "code",
      "execution_count": null,
      "metadata": {
        "ExecuteTime": {
          "end_time": "2022-01-16T21:30:16.264137Z",
          "start_time": "2022-01-16T21:30:16.259754Z"
        },
        "id": "Ih8a53ToEsSp",
        "outputId": "0771f722-35a1-43d4-b954-3a2901894635"
      },
      "outputs": [
        {
          "name": "stdout",
          "output_type": "stream",
          "text": [
            "olá mundo\n",
            "OLÁ MUNDO\n"
          ]
        }
      ],
      "source": [
        "s = \"Olá Mundo\"\n",
        "print(s.lower())\n",
        "print(s.upper())"
      ]
    },
    {
      "cell_type": "markdown",
      "metadata": {
        "id": "WMIy7x7ZEsSp"
      },
      "source": [
        "ISDIGIT: Checa se a string é numérica"
      ]
    },
    {
      "cell_type": "code",
      "execution_count": null,
      "metadata": {
        "ExecuteTime": {
          "end_time": "2022-01-16T21:30:37.495618Z",
          "start_time": "2022-01-16T21:30:37.491294Z"
        },
        "id": "-EKpkAfCEsSp",
        "outputId": "4ae03245-dbc5-4d19-919f-26463c3a59d7"
      },
      "outputs": [
        {
          "name": "stdout",
          "output_type": "stream",
          "text": [
            "True\n"
          ]
        }
      ],
      "source": [
        "s = \"123\"\n",
        "print(s.isdigit())"
      ]
    },
    {
      "cell_type": "markdown",
      "metadata": {
        "id": "l91PJH-KEsSp"
      },
      "source": [
        "SPLIT: Divide a string de acordo com um separador"
      ]
    },
    {
      "cell_type": "code",
      "execution_count": null,
      "metadata": {
        "ExecuteTime": {
          "end_time": "2022-01-16T21:31:10.408542Z",
          "start_time": "2022-01-16T21:31:10.402621Z"
        },
        "id": "Nn1j4em0EsSp",
        "outputId": "d707c793-e52a-4598-8afe-4f80f215c1aa"
      },
      "outputs": [
        {
          "data": {
            "text/plain": [
              "['Olá', 'Mundo']"
            ]
          },
          "execution_count": 311,
          "metadata": {},
          "output_type": "execute_result"
        }
      ],
      "source": [
        "s = \"Olá Mundo\"\n",
        "s.split(\" \")"
      ]
    },
    {
      "cell_type": "markdown",
      "metadata": {
        "id": "gRXsqsy2EsSp"
      },
      "source": [
        "JOIN: Junta uma lista ou tupla de textos em um string usando uma string de junção"
      ]
    },
    {
      "cell_type": "code",
      "execution_count": null,
      "metadata": {
        "ExecuteTime": {
          "end_time": "2022-01-16T21:32:22.455525Z",
          "start_time": "2022-01-16T21:32:22.450530Z"
        },
        "id": "t3GlnF8TEsSp",
        "outputId": "5c70ac48-b0e7-40c2-f892-0d7d66472907"
      },
      "outputs": [
        {
          "name": "stdout",
          "output_type": "stream",
          "text": [
            "Olá Mundo\n",
            "Olá, Mundo\n",
            "Olá --> Mundo\n"
          ]
        }
      ],
      "source": [
        "l = ['Olá', 'Mundo']\n",
        "print(\" \".join(l))\n",
        "print(\", \".join(l))\n",
        "print(\" --> \".join(l))"
      ]
    },
    {
      "cell_type": "markdown",
      "metadata": {
        "id": "Xkkbd5ssEsSp"
      },
      "source": [
        "STRIP: Elimina caracteres vazios nos extremos da string"
      ]
    },
    {
      "cell_type": "code",
      "execution_count": null,
      "metadata": {
        "ExecuteTime": {
          "end_time": "2022-01-16T21:33:06.454934Z",
          "start_time": "2022-01-16T21:33:06.450015Z"
        },
        "id": "YEXqm0C0EsSp",
        "outputId": "c007b754-d697-4838-984e-a8aeb2ed3b61"
      },
      "outputs": [
        {
          "data": {
            "text/plain": [
              "' Olá Mundo   '"
            ]
          },
          "execution_count": 317,
          "metadata": {},
          "output_type": "execute_result"
        }
      ],
      "source": [
        "s = \" Olá Mundo   \"\n",
        "s"
      ]
    },
    {
      "cell_type": "code",
      "execution_count": null,
      "metadata": {
        "ExecuteTime": {
          "end_time": "2022-01-16T21:33:08.894888Z",
          "start_time": "2022-01-16T21:33:08.890020Z"
        },
        "id": "SIb7jd_PTUm8",
        "outputId": "5efc8afd-f589-406c-ab05-472660534c5a"
      },
      "outputs": [
        {
          "data": {
            "text/plain": [
              "'Olá Mundo'"
            ]
          },
          "execution_count": 318,
          "metadata": {},
          "output_type": "execute_result"
        }
      ],
      "source": [
        "s.strip()"
      ]
    },
    {
      "cell_type": "markdown",
      "metadata": {
        "id": "pkzSkaXLEsSp"
      },
      "source": [
        "---"
      ]
    },
    {
      "cell_type": "markdown",
      "metadata": {
        "id": "i1Hc8J05EsSp"
      },
      "source": [
        "**Exercício 10**"
      ]
    },
    {
      "cell_type": "markdown",
      "metadata": {
        "id": "NfPYwsY9EsSp"
      },
      "source": [
        "Vamos criar um programa que reproduza a Cifra de Cesar.\n",
        "\n",
        "Este era um método utilizado pelos Romanos de criptografia de mensagens, na qual se codificava o valor de cada letra do alfabeto a um número e então, por meio de uma chave numérica, se deslocava as letras de acordo com o valor dessa chave.\n",
        "\n",
        "Por exemplo se codificassemos a = 1, b = 2, c = 3, ... a letra \"a\" codificada com chave 3, se tornaria \"d\", porque a=1 e d=4 (4 = 1 + 3).\n",
        "\n",
        "Escreva um programa que permita criptografar e descriptografar uma mensagem.\n",
        "\n",
        "Primeiro peça para o usuário informar se ele deseja criptografar ou descriptografar uma mensagem. Depois peça o valor da chave, obrigando-o a informar um valor entre 1 e 26. Em seguida, peça uma mensagem a ser traduzida e converta-a para minúsculo, também remova caracteres com acento ou \"ç\" da string. Por fim aplique o método da cifra para traduzir a mensagem.\n",
        "\n",
        "DICA: Pode ser útil olhar para as funções ord e chr."
      ]
    },
    {
      "cell_type": "code",
      "execution_count": null,
      "metadata": {
        "id": "CAmWjataEsSq",
        "solution2": "hidden",
        "solution2_first": true
      },
      "outputs": [],
      "source": []
    },
    {
      "cell_type": "code",
      "execution_count": null,
      "metadata": {
        "ExecuteTime": {
          "end_time": "2021-09-07T13:47:54.595733Z",
          "start_time": "2021-09-07T13:47:49.109223Z"
        },
        "cellView": "form",
        "id": "07X9rHcAEsSq",
        "solution2": "hidden"
      },
      "outputs": [],
      "source": [
        "#@title Resposta\n",
        "TAM_MAX_CH = 26\n",
        "\n",
        "# primeiro nós pegamos o modo a ser aplicado na string\n",
        "while True:\n",
        "    modo = input(\"Você deseja criptografar ou decriptografar? \").lower()\n",
        "    if modo in [\"criptografar\", \"c\", \"decriptografar\",  \"d\"]:\n",
        "        break\n",
        "    else:\n",
        "        print(\"Entre 'criptografar' ou 'c' ou 'decriptografar' ou 'd'.\")\n",
        "\n",
        "# depois pedimos a mensagem a ser processada\n",
        "mensagem = input(\"Entre sua mensagem: \").lower()\n",
        "\n",
        "# garante que a mensagem não tenha caractéres com acento ou ç\n",
        "orig = \"áàãâéèêíìîóòõôúùûç\"\n",
        "sub = \"aaaaeeeiiioooouuuc\"\n",
        "repl = dict(zip(orig, sub))\n",
        "for o, r in repl.items():\n",
        "    mensagem = mensagem.replace(o, r)\n",
        "\n",
        "# pedimos então a chave da criptografia\n",
        "chave = 0\n",
        "while True:\n",
        "    chave = int(input(f\"Entre o número da chave (1-{TAM_MAX_CH}): \"))\n",
        "    if 1 <= chave <= TAM_MAX_CH:\n",
        "        break\n",
        "    else:\n",
        "        print(f\"A chave deve estar entre 1 e {TAM_MAX_CH}\")\n",
        "\n",
        "# Nós então traduzimos a mensagem\n",
        "if modo[0] == \"d\":\n",
        "    chave *= -1\n",
        "\n",
        "traduzido = \"\"\n",
        "\n",
        "# para cada caracter na mensagem\n",
        "for simbolo in mensagem:\n",
        "    # nós verificamos se o caracter é alpha numérico\n",
        "    if simbolo.isalpha():\n",
        "        # se for nós pegamos a ordem do simbolo\n",
        "        num = ord(simbolo)\n",
        "\n",
        "        # então nós adicionamos o valor da chave a ordem\n",
        "        num += chave\n",
        "\n",
        "        # nós então garantimos que o simbolo não ultrapasse os\n",
        "        # valores de ordem entre A e Z\n",
        "        if num > ord(\"z\"):\n",
        "            num -= 26\n",
        "        elif num < ord(\"a\"):\n",
        "            num += 26\n",
        "\n",
        "        # convertemos o simbolo para um caracter e adicionamos\n",
        "        # a mensagem\n",
        "        traduzido += chr(num)\n",
        "    else:\n",
        "        traduzido += simbolo\n",
        "\n",
        "# imprime a mensagem traduzida\n",
        "print(traduzido)"
      ]
    },
    {
      "cell_type": "markdown",
      "metadata": {
        "id": "JcMSzxQ6EsSq"
      },
      "source": [
        "---"
      ]
    },
    {
      "cell_type": "markdown",
      "metadata": {
        "id": "oSBxuuesEsSq"
      },
      "source": [
        "## Módulos"
      ]
    },
    {
      "cell_type": "markdown",
      "metadata": {
        "id": "jRLk5DPBEsSq"
      },
      "source": [
        "Uma das maiores vantagens do python é sua modularidade e comunidade. Porque Python é uma linguagem aberta, há muitas pessoas que desenvolvem para a mesma, e muitas vezes sua vida fica muito mais fácil utilizando esse código pré escrito do que o reescrevendo."
      ]
    },
    {
      "cell_type": "markdown",
      "metadata": {
        "ExecuteTime": {
          "end_time": "2021-09-06T22:00:08.920354Z",
          "start_time": "2021-09-06T22:00:08.916365Z"
        },
        "id": "IHBirLgNEsSq"
      },
      "source": [
        "Essas bibliotecas são chamadas de módulo e podem ser importandas utilizando a sintexe do import"
      ]
    },
    {
      "cell_type": "code",
      "execution_count": null,
      "metadata": {
        "ExecuteTime": {
          "end_time": "2022-01-16T21:42:38.535451Z",
          "start_time": "2022-01-16T21:42:38.532187Z"
        },
        "id": "ZudItl8UEsSq"
      },
      "outputs": [],
      "source": [
        "import math"
      ]
    },
    {
      "cell_type": "markdown",
      "metadata": {
        "id": "a53ksJHkEsSq"
      },
      "source": [
        "Ao fazer isso podemos acessar as múltiplas funcionalidades daquele módulo utilizando a sintaxe do ponto"
      ]
    },
    {
      "cell_type": "code",
      "execution_count": null,
      "metadata": {
        "ExecuteTime": {
          "end_time": "2022-01-16T21:43:07.575705Z",
          "start_time": "2022-01-16T21:43:07.570732Z"
        },
        "id": "WzEoVq_kTUm_",
        "outputId": "c383233b-7864-4026-b7ce-e3ef8e4bede3"
      },
      "outputs": [
        {
          "data": {
            "text/plain": [
              "2.0"
            ]
          },
          "execution_count": 326,
          "metadata": {},
          "output_type": "execute_result"
        }
      ],
      "source": [
        "math.sqrt(4)"
      ]
    },
    {
      "cell_type": "code",
      "execution_count": null,
      "metadata": {
        "ExecuteTime": {
          "end_time": "2022-01-16T21:43:01.177390Z",
          "start_time": "2022-01-16T21:43:01.172472Z"
        },
        "id": "NEBpfpgXEsSq",
        "outputId": "0d83c67a-2390-45bc-caa0-a8d636c05f33"
      },
      "outputs": [
        {
          "data": {
            "text/plain": [
              "2.718281828459045"
            ]
          },
          "execution_count": 325,
          "metadata": {},
          "output_type": "execute_result"
        }
      ],
      "source": [
        "math.e"
      ]
    },
    {
      "cell_type": "markdown",
      "metadata": {
        "id": "rhBF3oCGEsSq"
      },
      "source": [
        "Além disso, podemos importar funções específicas de cada módulo utilizando a sintaxe do from"
      ]
    },
    {
      "cell_type": "code",
      "execution_count": null,
      "metadata": {
        "ExecuteTime": {
          "end_time": "2022-01-16T21:43:34.855996Z",
          "start_time": "2022-01-16T21:43:34.851034Z"
        },
        "id": "NTWsmzthEsSq",
        "outputId": "3ed1f2ea-ff40-436a-a4bd-625d5a93da47"
      },
      "outputs": [
        {
          "data": {
            "text/plain": [
              "2.0"
            ]
          },
          "execution_count": 327,
          "metadata": {},
          "output_type": "execute_result"
        }
      ],
      "source": [
        "from math import sqrt\n",
        "sqrt(4)"
      ]
    },
    {
      "cell_type": "code",
      "execution_count": null,
      "metadata": {
        "ExecuteTime": {
          "end_time": "2022-01-16T21:43:58.664896Z",
          "start_time": "2022-01-16T21:43:58.660001Z"
        },
        "id": "qXUZkRTfTUnB",
        "outputId": "ce8eea3b-490c-46e1-e0c0-600bfbca1021"
      },
      "outputs": [
        {
          "data": {
            "text/plain": [
              "3"
            ]
          },
          "execution_count": 328,
          "metadata": {},
          "output_type": "execute_result"
        }
      ],
      "source": [
        "from math import sqrt, ceil\n",
        "ceil(2.1)"
      ]
    },
    {
      "cell_type": "markdown",
      "metadata": {
        "id": "tgqoZ4arEsSq"
      },
      "source": [
        "Caso já tenhamos váriaveis ou funções com os nomes desses módulos podemos renomear-los usando a expressão \"as\""
      ]
    },
    {
      "cell_type": "code",
      "execution_count": null,
      "metadata": {
        "ExecuteTime": {
          "end_time": "2022-01-16T21:44:29.752682Z",
          "start_time": "2022-01-16T21:44:29.748759Z"
        },
        "id": "ILRrU0PvEsSq",
        "outputId": "bbdb03f6-0e12-4d45-dc1b-5989fe12b08c"
      },
      "outputs": [
        {
          "data": {
            "text/plain": [
              "2.0"
            ]
          },
          "execution_count": 329,
          "metadata": {},
          "output_type": "execute_result"
        }
      ],
      "source": [
        "from math import sqrt as raiz\n",
        "raiz(4)"
      ]
    },
    {
      "cell_type": "code",
      "execution_count": null,
      "metadata": {
        "ExecuteTime": {
          "end_time": "2022-01-16T21:44:45.752519Z",
          "start_time": "2022-01-16T21:44:45.747016Z"
        },
        "id": "IVM1YDnATUnC",
        "outputId": "e114113a-c982-4fc4-ac9e-bcd115c3b4fc"
      },
      "outputs": [
        {
          "data": {
            "text/plain": [
              "3"
            ]
          },
          "execution_count": 330,
          "metadata": {},
          "output_type": "execute_result"
        }
      ],
      "source": [
        "import math as matematica\n",
        "matematica.ceil(2.1)"
      ]
    },
    {
      "cell_type": "markdown",
      "metadata": {
        "id": "sQdjy4r-EsSq"
      },
      "source": [
        "---"
      ]
    },
    {
      "cell_type": "markdown",
      "metadata": {
        "id": "YrmtNPevEsSr"
      },
      "source": [
        "**Exercício 11**\n",
        "\n",
        "Escreva um programa para simular o jogo das portas. Faça um programa que tenha\n",
        "a saída como a seguinte:\n",
        "\n",
        "> <p>Olá, bem-vindo ao nosso programa! Vamos ver se você vai ganhar um carro ou não!</p>\n",
        "> <p>Escolha uma porta: 3</p>\n",
        "> <p>Você escolheu a porta 3, mas</p>\n",
        "> <p>eu lhe informo que na porta 2 há um bode.</p>\n",
        "> <p>Deseja trocar de porta (1 - Sim/ 0 - Não): 1</p>\n",
        "> <p>Ganhou um carro!</p>\n",
        "\n",
        "Sortei de forma aleatória a porta com o carro. Utilize o módulo random (https://docs.python.org/3/library/random.html) para isso."
      ]
    },
    {
      "cell_type": "code",
      "execution_count": null,
      "metadata": {
        "id": "jAdlZr1EEsSr",
        "solution2": "hidden",
        "solution2_first": true
      },
      "outputs": [],
      "source": []
    },
    {
      "cell_type": "code",
      "execution_count": null,
      "metadata": {
        "ExecuteTime": {
          "end_time": "2021-09-06T15:30:13.321560Z",
          "start_time": "2021-09-06T15:30:06.961962Z"
        },
        "cellView": "form",
        "id": "reo6As6jEsSr",
        "solution2": "hidden"
      },
      "outputs": [],
      "source": [
        "#@title Resposta\n",
        "import random\n",
        "\n",
        "print(\"Olá, bem-vindo ao nosso programa! Vamos ver se você vai ganhar um carro ou não!\")\n",
        "\n",
        "porta = int(input(\"Escolha uma porta: \"))\n",
        "# premio = random.choice([1, 2, 3])\n",
        "# premio = random.randrange(1, 4)\n",
        "premio = random.randint(1, 3)\n",
        "\n",
        "if premio != 1 and porta != 1:\n",
        "    bode = 1\n",
        "elif premio != 2 and porta != 2:\n",
        "    bode = 2\n",
        "else:\n",
        "    bode = 3\n",
        "\n",
        "print(\"Você escolheu a porta %i, mas\" % porta)\n",
        "print(\"eu lhe informo que na porta %i há um bode.\" % bode)\n",
        "\n",
        "decisão = int(input(\"Deseja trocar de porta (1 - Sim/ 0 - Não): \"))\n",
        "\n",
        "if decisão == 1:\n",
        "    if porta != 1 and bode != 1:\n",
        "        porta = 1\n",
        "    elif porta != 2 and bode != 2:\n",
        "        porta = 2\n",
        "    else:\n",
        "        porta = 3\n",
        "\n",
        "if porta == premio:\n",
        "    print(\"Ganhou um carro!\")\n",
        "else:\n",
        "    print(\"Não ganhou um carro...\")"
      ]
    },
    {
      "cell_type": "markdown",
      "metadata": {
        "id": "oDh12TqQEsSr"
      },
      "source": [
        "---"
      ]
    },
    {
      "cell_type": "markdown",
      "metadata": {
        "id": "Len7iJQcEsSr"
      },
      "source": [
        "## Funções"
      ]
    },
    {
      "cell_type": "markdown",
      "metadata": {
        "id": "z6GrjuUEEsSr"
      },
      "source": [
        "### Definição"
      ]
    },
    {
      "cell_type": "markdown",
      "metadata": {
        "id": "tCmGhBjHEsSr"
      },
      "source": [
        "A palavra reservada def inicia a definição de uma função. Ela deve ser seguida do nome da função e da lista de parâmetros formais entre parênteses. Os comandos que formam o corpo da função começam na linha seguinte e devem ser indentados."
      ]
    },
    {
      "cell_type": "markdown",
      "metadata": {
        "id": "wsRXV49fEsSr"
      },
      "source": [
        "<img src=\"https://bham-carpentries.github.io/2018-12-17-bham_python-novice-inflammation/fig/python-function.svg\" />"
      ]
    },
    {
      "cell_type": "code",
      "execution_count": null,
      "metadata": {
        "ExecuteTime": {
          "end_time": "2022-01-16T21:58:04.407486Z",
          "start_time": "2022-01-16T21:58:04.403020Z"
        },
        "id": "N89d0gy0EsSr"
      },
      "outputs": [],
      "source": [
        "def ola_mundo(nome):\n",
        "    texto_de_ola = f\"Olá {nome}! Prazer em te conhecer\"\n",
        "    print(texto_de_ola)"
      ]
    },
    {
      "cell_type": "code",
      "execution_count": null,
      "metadata": {
        "ExecuteTime": {
          "end_time": "2022-01-16T21:58:10.298106Z",
          "start_time": "2022-01-16T21:58:10.293130Z"
        },
        "id": "4rxufN1iTUnF",
        "outputId": "960e76c5-746d-4a15-c3dd-86e956143dcd"
      },
      "outputs": [
        {
          "name": "stdout",
          "output_type": "stream",
          "text": [
            "Olá Pedro! Prazer em te conhecer\n"
          ]
        }
      ],
      "source": [
        "ola_mundo(\"Pedro\")"
      ]
    },
    {
      "cell_type": "code",
      "execution_count": null,
      "metadata": {
        "ExecuteTime": {
          "end_time": "2022-01-16T21:58:15.943053Z",
          "start_time": "2022-01-16T21:58:15.939045Z"
        },
        "id": "SLnHVEBKTUnG",
        "outputId": "3c587c4c-c102-456d-ea0d-b743acf519e1"
      },
      "outputs": [
        {
          "name": "stdout",
          "output_type": "stream",
          "text": [
            "Olá Mateus! Prazer em te conhecer\n"
          ]
        }
      ],
      "source": [
        "ola_mundo(\"Mateus\")"
      ]
    },
    {
      "cell_type": "markdown",
      "metadata": {
        "id": "AG0aEA-JEsSr"
      },
      "source": [
        "### Variáveis de Função"
      ]
    },
    {
      "cell_type": "markdown",
      "metadata": {
        "id": "oywluPlGEsSr"
      },
      "source": [
        "A execução de uma função cria uma nova tabela de símbolos para as variáveis locais da função. Mais precisamente, todas as atribuições de variáveis numa função são armazenadas na tabela de símbolos local; referências a variáveis são buscadas primeiro na tabela de símbolos local, em seguida na tabela de símbolos locais de funções delimitadoras ou circundantes, depois na tabela de símbolos global e, finalmente, na tabela de nomes da própria linguagem."
      ]
    },
    {
      "cell_type": "code",
      "execution_count": null,
      "metadata": {
        "ExecuteTime": {
          "end_time": "2022-01-16T21:59:03.143214Z",
          "start_time": "2022-01-16T21:59:03.139336Z"
        },
        "id": "GnWjmyoxEsSr",
        "outputId": "4706085c-c978-4a18-9684-48211bd35190"
      },
      "outputs": [
        {
          "name": "stdout",
          "output_type": "stream",
          "text": [
            "Olá Pedro! Prazer em te conhecer\n"
          ]
        }
      ],
      "source": [
        "ola_mundo(\"Pedro\")"
      ]
    },
    {
      "cell_type": "code",
      "execution_count": null,
      "metadata": {
        "ExecuteTime": {
          "end_time": "2022-01-16T21:59:18.657876Z",
          "start_time": "2022-01-16T21:59:18.644140Z"
        },
        "id": "044q7ci8TUnH",
        "outputId": "01e4d5bc-c20e-493b-d5aa-53a6955c2649"
      },
      "outputs": [
        {
          "ename": "NameError",
          "evalue": "name 'texto_de_ola' is not defined",
          "output_type": "error",
          "traceback": [
            "\u001b[1;31m---------------------------------------------------------------------------\u001b[0m",
            "\u001b[1;31mNameError\u001b[0m                                 Traceback (most recent call last)",
            "Input \u001b[1;32mIn [335]\u001b[0m, in \u001b[0;36m<module>\u001b[1;34m\u001b[0m\n\u001b[1;32m----> 1\u001b[0m \u001b[43mtexto_de_ola\u001b[49m\n",
            "\u001b[1;31mNameError\u001b[0m: name 'texto_de_ola' is not defined"
          ]
        }
      ],
      "source": [
        "texto_de_ola"
      ]
    },
    {
      "cell_type": "code",
      "execution_count": null,
      "metadata": {
        "ExecuteTime": {
          "end_time": "2022-01-16T22:00:08.503256Z",
          "start_time": "2022-01-16T22:00:08.498383Z"
        },
        "id": "NXtXiiyATUnH",
        "outputId": "ed4b3f30-63e7-4935-deb3-ebf952f3c8d5"
      },
      "outputs": [
        {
          "name": "stdout",
          "output_type": "stream",
          "text": [
            "Olá Pedro! Prazer em te conhecer\n"
          ]
        }
      ],
      "source": [
        "texto_de_ola = \"Olá Fulano! Prazer em te conhecer\"\n",
        "ola_mundo(\"Pedro\")"
      ]
    },
    {
      "cell_type": "code",
      "execution_count": null,
      "metadata": {
        "ExecuteTime": {
          "end_time": "2022-01-16T22:00:30.327146Z",
          "start_time": "2022-01-16T22:00:30.322326Z"
        },
        "id": "Cy_Di-k2TUnH",
        "outputId": "5cec8648-a0f7-47b1-8267-33ecb3bad44a"
      },
      "outputs": [
        {
          "data": {
            "text/plain": [
              "'Olá Fulano! Prazer em te conhecer'"
            ]
          },
          "execution_count": 337,
          "metadata": {},
          "output_type": "execute_result"
        }
      ],
      "source": [
        "texto_de_ola"
      ]
    },
    {
      "cell_type": "code",
      "execution_count": null,
      "metadata": {
        "ExecuteTime": {
          "end_time": "2022-01-16T22:01:27.751341Z",
          "start_time": "2022-01-16T22:01:27.747383Z"
        },
        "id": "aURg_1VQTUnH"
      },
      "outputs": [],
      "source": [
        "def ola_mundo(nome):\n",
        "    global texto_de_ola\n",
        "    print(texto_de_ola)\n",
        "\n",
        "    texto_de_ola = f\"Olá {nome}! Prazer em te conhecer\"\n",
        "    print(texto_de_ola)"
      ]
    },
    {
      "cell_type": "code",
      "execution_count": null,
      "metadata": {
        "ExecuteTime": {
          "end_time": "2022-01-16T22:01:31.863039Z",
          "start_time": "2022-01-16T22:01:31.859089Z"
        },
        "id": "jUir2TA7TUnH",
        "outputId": "35bd007b-7715-4b7b-e99a-b200c4280728"
      },
      "outputs": [
        {
          "name": "stdout",
          "output_type": "stream",
          "text": [
            "Olá Fulano! Prazer em te conhecer\n",
            "Olá Pedro! Prazer em te conhecer\n"
          ]
        }
      ],
      "source": [
        "ola_mundo(\"Pedro\")"
      ]
    },
    {
      "cell_type": "code",
      "execution_count": null,
      "metadata": {
        "ExecuteTime": {
          "end_time": "2022-01-16T22:01:39.783632Z",
          "start_time": "2022-01-16T22:01:39.778700Z"
        },
        "id": "m_KTxyDsTUnI",
        "outputId": "9c638501-b879-4723-b8e1-0d9fe39d467c"
      },
      "outputs": [
        {
          "data": {
            "text/plain": [
              "'Olá Pedro! Prazer em te conhecer'"
            ]
          },
          "execution_count": 340,
          "metadata": {},
          "output_type": "execute_result"
        }
      ],
      "source": [
        "texto_de_ola"
      ]
    },
    {
      "cell_type": "markdown",
      "metadata": {
        "id": "k3nBb8UsEsSs"
      },
      "source": [
        "### Argumentos"
      ]
    },
    {
      "cell_type": "markdown",
      "metadata": {
        "id": "TMt-BD9zEsSs"
      },
      "source": [
        "É possível definir funções com um número variável de argumentos. Existem três formas, que podem ser combinadas."
      ]
    },
    {
      "cell_type": "markdown",
      "metadata": {
        "id": "FUBj8IUKEsSs"
      },
      "source": [
        "**Argumentos com valor padrão**: A mais útil das três é especificar um valor padrão para um ou mais argumentos. Isso cria uma função que pode ser invocada com menos argumentos do que os que foram definidos. Por exemplo:"
      ]
    },
    {
      "cell_type": "code",
      "execution_count": null,
      "metadata": {
        "ExecuteTime": {
          "end_time": "2022-01-16T22:03:56.299426Z",
          "start_time": "2022-01-16T22:03:56.293519Z"
        },
        "id": "9fyNJuCxEsSs",
        "outputId": "6b6f8513-d9cc-4b28-8449-7002039d649f"
      },
      "outputs": [
        {
          "name": "stdout",
          "output_type": "stream",
          "text": [
            "Olá Pedro Forli! Prazer em te conhecer\n",
            "Olá Mateus Forli! Prazer em te conhecer\n",
            "Olá Cristiano Ronaldo! Prazer em te conhecer\n",
            "Olá Mathias Viña! Prazer em te conhecer\n"
          ]
        }
      ],
      "source": [
        "def ola_mundo(nome, sobn=\"Forli\"):\n",
        "    texto_de_ola = f\"Olá {nome} {sobn}! Prazer em te conhecer\"\n",
        "    print(texto_de_ola)\n",
        "\n",
        "ola_mundo(\"Pedro\")\n",
        "ola_mundo(\"Mateus\")\n",
        "ola_mundo(\"Cristiano\", \"Ronaldo\")\n",
        "ola_mundo(\"Mathias\", sobn=\"Viña\")"
      ]
    },
    {
      "cell_type": "markdown",
      "metadata": {
        "id": "ltIFJZl5EsSs"
      },
      "source": [
        "Aviso importante: Valores padrões são avaliados apenas uma vez. Isso faz diferença quando o valor é um objeto mutável, como uma lista, dicionário, ou instâncias de classes. Por exemplo, a função a seguir acumula os argumentos passados, nas chamadas subsequentes:"
      ]
    },
    {
      "cell_type": "code",
      "execution_count": null,
      "metadata": {
        "ExecuteTime": {
          "end_time": "2022-01-16T22:05:25.719448Z",
          "start_time": "2022-01-16T22:05:25.715573Z"
        },
        "id": "kUk7O4eMEsSs",
        "outputId": "6376be1e-7dae-438c-917b-06983aaa673c"
      },
      "outputs": [
        {
          "name": "stdout",
          "output_type": "stream",
          "text": [
            "[1, 2, 3, 4]\n",
            "[1, 2, 3, 4, 5]\n"
          ]
        }
      ],
      "source": [
        "lista = [1, 2, 3, 4]\n",
        "def altera_lista(lista):\n",
        "    lista.append(5)\n",
        "print(lista)\n",
        "altera_lista(lista)\n",
        "print(lista)"
      ]
    },
    {
      "cell_type": "markdown",
      "metadata": {
        "id": "VAs9UGvREsSs"
      },
      "source": [
        "**Argumentos nomeados**: Funções também podem ser chamadas usando argumentos nomeados da forma chave=valor. Por exemplo, a função a seguir:"
      ]
    },
    {
      "cell_type": "code",
      "execution_count": null,
      "metadata": {
        "ExecuteTime": {
          "end_time": "2022-01-16T22:09:19.419009Z",
          "start_time": "2022-01-16T22:09:19.412263Z"
        },
        "id": "YzsEireuEsSs",
        "outputId": "3002a002-46b8-421c-8c56-2ffc4f66f74b"
      },
      "outputs": [
        {
          "name": "stdout",
          "output_type": "stream",
          "text": [
            "Papai noel voou a 1000 km/h para me dar um chocalho de cor azul\n",
            "Papai noel correu a 1000 km/h para me dar um uno de cor azul\n",
            "Papai noel voou a 1000 km/h para me dar um chocalho de cor azul\n",
            "Papai noel correu a 1000 km/h para me dar um chocalho de cor azul\n",
            "Papai noel correu a 1000 km/h para me dar um chocalho de cor azul\n",
            "Papai noel voou a 1000 km/h para me dar um chocalho de cor vermelha\n"
          ]
        }
      ],
      "source": [
        "def papai_noel(vel, acao=\"voou\", presente=\"chocalho\", cor=\"azul\"):\n",
        "    print(\n",
        "        f\"Papai noel {acao}\"\n",
        "        f\" a {vel} km/h\"\n",
        "        f\" para me dar um {presente}\"\n",
        "        f\" de cor {cor}\"\n",
        "    )\n",
        "\n",
        "papai_noel(1000)\n",
        "papai_noel(1000, \"correu\", \"uno\")\n",
        "papai_noel(vel=1000)\n",
        "papai_noel(vel=1000, acao=\"correu\")\n",
        "papai_noel(acao=\"correu\", vel=1000)\n",
        "papai_noel(1000, cor=\"vermelha\")"
      ]
    },
    {
      "cell_type": "code",
      "execution_count": null,
      "metadata": {
        "ExecuteTime": {
          "end_time": "2022-01-16T22:09:54.961693Z",
          "start_time": "2022-01-16T22:09:54.946934Z"
        },
        "id": "tmupNS1STUnJ",
        "outputId": "250cdacf-efa7-45b7-ced4-dcba669f233a"
      },
      "outputs": [
        {
          "ename": "TypeError",
          "evalue": "papai_noel() missing 1 required positional argument: 'vel'",
          "output_type": "error",
          "traceback": [
            "\u001b[1;31m---------------------------------------------------------------------------\u001b[0m",
            "\u001b[1;31mTypeError\u001b[0m                                 Traceback (most recent call last)",
            "Input \u001b[1;32mIn [353]\u001b[0m, in \u001b[0;36m<module>\u001b[1;34m\u001b[0m\n\u001b[1;32m----> 1\u001b[0m \u001b[43mpapai_noel\u001b[49m\u001b[43m(\u001b[49m\u001b[43m)\u001b[49m\n",
            "\u001b[1;31mTypeError\u001b[0m: papai_noel() missing 1 required positional argument: 'vel'"
          ]
        }
      ],
      "source": [
        "papai_noel()"
      ]
    },
    {
      "cell_type": "code",
      "execution_count": null,
      "metadata": {
        "ExecuteTime": {
          "end_time": "2022-01-16T22:10:19.800977Z",
          "start_time": "2022-01-16T22:10:19.796985Z"
        },
        "id": "X5_xBkyaTUnK",
        "outputId": "067074c3-d914-458b-cb89-85111905ea47"
      },
      "outputs": [
        {
          "ename": "SyntaxError",
          "evalue": "positional argument follows keyword argument (4122966104.py, line 1)",
          "output_type": "error",
          "traceback": [
            "\u001b[1;36m  Input \u001b[1;32mIn [354]\u001b[1;36m\u001b[0m\n\u001b[1;33m    papai_noel(vel=5, \"correu\")\u001b[0m\n\u001b[1;37m                      ^\u001b[0m\n\u001b[1;31mSyntaxError\u001b[0m\u001b[1;31m:\u001b[0m positional argument follows keyword argument\n"
          ]
        }
      ],
      "source": [
        "papai_noel(vel=5, \"correu\")"
      ]
    },
    {
      "cell_type": "code",
      "execution_count": null,
      "metadata": {
        "ExecuteTime": {
          "end_time": "2022-01-16T22:10:43.714230Z",
          "start_time": "2022-01-16T22:10:43.700048Z"
        },
        "id": "pixCjDcWTUnK",
        "outputId": "804842be-1bae-4280-c299-83b0e3453c84"
      },
      "outputs": [
        {
          "ename": "TypeError",
          "evalue": "papai_noel() got multiple values for argument 'vel'",
          "output_type": "error",
          "traceback": [
            "\u001b[1;31m---------------------------------------------------------------------------\u001b[0m",
            "\u001b[1;31mTypeError\u001b[0m                                 Traceback (most recent call last)",
            "Input \u001b[1;32mIn [355]\u001b[0m, in \u001b[0;36m<module>\u001b[1;34m\u001b[0m\n\u001b[1;32m----> 1\u001b[0m \u001b[43mpapai_noel\u001b[49m\u001b[43m(\u001b[49m\u001b[38;5;124;43m\"\u001b[39;49m\u001b[38;5;124;43mcorreu\u001b[39;49m\u001b[38;5;124;43m\"\u001b[39;49m\u001b[43m,\u001b[49m\u001b[43m \u001b[49m\u001b[43mvel\u001b[49m\u001b[38;5;241;43m=\u001b[39;49m\u001b[38;5;241;43m5\u001b[39;49m\u001b[43m)\u001b[49m\n",
            "\u001b[1;31mTypeError\u001b[0m: papai_noel() got multiple values for argument 'vel'"
          ]
        }
      ],
      "source": [
        "papai_noel(\"correu\", vel=5)"
      ]
    },
    {
      "cell_type": "code",
      "execution_count": null,
      "metadata": {
        "ExecuteTime": {
          "end_time": "2022-01-16T22:11:06.325248Z",
          "start_time": "2022-01-16T22:11:06.307979Z"
        },
        "id": "01IpdsdCTUnK",
        "outputId": "94eb146a-0fbd-4f33-f224-d4bce3cee8b1"
      },
      "outputs": [
        {
          "ename": "TypeError",
          "evalue": "papai_noel() got an unexpected keyword argument 'comida'",
          "output_type": "error",
          "traceback": [
            "\u001b[1;31m---------------------------------------------------------------------------\u001b[0m",
            "\u001b[1;31mTypeError\u001b[0m                                 Traceback (most recent call last)",
            "Input \u001b[1;32mIn [356]\u001b[0m, in \u001b[0;36m<module>\u001b[1;34m\u001b[0m\n\u001b[1;32m----> 1\u001b[0m \u001b[43mpapai_noel\u001b[49m\u001b[43m(\u001b[49m\u001b[43mvel\u001b[49m\u001b[38;5;241;43m=\u001b[39;49m\u001b[38;5;241;43m5\u001b[39;49m\u001b[43m,\u001b[49m\u001b[43m \u001b[49m\u001b[43mcomida\u001b[49m\u001b[38;5;241;43m=\u001b[39;49m\u001b[38;5;124;43m\"\u001b[39;49m\u001b[38;5;124;43mbiscoito\u001b[39;49m\u001b[38;5;124;43m\"\u001b[39;49m\u001b[43m)\u001b[49m\n",
            "\u001b[1;31mTypeError\u001b[0m: papai_noel() got an unexpected keyword argument 'comida'"
          ]
        }
      ],
      "source": [
        "papai_noel(vel=5, comida=\"biscoito\")"
      ]
    },
    {
      "cell_type": "markdown",
      "metadata": {
        "id": "A4KE1Bf4EsSs"
      },
      "source": [
        "Em uma chamada de função, argumentos nomeados devem vir depois dos argumentos posicionais. Todos os argumentos nomeados passados devem corresponder com argumentos aceitos pela função (ex. comida não é um argumento nomeado válido para a função papai_noel), mas sua ordem é irrelevante. Isto também inclui argumentos obrigatórios (ex.: papai_noel(vel=1000) funciona). Nenhum argumento pode receber mais de um valor. Eis um exemplo que não funciona devido a esta restrição:"
      ]
    },
    {
      "cell_type": "code",
      "execution_count": null,
      "metadata": {
        "ExecuteTime": {
          "end_time": "2022-01-16T22:36:24.013274Z",
          "start_time": "2022-01-16T22:36:23.986196Z"
        },
        "id": "uC0alrGCEsSs",
        "outputId": "5e813c51-2709-4c8b-ad06-4d782d5411ca"
      },
      "outputs": [
        {
          "ename": "TypeError",
          "evalue": "function() got multiple values for argument 'a'",
          "output_type": "error",
          "traceback": [
            "\u001b[1;31m---------------------------------------------------------------------------\u001b[0m",
            "\u001b[1;31mTypeError\u001b[0m                                 Traceback (most recent call last)",
            "Input \u001b[1;32mIn [357]\u001b[0m, in \u001b[0;36m<module>\u001b[1;34m\u001b[0m\n\u001b[0;32m      1\u001b[0m \u001b[38;5;28;01mdef\u001b[39;00m \u001b[38;5;21mfunction\u001b[39m(a):\n\u001b[0;32m      2\u001b[0m     \u001b[38;5;28;01mpass\u001b[39;00m\n\u001b[1;32m----> 4\u001b[0m \u001b[43mfunction\u001b[49m\u001b[43m(\u001b[49m\u001b[38;5;241;43m0\u001b[39;49m\u001b[43m,\u001b[49m\u001b[43m \u001b[49m\u001b[43ma\u001b[49m\u001b[38;5;241;43m=\u001b[39;49m\u001b[38;5;241;43m0\u001b[39;49m\u001b[43m)\u001b[49m\n",
            "\u001b[1;31mTypeError\u001b[0m: function() got multiple values for argument 'a'"
          ]
        }
      ],
      "source": [
        "def function(a):\n",
        "    pass\n",
        "\n",
        "function(0, a=0)"
      ]
    },
    {
      "cell_type": "markdown",
      "metadata": {
        "id": "IobA5gRFEsSs"
      },
      "source": [
        "Quando um último parâmetro formal no formato \\*\\*nome está presente, ele recebe um dicionário (veja Tipo mapeamento — dict) contendo todos os argumentos nomeados, exceto aqueles que correspondem a um parâmetro formal. Isto pode ser combinado com um parâmetro formal no formato \\*nome (descrito na próxima subseção) que recebe uma tupla contendo os argumentos posicionais, além da lista de parâmetros formais. (\\*nome deve ocorrer antes de \\*\\*nome.) Por exemplo, se definirmos uma função assim:"
      ]
    },
    {
      "cell_type": "code",
      "execution_count": null,
      "metadata": {
        "ExecuteTime": {
          "end_time": "2022-01-16T22:41:03.151744Z",
          "start_time": "2022-01-16T22:41:03.143748Z"
        },
        "id": "bJ_OvvooEsSs",
        "outputId": "ecaf81f3-bd35-411e-a0e2-baadf274af1e"
      },
      "outputs": [
        {
          "name": "stdout",
          "output_type": "stream",
          "text": [
            "Você tem do tipo Prato ?\n",
            "Foi mal, mas acabou todo queijo Prato\n",
            "É bem procurado este queijo.\n",
            "A galera come pra caramba, mas você pode ver com:\n",
            "----------------------------------------\n",
            "loja : Alegria do Queijo\n",
            "dono : Fernando Cabra\n",
            "rua : Cheddar com Faria Lima\n"
          ]
        }
      ],
      "source": [
        "def loja_de_queijo(tipo, *args, **kwargs):\n",
        "    print(\"Você tem do tipo\", tipo, \"?\")\n",
        "    print(\"Foi mal, mas acabou todo queijo\", tipo)\n",
        "\n",
        "    for arg in args:\n",
        "        print(arg)\n",
        "    print(\"-\" * 40)\n",
        "\n",
        "    for kw in kwargs:\n",
        "        print(kw, \":\", kwargs[kw])\n",
        "\n",
        "loja_de_queijo(\n",
        "    \"Prato\",\n",
        "    \"É bem procurado este queijo.\",\n",
        "    \"A galera come pra caramba, mas você pode ver com:\",\n",
        "    loja=\"Alegria do Queijo\",\n",
        "    dono=\"Fernando Cabra\",\n",
        "    rua=\"Cheddar com Faria Lima\"\n",
        ")"
      ]
    },
    {
      "cell_type": "code",
      "execution_count": null,
      "metadata": {
        "ExecuteTime": {
          "end_time": "2022-01-16T22:41:53.231340Z",
          "start_time": "2022-01-16T22:41:53.221985Z"
        },
        "id": "SR1NaTG5TUnL",
        "outputId": "a3b89fcc-a525-45e5-bf9e-842394b23e57"
      },
      "outputs": [
        {
          "name": "stdout",
          "output_type": "stream",
          "text": [
            "Você tem do tipo Parto ?\n",
            "Foi mal, mas acabou todo queijo Parto\n",
            "1\n",
            "2\n",
            "3\n",
            "4\n",
            "5\n",
            "----------------------------------------\n",
            "nome : Mateus\n",
            "sobrenome : Forli\n"
          ]
        }
      ],
      "source": [
        "loja_de_queijo(\"Prato\", *lista, **dicionario)"
      ]
    },
    {
      "cell_type": "markdown",
      "metadata": {
        "id": "boN8xzvtEsSt"
      },
      "source": [
        "**Parâmetros especiais**: Por padrão, argumentos podem ser passadas para uma função Python tanto por posição quanto explicitamente pelo nome. Para uma melhor legibilidade e desempenho, faz sentido restringir a maneira pelo qual argumentos possam ser passados, assim um desenvolvedor precisa apenas olhar para a definição da função para determinar se os itens são passados por posição, por posição e nome, ou por nome.\n",
        "\n",
        "A definição de uma função pode parecer com:"
      ]
    },
    {
      "cell_type": "raw",
      "metadata": {
        "id": "ZG37EnDqEsSt"
      },
      "source": [
        "def f(pos1, pos2, /, pos_or_kwd, *, kwd1, kwd2):\n",
        "      -----------    ----------     ----------\n",
        "        |             |                  |\n",
        "        |        Positional or keyword   |\n",
        "        |                                - Keyword only\n",
        "         -- Positional only"
      ]
    },
    {
      "cell_type": "markdown",
      "metadata": {
        "id": "-MC8Lp2qEsSt"
      },
      "source": [
        "*Argumentos posicional-ou-nomeados*: Se / e * não estão presentes na definição da função, argumentos podem ser passados para uma função por posição ou por nome.\n",
        "\n",
        "*Parâmetros somente-posicionais*: Olhando com um pouco mais de detalhes, é possível definir certos parâmetros como somente-posicional. Se somente-posicional, a ordem do parâmetro importa, e os parâmetros não podem ser passados por nome. Parâmetros somente-posicional são colocados antes de / (barra). A / é usada para logicamente separar os argumentos somente-posicional dos demais parâmetros. Se não existe uma / na definição da função, não existe parâmetros somente-posicionais.\n",
        "\n",
        "Parâmetros após a / podem ser posicional-ou-nomeado ou somente-nomeado.\n",
        "\n",
        "*Argumentos somente-nomeados*: Para definir parâmetros como somente-nomeado, indicando que o parâmetro deve ser passado por argumento nomeado, colocamos um * na lista de argumentos imediatamente antes do primeiro parâmetro somente-nomeado."
      ]
    },
    {
      "cell_type": "code",
      "execution_count": null,
      "metadata": {
        "ExecuteTime": {
          "end_time": "2022-01-16T22:46:24.749604Z",
          "start_time": "2022-01-16T22:46:24.742755Z"
        },
        "id": "D5qlT8ROEsSt"
      },
      "outputs": [],
      "source": [
        "def funcao_normal(arg):\n",
        "    print(arg)\n",
        "\n",
        "def somente_posicional(arg, /):\n",
        "    print(arg)\n",
        "\n",
        "def somente_chaveado(*, arg):\n",
        "    print(arg)\n",
        "\n",
        "def combinado(pos, /, normal, *, chave):\n",
        "    print(pos, normal, chave)"
      ]
    },
    {
      "cell_type": "code",
      "execution_count": null,
      "metadata": {
        "ExecuteTime": {
          "end_time": "2022-01-16T22:46:43.595751Z",
          "start_time": "2022-01-16T22:46:43.589819Z"
        },
        "id": "A1aKYLihTUnN",
        "outputId": "6691d3fd-1788-42cc-eb41-a6e0c372f465"
      },
      "outputs": [
        {
          "name": "stdout",
          "output_type": "stream",
          "text": [
            "1\n",
            "1\n"
          ]
        }
      ],
      "source": [
        "funcao_normal(1)\n",
        "funcao_normal(arg=1)"
      ]
    },
    {
      "cell_type": "code",
      "execution_count": null,
      "metadata": {
        "ExecuteTime": {
          "end_time": "2022-01-16T22:47:06.666486Z",
          "start_time": "2022-01-16T22:47:06.643004Z"
        },
        "id": "XhMkMYXUTUnN",
        "outputId": "7a4d0954-5ed4-4839-f73f-5b8218c4d039"
      },
      "outputs": [
        {
          "name": "stdout",
          "output_type": "stream",
          "text": [
            "1\n"
          ]
        },
        {
          "ename": "TypeError",
          "evalue": "somente_posicional() got some positional-only arguments passed as keyword arguments: 'arg'",
          "output_type": "error",
          "traceback": [
            "\u001b[1;31m---------------------------------------------------------------------------\u001b[0m",
            "\u001b[1;31mTypeError\u001b[0m                                 Traceback (most recent call last)",
            "Input \u001b[1;32mIn [368]\u001b[0m, in \u001b[0;36m<module>\u001b[1;34m\u001b[0m\n\u001b[0;32m      1\u001b[0m somente_posicional(\u001b[38;5;241m1\u001b[39m)\n\u001b[1;32m----> 2\u001b[0m \u001b[43msomente_posicional\u001b[49m\u001b[43m(\u001b[49m\u001b[43marg\u001b[49m\u001b[38;5;241;43m=\u001b[39;49m\u001b[38;5;241;43m1\u001b[39;49m\u001b[43m)\u001b[49m\n",
            "\u001b[1;31mTypeError\u001b[0m: somente_posicional() got some positional-only arguments passed as keyword arguments: 'arg'"
          ]
        }
      ],
      "source": [
        "somente_posicional(1)\n",
        "somente_posicional(arg=1)"
      ]
    },
    {
      "cell_type": "code",
      "execution_count": null,
      "metadata": {
        "ExecuteTime": {
          "end_time": "2022-01-16T22:47:35.448804Z",
          "start_time": "2022-01-16T22:47:35.428254Z"
        },
        "id": "h_4uTLkyTUnN",
        "outputId": "49e7b566-6a87-4ba0-f736-c87f08ee9587"
      },
      "outputs": [
        {
          "name": "stdout",
          "output_type": "stream",
          "text": [
            "1\n"
          ]
        },
        {
          "ename": "TypeError",
          "evalue": "somente_chaveado() takes 0 positional arguments but 1 was given",
          "output_type": "error",
          "traceback": [
            "\u001b[1;31m---------------------------------------------------------------------------\u001b[0m",
            "\u001b[1;31mTypeError\u001b[0m                                 Traceback (most recent call last)",
            "Input \u001b[1;32mIn [369]\u001b[0m, in \u001b[0;36m<module>\u001b[1;34m\u001b[0m\n\u001b[0;32m      1\u001b[0m somente_chaveado(arg\u001b[38;5;241m=\u001b[39m\u001b[38;5;241m1\u001b[39m)\n\u001b[1;32m----> 2\u001b[0m \u001b[43msomente_chaveado\u001b[49m\u001b[43m(\u001b[49m\u001b[38;5;241;43m1\u001b[39;49m\u001b[43m)\u001b[49m\n",
            "\u001b[1;31mTypeError\u001b[0m: somente_chaveado() takes 0 positional arguments but 1 was given"
          ]
        }
      ],
      "source": [
        "somente_chaveado(arg=1)\n",
        "somente_chaveado(1)"
      ]
    },
    {
      "cell_type": "code",
      "execution_count": null,
      "metadata": {
        "ExecuteTime": {
          "end_time": "2022-01-16T22:48:08.448941Z",
          "start_time": "2022-01-16T22:48:08.441046Z"
        },
        "id": "GEa7GNTJTUnN",
        "outputId": "cc6e1b23-35e3-4f75-ab69-6d06b558b943"
      },
      "outputs": [
        {
          "name": "stdout",
          "output_type": "stream",
          "text": [
            "1 3 chave\n"
          ]
        }
      ],
      "source": [
        "combinado(1, normal=3, chave=\"chave\")"
      ]
    },
    {
      "cell_type": "markdown",
      "metadata": {
        "id": "n5i8-4d8EsSt"
      },
      "source": [
        "### Retorno"
      ]
    },
    {
      "cell_type": "markdown",
      "metadata": {
        "id": "k8Pqhx_4EsSt"
      },
      "source": [
        "É fácil escrever uma função que retorna o texto ao invés de exibi-los:"
      ]
    },
    {
      "cell_type": "code",
      "execution_count": null,
      "metadata": {
        "ExecuteTime": {
          "end_time": "2022-01-16T22:49:24.607051Z",
          "start_time": "2022-01-16T22:49:24.598371Z"
        },
        "id": "fiokimK8EsSt",
        "outputId": "a4805ccf-ea72-4209-91a6-d17bd7142858"
      },
      "outputs": [
        {
          "data": {
            "text/plain": [
              "'Olá Pedro! Prazer em te conhecer'"
            ]
          },
          "execution_count": 371,
          "metadata": {},
          "output_type": "execute_result"
        }
      ],
      "source": [
        "def ola_mundo(nome):\n",
        "    return f\"Olá {nome}! Prazer em te conhecer\"\n",
        "\n",
        "texto = ola_mundo(\"Pedro\")\n",
        "texto"
      ]
    },
    {
      "cell_type": "code",
      "execution_count": null,
      "metadata": {
        "ExecuteTime": {
          "end_time": "2022-01-16T22:50:02.281352Z",
          "start_time": "2022-01-16T22:50:02.274604Z"
        },
        "id": "DtxDXtrZTUnO",
        "outputId": "d3581565-e662-43f6-cd2c-c42d3770db3f"
      },
      "outputs": [
        {
          "data": {
            "text/plain": [
              "False"
            ]
          },
          "execution_count": 374,
          "metadata": {},
          "output_type": "execute_result"
        }
      ],
      "source": [
        "1 == None"
      ]
    },
    {
      "cell_type": "markdown",
      "metadata": {
        "id": "gH9CczlDEsSt"
      },
      "source": [
        "A instrução return finaliza a execução e retorna um valor da função. return sem qualquer expressão como argumento retorna None. Atingir o final da função também retorna None."
      ]
    },
    {
      "cell_type": "markdown",
      "metadata": {
        "id": "mOFhfeyEEsSt"
      },
      "source": [
        "A instrução também pode retornar múltiplos valores ao invés de apenas um, gerando uma tupla como resultado"
      ]
    },
    {
      "cell_type": "code",
      "execution_count": null,
      "metadata": {
        "ExecuteTime": {
          "end_time": "2022-01-16T22:51:06.457593Z",
          "start_time": "2022-01-16T22:51:06.450248Z"
        },
        "id": "4eE5H2HjEsSt",
        "outputId": "46a851c4-2a53-434b-81cf-20237b29d820"
      },
      "outputs": [
        {
          "name": "stdout",
          "output_type": "stream",
          "text": [
            "(15, -5, 50)\n",
            "(15, -5, 50)\n",
            "15 -5 50\n"
          ]
        }
      ],
      "source": [
        "def operacoes(a, b):\n",
        "    return a + b, a - b, a * b\n",
        "\n",
        "print(operacoes(5, 10))\n",
        "v = operacoes(5, 10)\n",
        "print(v)\n",
        "v1, v2, v3 = operacoes(5, 10)\n",
        "print(v1, v2, v3)"
      ]
    },
    {
      "cell_type": "markdown",
      "metadata": {
        "id": "7ctdKBUoEsSt"
      },
      "source": [
        "### Docstring"
      ]
    },
    {
      "cell_type": "markdown",
      "metadata": {
        "id": "ibUhkzMlEsSt"
      },
      "source": [
        "Opcionalmente, a primeira linha do corpo da função pode ser uma literal string, cujo propósito é documentar a função. Se presente, essa string chama-se docstring. (Há mais informação sobre docstrings na seção Strings de documentação.) Existem ferramentas que utilizam docstrings para produzir automaticamente documentação online ou para imprimir, ou ainda, permitir que o usuário navegue interativamente pelo código. É uma boa prática incluir sempre docstrings em suas funções, portanto, tente fazer disso um hábito."
      ]
    },
    {
      "cell_type": "code",
      "execution_count": null,
      "metadata": {
        "ExecuteTime": {
          "end_time": "2022-01-16T22:52:56.687150Z",
          "start_time": "2022-01-16T22:52:56.680215Z"
        },
        "id": "MnNZmM6eEsSt"
      },
      "outputs": [],
      "source": [
        "def ola_mundo(nome):\n",
        "    \"\"\"\n",
        "    Imprime uma mensagem de olá com o nome da pessoa\n",
        "\n",
        "    :param nome: nome da pessoa a ser impresso\n",
        "    \"\"\"\n",
        "    texto_de_ola = f\"Olá {nome}! Prazer em te conhecer\"\n",
        "    print(texto_de_ola)"
      ]
    },
    {
      "cell_type": "code",
      "execution_count": null,
      "metadata": {
        "id": "RSOUGC0dTUnQ"
      },
      "outputs": [],
      "source": [
        "ola_mundo()"
      ]
    },
    {
      "cell_type": "code",
      "execution_count": null,
      "metadata": {
        "ExecuteTime": {
          "end_time": "2022-01-16T22:53:24.074987Z",
          "start_time": "2022-01-16T22:53:24.067040Z"
        },
        "id": "nWo_RcLkTUnQ",
        "outputId": "07b50056-5159-4088-9504-b4259224c631"
      },
      "outputs": [
        {
          "data": {
            "text/plain": [
              "'\\n    Imprime uma mensagem de olá com o nome da pessoa\\n    \\n    :param nome: nome da pessoa a ser impresso\\n    '"
            ]
          },
          "execution_count": 378,
          "metadata": {},
          "output_type": "execute_result"
        }
      ],
      "source": [
        "ola_mundo.__doc__"
      ]
    },
    {
      "cell_type": "markdown",
      "metadata": {
        "id": "BT_40OuZEsSt"
      },
      "source": [
        "Em particular o padrão de documentação que utilizaremos é o Sphinx (https://www.sphinx-doc.org/en/master/).\n",
        "\n",
        "Sphinx usa a sintaxe de palavra-chave (palavra reservada), que a maioria das linguagens de programação fazem. As palavras-chave mais importantes são:\n",
        "\n",
        "- *param* e *type*: O valor do parâmetro e o tipo de variável.\n",
        "- *return* e *rtype*: o valor de retorno e seu tipo.\n",
        "- *:raise* : Descreve todos os erros que são levantados pelo código.\n",
        "- *.. seealso::*: Leituras adicionais.\n",
        "- *.. notes::*: Adicionar uma nota.\n",
        "- *.. warning::*: Adicionar um aviso."
      ]
    },
    {
      "cell_type": "code",
      "execution_count": null,
      "metadata": {
        "id": "EVNBdecNEsSt"
      },
      "outputs": [],
      "source": [
        "def multiplica(a, b, c=1):\n",
        "    \"\"\"\n",
        "    Retorna a multiplicação de todos os argumentos da função\n",
        "\n",
        "    :param a: argumento 1\n",
        "    :type a: int\n",
        "    :param b: argumento 2\n",
        "    :type b: int\n",
        "    :param c: argumento 3, padrão 0\n",
        "    :type c: int, opcional\n",
        "    :raises ValueError: se a == b\n",
        "\n",
        "    :rtype: int\n",
        "    :return: multiplicação de todos os argumentos\n",
        "    \"\"\"\n",
        "    if a == b:\n",
        "        raise ValueError(\"arg1 deve ser diferente de arg2\")\n",
        "    return a * b * c"
      ]
    },
    {
      "cell_type": "markdown",
      "metadata": {
        "id": "kYEUvyU5EsSu"
      },
      "source": [
        "Para mais detalhes veja https://sphinx-rtd-tutorial.readthedocs.io/en/latest/docstrings.html"
      ]
    },
    {
      "cell_type": "markdown",
      "metadata": {
        "id": "ID71GCTAEsSu"
      },
      "source": [
        "### Type hint"
      ]
    },
    {
      "cell_type": "markdown",
      "metadata": {
        "id": "xJTiOhe6EsSu"
      },
      "source": [
        "Em Python utiliza-se tipagem dinâmica, na qual os tipos de variáveis são atribuidos no momento da execução do código. Por exemplo, quando definimos a função ola_mundo, a príncipio não informamos qual era o tipo da variavel \"nome\", mas de alguma maneira, em algum momento, a linguagem conseguiu inferir que nome deveria ser do tipo \"string\" e com isso executar os blocos de código de acordo.\n",
        "\n",
        "Podemos, por outro lado, colocar de forma explícita o tipo de uma determinada variável utilizando o \"type hint\". Como o nome implica (type hint = dica de tipo) esta especificação não forçará a linguagem a utilizar um determinado tipo para uma variável, mas ajudará na documentação e em verificações do código, e serão muito utilizados no nosso código"
      ]
    },
    {
      "cell_type": "code",
      "execution_count": null,
      "metadata": {
        "ExecuteTime": {
          "end_time": "2022-01-16T22:58:24.477546Z",
          "start_time": "2022-01-16T22:58:24.473042Z"
        },
        "id": "HucAx-W5EsSu",
        "outputId": "0da2c000-2272-4e52-f86a-d681506f24f1"
      },
      "outputs": [
        {
          "name": "stdout",
          "output_type": "stream",
          "text": [
            "Olá Pedro! Prazer em te conhecer\n"
          ]
        }
      ],
      "source": [
        "ola_mundo(\"Pedro\")"
      ]
    },
    {
      "cell_type": "code",
      "execution_count": null,
      "metadata": {
        "ExecuteTime": {
          "end_time": "2022-01-16T22:58:33.911790Z",
          "start_time": "2022-01-16T22:58:33.904933Z"
        },
        "id": "vH87Q_0MTUnS",
        "outputId": "f014811d-c6c4-43d6-d4bd-51cc814de071"
      },
      "outputs": [
        {
          "name": "stdout",
          "output_type": "stream",
          "text": [
            "Olá (2+3j)! Prazer em te conhecer\n"
          ]
        }
      ],
      "source": [
        "ola_mundo(2 + 3j)"
      ]
    },
    {
      "cell_type": "code",
      "execution_count": null,
      "metadata": {
        "ExecuteTime": {
          "end_time": "2022-01-16T23:00:24.427827Z",
          "start_time": "2022-01-16T23:00:24.422349Z"
        },
        "id": "HBFPGz9kTUnS"
      },
      "outputs": [],
      "source": [
        "def ola_mundo(nome: str) -> None:\n",
        "    \"\"\"\n",
        "    Imprime uma mensagem de olá com o nome da pessoa\n",
        "\n",
        "    :param nome: nome da pessoa a ser impresso\n",
        "    :type nome: str\n",
        "    \"\"\"\n",
        "    texto_de_ola = f\"Olá {nome}! Prazer em te conhecer\"\n",
        "    print(texto_de_ola)"
      ]
    },
    {
      "cell_type": "code",
      "execution_count": null,
      "metadata": {
        "ExecuteTime": {
          "end_time": "2022-01-16T23:01:07.258346Z",
          "start_time": "2022-01-16T23:01:07.251474Z"
        },
        "id": "CN-yPQfSTUnS"
      },
      "outputs": [],
      "source": [
        "import typing"
      ]
    },
    {
      "cell_type": "code",
      "execution_count": null,
      "metadata": {
        "ExecuteTime": {
          "end_time": "2022-01-16T23:00:30.551644Z",
          "start_time": "2022-01-16T23:00:30.545738Z"
        },
        "id": "ch0lUoL7TUnS",
        "outputId": "169e5b26-4c01-4e18-e156-38265ef59be3"
      },
      "outputs": [
        {
          "name": "stdout",
          "output_type": "stream",
          "text": [
            "Olá (2+3j)! Prazer em te conhecer\n"
          ]
        }
      ],
      "source": [
        "ola_mundo(2 + 3j)"
      ]
    },
    {
      "cell_type": "markdown",
      "metadata": {
        "id": "aAwnxHspEsSu"
      },
      "source": [
        "Para mais detalhes https://diogommartins.medium.com/python-3-e-type-hints-40e80a9e8214"
      ]
    },
    {
      "cell_type": "markdown",
      "metadata": {
        "id": "Q15hjwtjEsSu"
      },
      "source": [
        "### Funções anônimas"
      ]
    },
    {
      "cell_type": "markdown",
      "metadata": {
        "id": "VN8ydeltEsSu"
      },
      "source": [
        "Pequenas funções anônimas podem ser criadas com a palavra-chave lambda. Esta função retorna a soma de seus dois argumentos: lambda a, b: a+b. As funções lambda podem ser usadas sempre que objetos função forem necessários. Eles são sintaticamente restritos a uma única expressão. Semanticamente, eles são apenas açúcar sintático para uma definição de função normal. Como definições de funções aninhadas, as funções lambda podem referenciar variáveis contidas no escopo:"
      ]
    },
    {
      "cell_type": "code",
      "execution_count": null,
      "metadata": {
        "ExecuteTime": {
          "end_time": "2022-01-16T23:02:40.992566Z",
          "start_time": "2022-01-16T23:02:40.983678Z"
        },
        "id": "71mudldZEsSu",
        "outputId": "55b7500f-6b45-49e0-bc82-cf7edf7abf0c"
      },
      "outputs": [
        {
          "data": {
            "text/plain": [
              "11"
            ]
          },
          "execution_count": 384,
          "metadata": {},
          "output_type": "execute_result"
        }
      ],
      "source": [
        "def cria_incrementador(n):\n",
        "    return n + 1\n",
        "cria_incrementador(10)"
      ]
    },
    {
      "cell_type": "code",
      "execution_count": null,
      "metadata": {
        "ExecuteTime": {
          "end_time": "2022-01-16T23:02:49.450870Z",
          "start_time": "2022-01-16T23:02:49.441956Z"
        },
        "id": "qsR8o9tQTUnT",
        "outputId": "7d324d81-5ca2-41ca-f082-dfcf9c899c2b"
      },
      "outputs": [
        {
          "data": {
            "text/plain": [
              "11"
            ]
          },
          "execution_count": 385,
          "metadata": {},
          "output_type": "execute_result"
        }
      ],
      "source": [
        "cria_incrementador = lambda n: n + 1\n",
        "cria_incrementador(10)"
      ]
    },
    {
      "cell_type": "code",
      "execution_count": null,
      "metadata": {
        "ExecuteTime": {
          "end_time": "2022-01-16T23:04:21.864900Z",
          "start_time": "2022-01-16T23:04:21.859901Z"
        },
        "id": "Br9XsxL6TUnT",
        "outputId": "97c161d2-9bf9-45c6-ed36-ead51d5aeba6"
      },
      "outputs": [
        {
          "name": "stdout",
          "output_type": "stream",
          "text": [
            "1\n",
            "42\n"
          ]
        }
      ],
      "source": [
        "def cria_incrementador(n):\n",
        "    return lambda x: x + n\n",
        "\n",
        "f1 = cria_incrementador(1)\n",
        "f2 = cria_incrementador(42)\n",
        "\n",
        "print(f1(0))\n",
        "print(f2(0))"
      ]
    },
    {
      "cell_type": "markdown",
      "metadata": {
        "id": "OsD0Qam4EsSu"
      },
      "source": [
        "O exemplo acima usa uma expressão lambda para retornar uma função. Outro uso é passar uma pequena função como um argumento:"
      ]
    },
    {
      "cell_type": "code",
      "execution_count": null,
      "metadata": {
        "ExecuteTime": {
          "end_time": "2022-01-16T23:12:40.570361Z",
          "start_time": "2022-01-16T23:12:40.565368Z"
        },
        "id": "GFsCax7aEsSu",
        "outputId": "04957e49-4a2e-41c8-967a-d0966a2893f3"
      },
      "outputs": [
        {
          "data": {
            "text/plain": [
              "[(2, 'dois'), (4, 'quatro'), (3, 'três'), (1, 'um')]"
            ]
          },
          "execution_count": 394,
          "metadata": {},
          "output_type": "execute_result"
        }
      ],
      "source": [
        "pares = [(2, \"dois\"), (4, \"quatro\"), (1, \"um\"),  (3, \"três\")]\n",
        "pares.sort(key=lambda par: par[1])\n",
        "pares"
      ]
    },
    {
      "cell_type": "markdown",
      "metadata": {
        "id": "_tXQj-AlEsSu"
      },
      "source": [
        "---"
      ]
    },
    {
      "cell_type": "markdown",
      "metadata": {
        "id": "T4Yq3nmOEsSv"
      },
      "source": [
        "**Exercício 12**"
      ]
    },
    {
      "cell_type": "markdown",
      "metadata": {
        "id": "rL1UUxxxEsSv"
      },
      "source": [
        "No jogo dos 15 o objetivo é receber uma matriz com números de 1 a 15 ordenados de forma aleatória e ir trocando as peças até que se consiga obter um tabuleiro com os números ordenados.\n",
        "\n",
        "<img src=\"https://images-na.ssl-images-amazon.com/images/I/8107cskBQ3L.png\" width=200 height=150 />\n",
        "\n",
        "Neste exercício iremos reproduzir o jogo dos 15 através da construção de funções específicas. Você já começa com algumas funções pré-definidas, como gera_matriz, mas precisará completar as demais:\n",
        "\n",
        "1. troca_elemento: Troca os elementos de uma matriz de itens\n",
        "1. verifica_se_venceu: Recebe uma matriz 4x4 e verifica se os números estão ordenados de forma que o jogador venceu\n",
        "1. verifica_jogada: Verifica se a jogada escolhida pelo usuário é válida\n",
        "\n",
        "Você pode fazer quantas funções adcionais quanto quiser\n",
        "\n",
        "Organize o seu jogo dentro da função main. Dê para o usuário a toda rodada a opção de desistir(0) ou de inserir uma posição(1), a posição inserida será feita colocando a linha e coluna da matriz, por exemplo 11 significa que\n",
        "estamos nos referenciando ao elemento da linha 1 coluna 1, 32 se referencia ao elemento da linha 3 coluna 2"
      ]
    },
    {
      "cell_type": "code",
      "execution_count": null,
      "metadata": {
        "id": "LZM5KnKrHMwh",
        "solution2": "hidden",
        "solution2_first": true
      },
      "outputs": [],
      "source": [
        "import random\n",
        "import typing\n",
        "import time\n",
        "from IPython.display import clear_output\n",
        "\n",
        "\n",
        "def gera_matriz() -> typing.List[typing.List[int]]:\n",
        "    \"\"\"\n",
        "    Gera uma matriz 4x4 com elementos em posições aleatórias\n",
        "    entre 0 e 15\n",
        "\n",
        "    :return: matriz 4x4 com valores entre 0 e 15\n",
        "    \"\"\"\n",
        "    matriz = list()\n",
        "    lista = list(range(16))\n",
        "    for j in range(4):\n",
        "        linha = []\n",
        "        for i in range(4):\n",
        "            x = random.choice(lista)\n",
        "            linha.append(x)\n",
        "            lista.remove(x)\n",
        "        matriz.append(linha)\n",
        "    return matriz\n",
        "\n",
        "\n",
        "def acha_pos_zero(matriz: typing.List[typing.List[int]]) -> int:\n",
        "    \"\"\"\n",
        "    Função que procura e devolve a posição do zero da matriz (espaço vazio)\n",
        "\n",
        "    :param matriz: matriz com os elementos do jogo\n",
        "    :return: posição do elemento 0\n",
        "    \"\"\"\n",
        "    for i in range(len(matriz)):\n",
        "        for j in range(len(matriz[0])):\n",
        "            if matriz[i][j] == 0:\n",
        "                return (i + 1) * 10 + j + 1\n",
        "\n",
        "\n",
        "def imprime_jogo(\n",
        "    matriz: typing.List[typing.List[int]]\n",
        ") -> None:\n",
        "    \"\"\"\n",
        "    Imprime o estado atual do tabuleiro\n",
        "\n",
        "    :param matriz: matriz com os elementos do jogo\n",
        "    \"\"\"\n",
        "    for i in range(4):\n",
        "        print(\"+------+------+------+------+\")\n",
        "        for j in range(4):\n",
        "            print(\"+  %02d \" % matriz[i][j], end=\" \")\n",
        "        print(\"+\")\n",
        "    print(\"+------+------+------+------+\")\n",
        "\n",
        "\n",
        "def troca_elemento(\n",
        "    pos1: int,\n",
        "    pos2: int,\n",
        "    matriz: typing.List[typing.List[int]]\n",
        ") -> None:\n",
        "    \"\"\"\n",
        "    Dada uma matriz (listas de listas) de tamanho 4x4 troque os\n",
        "    elementos contidos na posição 1 com o elemento da posição 2,\n",
        "    na qual os elementos são representados por um número inteiro\n",
        "    cujo valor correponde a linha e coluna do elemento.\n",
        "\n",
        "    Por exemplo pos1 = 11 -> elemento da primeira linha e primeira coluna\n",
        "\n",
        "    Assim, se pos1 = 11, pos2 = 12 e\n",
        "    matriz =\n",
        "        1  2  3  4\n",
        "        5  6  7  8\n",
        "        9 10 11 12\n",
        "\n",
        "    Queremos obter\n",
        "        2  1  3  4\n",
        "        5  6  7  8\n",
        "        9 10 11 12\n",
        "\n",
        "    As mudanças da matriz devem ser feitas dentro da função, sem necessidade\n",
        "    de retornar uma nova matriz\n",
        "\n",
        "    :param pos1: número inteiro da posição 1\n",
        "    :param pos2: número inteiro da posição 2\n",
        "    :param matriz: matriz de elementos\n",
        "    \"\"\"\n",
        "    pass\n",
        "\n",
        "\n",
        "def verifica_jogada(pos: int, zero_pos: int) -> bool:\n",
        "    \"\"\"\n",
        "    Verifca se a jogada selecionada é valida\n",
        "\n",
        "    :param pos: posição do elemento a ser trocado\n",
        "    :param zero_pos: posição do elemento 0\n",
        "    :return: True se a jogada é válida\n",
        "    \"\"\"\n",
        "    pass\n",
        "\n",
        "\n",
        "def verifica_se_venceu(matriz: typing.List[typing.List[int]]) -> bool:\n",
        "    \"\"\"\n",
        "    Verifica se o jogador venceu o jogo\n",
        "\n",
        "    :param matriz: matriz com os elementos do jogo\n",
        "    :return: True se o jogador venceu\n",
        "    \"\"\"\n",
        "    pass\n",
        "\n",
        "\n",
        "def main() -> None:\n",
        "    \"\"\"\n",
        "    Função principal do jogo\n",
        "    \"\"\"\n",
        "    # inicializa o jogo\n",
        "    jogo = gera_matriz()\n",
        "    zero_pos = acha_pos_zero(jogo)\n",
        "    jogando = True\n",
        "    venceu = False\n",
        "\n",
        "    # cria o loop principal do jogo\n",
        "    while jogando:\n",
        "        # imprime o estado do jogo\n",
        "        clear_output(wait=True)\n",
        "        time.sleep(0.3)\n",
        "        imprime_jogo(jogo)\n",
        "        time.sleep(0.3)\n",
        "\n",
        "        # pede a posição até obter uma posição válida\n",
        "        pos = int(input(\"Digite a posição do elemento que você deseja trocar: \"))\n",
        "        while not verifica_jogada(pos, zero_pos):\n",
        "            print(\"Entrada inválida. Digite novamente\")\n",
        "            pos = int(input(\"Digite a posição do elemento que você deseja trocar: \"))\n",
        "\n",
        "        # executa a troca de elementos\n",
        "        troca_elemento(pos, zero_pos, jogo)\n",
        "        zero_pos = pos\n",
        "\n",
        "        # verifica se o usuário venceu o jogo\n",
        "        venceu = verifica_se_venceu(jogo)\n",
        "        jogando = not venceu\n",
        "\n",
        "    # imprime o resultado do jogo\n",
        "    if venceu:\n",
        "        print(\"Parabens, você venceu!!!\")\n",
        "    else:\n",
        "        print(\"Obrigado por jogar.\")\n",
        "\n",
        "main()"
      ]
    },
    {
      "cell_type": "code",
      "execution_count": null,
      "metadata": {
        "ExecuteTime": {
          "end_time": "2021-09-07T14:53:20.466438Z",
          "start_time": "2021-09-07T14:46:09.912774Z"
        },
        "cellView": "form",
        "id": "-T3YnFi7EsSv",
        "solution2": "hidden"
      },
      "outputs": [],
      "source": [
        "#@title Resposta\n",
        "import random\n",
        "import typing\n",
        "import time\n",
        "from IPython.display import clear_output\n",
        "\n",
        "\n",
        "def gera_matriz() -> typing.List[typing.List[int]]:\n",
        "    \"\"\"\n",
        "    Gera uma matriz 4x4 com elementos em posições aleatórias\n",
        "    entre 0 e 15\n",
        "\n",
        "    :return: matriz 4x4 com valores entre 0 e 15\n",
        "    \"\"\"\n",
        "    matriz = list()\n",
        "    lista = list(range(16))\n",
        "    for j in range(4):\n",
        "        linha = []\n",
        "        for i in range(4):\n",
        "            x = random.choice(lista)\n",
        "            linha.append(x)\n",
        "            lista.remove(x)\n",
        "        matriz.append(linha)\n",
        "    return matriz\n",
        "\n",
        "\n",
        "def acha_pos_zero(matriz: typing.List[typing.List[int]]) -> int:\n",
        "    \"\"\"\n",
        "    Função que procura e devolve a posição do zero da matriz (espaço vazio)\n",
        "\n",
        "    :param matriz: matriz com os elementos do jogo\n",
        "    :return: posição do elemento 0\n",
        "    \"\"\"\n",
        "    for i in range(len(matriz)):\n",
        "        for j in range(len(matriz[0])):\n",
        "            if matriz[i][j] == 0:\n",
        "                return (i + 1) * 10 + j + 1\n",
        "\n",
        "\n",
        "def imprime_jogo(\n",
        "    matriz: typing.List[typing.List[int]]\n",
        ") -> None:\n",
        "    \"\"\"\n",
        "    Imprime o estado atual do tabuleiro\n",
        "\n",
        "    :param matriz: matriz com os elementos do jogo\n",
        "    \"\"\"\n",
        "    for i in range(4):\n",
        "        print(\"+------+------+------+------+\")\n",
        "        for j in range(4):\n",
        "            print(\"+  %02d \" % matriz[i][j], end=\" \")\n",
        "        print(\"+\")\n",
        "    print(\"+------+------+------+------+\")\n",
        "\n",
        "\n",
        "def troca_elemento(\n",
        "    pos1: int,\n",
        "    pos2: int,\n",
        "    matriz: typing.List[typing.List[int]]\n",
        ") -> None:\n",
        "    \"\"\"\n",
        "    Dada uma matriz (listas de listas) de tamanho 4x4 troque os\n",
        "    elementos contidos na posição 1 com o elemento da posição 2,\n",
        "    na qual os elementos são representados por um número inteiro\n",
        "    cujo valor correponde a linha e coluna do elemento.\n",
        "\n",
        "    Por exemplo pos1 = 11 -> elemento da primeira linha e primeira coluna\n",
        "\n",
        "    Assim, se pos1 = 11, pos2 = 12 e\n",
        "    matriz =\n",
        "        1  2  3  4\n",
        "        5  6  7  8\n",
        "        9 10 11 12\n",
        "\n",
        "    Queremos obter\n",
        "        2  1  3  4\n",
        "        5  6  7  8\n",
        "        9 10 11 12\n",
        "\n",
        "    As mudanças da matriz devem ser feitas dentro da função, sem necessidade\n",
        "    de retornar uma nova matriz\n",
        "\n",
        "    :param pos1: número inteiro da posição 1\n",
        "    :param pos2: número inteiro da posição 2\n",
        "    :param matriz: matriz de elementos\n",
        "    \"\"\"\n",
        "    elemento1 = matriz[pos1 // 10 - 1][pos1 % 10 -1]\n",
        "    elemento2 = matriz[pos2 // 10 - 1][pos2 % 10-1]\n",
        "    matriz[pos1 // 10-1][pos1 % 10 - 1] = elemento2\n",
        "    matriz[pos2 // 10-1][pos2 % 10 - 1] = elemento1\n",
        "\n",
        "\n",
        "def verifica_jogada(pos: int, zero_pos: int) -> bool:\n",
        "    \"\"\"\n",
        "    Verifca se a jogada selecionada é valida\n",
        "\n",
        "    :param pos: posição do elemento a ser trocado\n",
        "    :param zero_pos: posição do elemento 0\n",
        "    :return: True se a jogada é válida\n",
        "    \"\"\"\n",
        "    linha = pos // 10\n",
        "    coluna = pos % 10\n",
        "\n",
        "    linha_zero = zero_pos // 10\n",
        "    coluna_zero = zero_pos % 10\n",
        "\n",
        "    if linha < 1 or linha > 4 or coluna < 1 or coluna > 4:\n",
        "        return False\n",
        "    else:\n",
        "        return (\n",
        "            (linha == linha_zero -1 and coluna == coluna_zero)\n",
        "            or (linha == linha_zero and (coluna == coluna_zero-1 or coluna == coluna_zero+1))\n",
        "            or (linha == linha_zero+1 and coluna == coluna_zero)\n",
        "        )\n",
        "\n",
        "\n",
        "def verifica_se_venceu(matriz: typing.List[typing.List[int]]) -> bool:\n",
        "    \"\"\"\n",
        "    Verifica se o jogador venceu o jogo\n",
        "\n",
        "    :param matriz: matriz com os elementos do jogo\n",
        "    :return: True se o jogador venceu\n",
        "    \"\"\"\n",
        "    em_linha = list()\n",
        "    for l in matriz:\n",
        "        em_linha += l\n",
        "    return em_linha == sorted(em_linha)\n",
        "\n",
        "\n",
        "def main() -> None:\n",
        "    \"\"\"\n",
        "    Função principal do jogo\n",
        "    \"\"\"\n",
        "    # inicializa o jogo\n",
        "    jogo = gera_matriz()\n",
        "    zero_pos = acha_pos_zero(jogo)\n",
        "    jogando = True\n",
        "    venceu = False\n",
        "\n",
        "    # cria o loop principal do jogo\n",
        "    while jogando:\n",
        "        # imprime o estado do jogo\n",
        "        clear_output(wait=True)\n",
        "        time.sleep(0.3)\n",
        "        imprime_jogo(jogo)\n",
        "        time.sleep(0.3)\n",
        "\n",
        "        # pede a posição até obter uma posição válida\n",
        "        pos = int(input(\"Digite a posição do elemento que você deseja trocar: \"))\n",
        "        while not verifica_jogada(pos, zero_pos):\n",
        "            print(\"Entrada inválida. Digite novamente\")\n",
        "            pos = int(input(\"Digite a posição do elemento que você deseja trocar: \"))\n",
        "\n",
        "        # executa a troca de elementos\n",
        "        troca_elemento(pos, zero_pos, jogo)\n",
        "        zero_pos = pos\n",
        "\n",
        "        # verifica se o usuário venceu o jogo\n",
        "        venceu = verifica_se_venceu(jogo)\n",
        "        jogando = not venceu\n",
        "\n",
        "    # imprime o resultado do jogo\n",
        "    if venceu:\n",
        "        print(\"Parabens, você venceu!!!\")\n",
        "    else:\n",
        "        print(\"Obrigado por jogar.\")\n",
        "\n",
        "main()"
      ]
    },
    {
      "cell_type": "markdown",
      "metadata": {
        "id": "uK_CrsR1EsSv"
      },
      "source": [
        "---"
      ]
    },
    {
      "cell_type": "markdown",
      "metadata": {
        "id": "wqg5wjWcEsSv"
      },
      "source": [
        "## Leitura de Dados"
      ]
    },
    {
      "cell_type": "markdown",
      "metadata": {
        "id": "YIALCjYrQ7pt"
      },
      "source": [
        "---"
      ]
    },
    {
      "cell_type": "markdown",
      "metadata": {
        "id": "ujpz-u46Q7HN"
      },
      "source": [
        "**NOTA**"
      ]
    },
    {
      "cell_type": "markdown",
      "metadata": {
        "id": "hBLsMRDXRCGM"
      },
      "source": [
        "Se você estiver executando este notebook a partir do google colab, seria necessário que você ajustasse o caminho para os diferentes arquivos. Entretanto, para faciliar a vida, iremos baixar os dados na pasta temporária do colab executando a célula abaixo."
      ]
    },
    {
      "cell_type": "code",
      "execution_count": null,
      "metadata": {
        "ExecuteTime": {
          "end_time": "2022-01-17T00:39:54.743506Z",
          "start_time": "2022-01-17T00:39:52.836253Z"
        },
        "id": "tWOTqgZXRFCv",
        "outputId": "321072ba-3639-4913-e170-f5dfdec4330c"
      },
      "outputs": [
        {
          "data": {
            "text/plain": [
              "('palavras.txt', <http.client.HTTPMessage at 0x283da058310>)"
            ]
          },
          "execution_count": 412,
          "metadata": {},
          "output_type": "execute_result"
        }
      ],
      "source": [
        "import urllib.request\n",
        "urllib.request.urlretrieve(\"https://drive.google.com/uc?id=1SQ6GksfmYdgRn7Bku46XxBFG-aovSu0M&export=download\", \"usuarios.txt\")\n",
        "urllib.request.urlretrieve(\"https://drive.google.com/uc?id=1SQISXgA98wU_v1oRws57lvMhms2e2rDY&export=download\", \"palavras.txt\")"
      ]
    },
    {
      "cell_type": "markdown",
      "metadata": {
        "id": "Bq0WnqlxREzw"
      },
      "source": [
        "Para ver o conteúdo da sua pasta execute o comando abaixo em uma nova célula"
      ]
    },
    {
      "cell_type": "code",
      "execution_count": null,
      "metadata": {
        "ExecuteTime": {
          "end_time": "2022-01-17T00:40:09.004192Z",
          "start_time": "2022-01-17T00:40:08.980862Z"
        },
        "id": "FStOq9nFREis",
        "outputId": "db543af4-fbd1-4e3d-f307-1085e2f8f067"
      },
      "outputs": [
        {
          "name": "stdout",
          "output_type": "stream",
          "text": [
            " Volume in drive C has no label.\n",
            " Volume Serial Number is B0A0-248A\n",
            "\n",
            " Directory of C:\\Users\\Ignorƒncia Zero\\Downloads\n",
            "\n",
            "01/16/2022  09:38 PM    <DIR>          .\n",
            "01/16/2022  09:38 PM    <DIR>          ..\n",
            "01/16/2022  10:40 AM    <DIR>          .ipynb_checkpoints\n",
            "09/01/2021  06:05 PM       500,375,944 Anaconda3-2021.05-Windows-x86_64.exe\n",
            "01/16/2022  09:26 PM                 0 arquivo_teste.txt\n",
            "09/01/2021  05:27 PM         1,342,296 ChromeSetup.exe\n",
            "09/01/2021  05:32 PM        50,101,024 Git-2.33.0.2-64-bit.exe\n",
            "01/16/2022  09:39 PM           315,237 palavras.txt\n",
            "09/03/2021  05:17 PM       390,035,696 pycharm-community-2021.2.1.exe\n",
            "01/16/2022  09:38 PM           251,474 Python B sico (Code Along).ipynb\n",
            "01/16/2022  09:39 PM               157 usuarios.txt\n",
            "09/03/2021  11:11 PM        79,559,664 VSCodeUserSetup-x64-1.60.0.exe\n",
            "               9 File(s)  1,021,981,492 bytes\n",
            "               3 Dir(s)  16,498,024,448 bytes free\n"
          ]
        }
      ],
      "source": [
        "!dir \".\""
      ]
    },
    {
      "cell_type": "markdown",
      "metadata": {
        "id": "jhyKkxzSQ6yt"
      },
      "source": [
        "---"
      ]
    },
    {
      "cell_type": "markdown",
      "metadata": {
        "id": "lOTNo1aCEsSw"
      },
      "source": [
        "A função open() devolve um objeto arquivo, e é frequentemente usada com dois argumentos: open(nome_do_arquivo, modo)."
      ]
    },
    {
      "cell_type": "code",
      "execution_count": null,
      "metadata": {
        "ExecuteTime": {
          "end_time": "2022-01-17T00:52:15.960673Z",
          "start_time": "2022-01-17T00:52:15.956714Z"
        },
        "id": "akN673iBTUnY"
      },
      "outputs": [],
      "source": [
        "f = open(\"usuarios.txt\", \"r\")\n",
        "f.close()"
      ]
    },
    {
      "cell_type": "code",
      "execution_count": null,
      "metadata": {
        "ExecuteTime": {
          "end_time": "2022-01-17T00:52:48.121653Z",
          "start_time": "2022-01-17T00:52:48.117684Z"
        },
        "id": "nz56_4GkTUnY"
      },
      "outputs": [],
      "source": [
        "f = open(\"usuarios - Copy.txt\", \"w\")\n",
        "f.close()"
      ]
    },
    {
      "cell_type": "code",
      "execution_count": null,
      "metadata": {
        "ExecuteTime": {
          "end_time": "2022-01-17T00:53:06.553872Z",
          "start_time": "2022-01-17T00:53:06.549867Z"
        },
        "id": "EDm6oManTUnc"
      },
      "outputs": [],
      "source": [
        "f = open(\"arquivo_teste.txt\", \"w\")\n",
        "f.close()"
      ]
    },
    {
      "cell_type": "code",
      "execution_count": null,
      "metadata": {
        "ExecuteTime": {
          "end_time": "2022-01-17T00:53:26.696191Z",
          "start_time": "2022-01-17T00:53:26.692241Z"
        },
        "id": "MBqdINl5TUne"
      },
      "outputs": [],
      "source": [
        "f = open(\"usuarios.txt\", \"a\")\n",
        "f.close()"
      ]
    },
    {
      "cell_type": "code",
      "execution_count": null,
      "metadata": {
        "ExecuteTime": {
          "end_time": "2022-01-17T00:53:53.832133Z",
          "start_time": "2022-01-17T00:53:53.828147Z"
        },
        "id": "3X8Uz_5aTUnh"
      },
      "outputs": [],
      "source": [
        "f = open(\"usuarios.txt\", \"r+\")\n",
        "f.close()"
      ]
    },
    {
      "cell_type": "markdown",
      "metadata": {
        "id": "3h-t9dSiEsSw"
      },
      "source": [
        "O primeiro argumento é uma string contendo o nome/caminho do arquivo. O segundo argumento é outra string, contendo alguns caracteres que descrevem o modo como o arquivo será usado. modo pode ser 'r' quando o arquivo será apenas lido, 'w' para escrever (se o arquivo já existir seu conteúdo prévio será apagado), e 'a' para abrir o arquivo para adição; qualquer escrita será adicionada ao final do arquivo. A opção 'r+' abre o arquivo tanto para leitura como para escrita. O argumento modo é opcional, em caso de omissão será assumido 'r'.\n",
        "\n",
        "Normalmente, arquivos são abertos em modo texto, ou seja, você lê e grava strings, de e para o arquivo, numa codificação específica. Se a codificação não for especificada, o padrão é dependente da plataforma/sistema operacional (consulte open()). Incluir 'b' ao modo abre o arquivo em modo binário: os dados são lidos e escritos na forma de bytes. Esse modo deve ser usado para todos os arquivos que não contenham texto.\n",
        "\n",
        "Em modo texto, o padrão durante a leitura é converter terminadores de linha específicos da plataforma (\\n no Unix, \\r\\n no Windows) para apenas \\n. Ao escrever no modo de texto, o padrão é converter as ocorrências de \\n de volta para os finais de linha específicos da plataforma. Essa modificação de bastidores nos dados do arquivo é adequada para arquivos de texto, mas corromperá dados binários, como arquivos JPEG ou EXE. Tenha muito cuidado para só usar o modo binário, ao ler e gravar esses arquivos.\n",
        "\n",
        "É uma boa prática usar a palavra-chave with ao lidar com arquivos. A vantagem é que o arquivo é fechado corretamente após o término de sua utilização, mesmo que uma exceção seja levantada em algum momento. Usar with também é muito mais curto que escrever seu bloco equivalente try-finally:"
      ]
    },
    {
      "cell_type": "code",
      "execution_count": null,
      "metadata": {
        "ExecuteTime": {
          "end_time": "2022-01-17T00:57:09.003257Z",
          "start_time": "2022-01-17T00:57:08.999282Z"
        },
        "id": "2egxy03GTUni",
        "outputId": "e704a1f9-40f4-4ed6-f0df-7d1f45a2f74c"
      },
      "outputs": [
        {
          "name": "stdout",
          "output_type": "stream",
          "text": [
            "alexandre       456123789\n",
            "anderson        1245698456\n",
            "antonio         123456456\n",
            "carlos          91257581\n",
            "cesar           987458\n",
            "rosemary        789456125\n",
            "True\n"
          ]
        }
      ],
      "source": [
        "with open(\"usuarios.txt\") as f:\n",
        "    dados = f.read()\n",
        "print(dados)\n",
        "print(f.closed)"
      ]
    },
    {
      "cell_type": "markdown",
      "metadata": {
        "id": "Nk41nwR1EsSw"
      },
      "source": [
        "Se você não está usando a palavra reservada with, então você deveria chamar f.close() para fechar o arquivo e imediatamente liberar qualquer recurso do sistema usado por ele.\n",
        "\n",
        "    Aviso Chamar f.write() sem usar a palavra reservada with ou chamar``f.close()`` pode resultar nos argumentos de f.write() não serem completamente escritos no disco, mesmo se o programa for encerrado com êxito.\n",
        "\n",
        "Depois que um arquivo é fechado, seja por uma instrução with ou chamando f.close(), as tentativas de usar o arquivo falharão automaticamente."
      ]
    },
    {
      "cell_type": "code",
      "execution_count": null,
      "metadata": {
        "ExecuteTime": {
          "end_time": "2022-01-17T00:58:39.702412Z",
          "start_time": "2022-01-17T00:58:39.686164Z"
        },
        "id": "DMf209t4TUnk",
        "outputId": "4a8416c3-d1c0-4f91-8c80-2b208f086da4"
      },
      "outputs": [
        {
          "ename": "ValueError",
          "evalue": "I/O operation on closed file.",
          "output_type": "error",
          "traceback": [
            "\u001b[1;31m---------------------------------------------------------------------------\u001b[0m",
            "\u001b[1;31mValueError\u001b[0m                                Traceback (most recent call last)",
            "Input \u001b[1;32mIn [432]\u001b[0m, in \u001b[0;36m<module>\u001b[1;34m\u001b[0m\n\u001b[0;32m      1\u001b[0m f \u001b[38;5;241m=\u001b[39m \u001b[38;5;28mopen\u001b[39m(\u001b[38;5;124m\"\u001b[39m\u001b[38;5;124musuarios.txt\u001b[39m\u001b[38;5;124m\"\u001b[39m)\n\u001b[0;32m      2\u001b[0m f\u001b[38;5;241m.\u001b[39mclose()\n\u001b[1;32m----> 3\u001b[0m \u001b[43mf\u001b[49m\u001b[38;5;241;43m.\u001b[39;49m\u001b[43mread\u001b[49m\u001b[43m(\u001b[49m\u001b[43m)\u001b[49m\n",
            "\u001b[1;31mValueError\u001b[0m: I/O operation on closed file."
          ]
        }
      ],
      "source": [
        "f = open(\"usuarios.txt\")\n",
        "f.close()\n",
        "f.read()"
      ]
    },
    {
      "cell_type": "markdown",
      "metadata": {
        "id": "Q6gpJSNbEsSw"
      },
      "source": [
        "Para simplificar, o resto dos exemplos nesta seção assumem que um objeto arquivo chamado f já foi criado.\n",
        "\n",
        "Para ler o conteúdo de um arquivo, chame f.read(tamanho), que lê um punhado de dados devolvendo-os como uma string (em modo texto) ou bytes (em modo binário). tamanho é um argumento numérico opcional. Quando tamanho é omitido ou negativo, todo o conteúdo do arquivo é lido e devolvido; se o arquivo é duas vezes maior que memória da máquina, o problema é seu. Caso contrário, no máximo tamanho caracteres (em modo texto) ou tamanho bytes (em modo binário) são lidos e devolvidos. Se o fim do arquivo for atingido, f.read() devolve uma string vazia ('')."
      ]
    },
    {
      "cell_type": "code",
      "execution_count": null,
      "metadata": {
        "ExecuteTime": {
          "end_time": "2022-01-17T00:59:21.277012Z",
          "start_time": "2022-01-17T00:59:21.272098Z"
        },
        "id": "RsEOpD6lTUnl"
      },
      "outputs": [],
      "source": [
        "f = open(\"usuarios.txt\", \"r\")"
      ]
    },
    {
      "cell_type": "code",
      "execution_count": null,
      "metadata": {
        "ExecuteTime": {
          "end_time": "2022-01-17T00:59:37.368694Z",
          "start_time": "2022-01-17T00:59:37.363795Z"
        },
        "id": "PSJ4SJ1oTUnl",
        "outputId": "fce86d6f-e8eb-46c6-b437-ce0129ae0f69"
      },
      "outputs": [
        {
          "data": {
            "text/plain": [
              "'alexandre       456123789\\nanderson        1245698456\\nantonio         123456456\\ncarlos          91257581\\ncesar           987458\\nrosemary        789456125'"
            ]
          },
          "execution_count": 434,
          "metadata": {},
          "output_type": "execute_result"
        }
      ],
      "source": [
        "f.read()"
      ]
    },
    {
      "cell_type": "code",
      "execution_count": null,
      "metadata": {
        "ExecuteTime": {
          "end_time": "2022-01-17T00:59:44.554018Z",
          "start_time": "2022-01-17T00:59:44.550004Z"
        },
        "id": "Wi3HFEwDTUnm",
        "outputId": "ca568b54-8bfa-41d0-8643-fcdbb77f67ff"
      },
      "outputs": [
        {
          "data": {
            "text/plain": [
              "''"
            ]
          },
          "execution_count": 435,
          "metadata": {},
          "output_type": "execute_result"
        }
      ],
      "source": [
        "f.read()"
      ]
    },
    {
      "cell_type": "code",
      "execution_count": null,
      "metadata": {
        "ExecuteTime": {
          "end_time": "2022-01-17T01:00:36.201097Z",
          "start_time": "2022-01-17T01:00:36.198161Z"
        },
        "id": "yct_tMsLTUnm"
      },
      "outputs": [],
      "source": [
        "f.close()"
      ]
    },
    {
      "cell_type": "markdown",
      "metadata": {
        "id": "b86hR077EsSw"
      },
      "source": [
        "O método f.readline() lê uma única linha do arquivo; o caractere de quebra de linha (\\n) é mantido ao final da string, e só é omitido na última linha do arquivo, se o arquivo não terminar com uma quebra de linha. Isso elimina a ambiguidade do valor retornado; se f.readline() retorna uma string vazia, o fim do arquivo foi atingido. Linhas em branco são representadas por um '\\n' – uma string contendo apenas o caractere terminador de linha."
      ]
    },
    {
      "cell_type": "code",
      "execution_count": null,
      "metadata": {
        "ExecuteTime": {
          "end_time": "2022-01-17T01:01:24.811297Z",
          "start_time": "2022-01-17T01:01:24.806376Z"
        },
        "id": "47S78i8jEsSw",
        "outputId": "31fcc653-caf1-4bdd-d01e-c8332b89f34e"
      },
      "outputs": [
        {
          "name": "stdout",
          "output_type": "stream",
          "text": [
            "alexandre       456123789\n",
            "\n",
            "anderson        1245698456\n",
            "\n",
            "antonio         123456456\n",
            "\n",
            "carlos          91257581\n",
            "\n",
            "cesar           987458\n",
            "\n",
            "rosemary        789456125\n",
            "\n",
            "\n"
          ]
        }
      ],
      "source": [
        "f = open(\"usuarios.txt\", \"r\")\n",
        "print(f.readline())\n",
        "print(f.readline())\n",
        "print(f.readline())\n",
        "print(f.readline())\n",
        "print(f.readline())\n",
        "print(f.readline())\n",
        "print(f.readline())\n",
        "print(f.readline())\n",
        "f.close()"
      ]
    },
    {
      "cell_type": "markdown",
      "metadata": {
        "id": "bUFwSEVSEsSw"
      },
      "source": [
        "Uma maneira alternativa de ler linhas do arquivo é iterar diretamente pelo objeto arquivo. É eficiente, rápido e resulta em código mais simples:"
      ]
    },
    {
      "cell_type": "code",
      "execution_count": null,
      "metadata": {
        "ExecuteTime": {
          "end_time": "2022-01-17T01:03:18.333155Z",
          "start_time": "2022-01-17T01:03:18.326304Z"
        },
        "id": "8pVw-ntJEsSw",
        "outputId": "00c31f15-0e55-4542-9ed2-0d8bf49d9925"
      },
      "outputs": [
        {
          "name": "stdout",
          "output_type": "stream",
          "text": [
            "alexandre       456123789 | anderson        1245698456 | antonio         123456456 | carlos          91257581 | cesar           987458 | rosemary        789456125 | "
          ]
        }
      ],
      "source": [
        "f = open(\"usuarios.txt\", \"r\")\n",
        "for linha in f:\n",
        "    print(linha.replace(\"\\n\", \"\"), end=\" | \")\n",
        "f.close()"
      ]
    },
    {
      "cell_type": "code",
      "execution_count": null,
      "metadata": {
        "ExecuteTime": {
          "end_time": "2022-01-17T01:04:06.075159Z",
          "start_time": "2022-01-17T01:04:06.070330Z"
        },
        "id": "dUTgOGB6TUnr",
        "outputId": "c458af58-cd9e-426f-f4aa-64b38f119cd0"
      },
      "outputs": [
        {
          "name": "stdout",
          "output_type": "stream",
          "text": [
            "['alexandre       456123789\\n', 'anderson        1245698456\\n', 'antonio         123456456\\n', 'carlos          91257581\\n', 'cesar           987458\\n', 'rosemary        789456125']\n"
          ]
        }
      ],
      "source": [
        "f = open(\"usuarios.txt\", \"r\")\n",
        "print(f.readlines())\n",
        "f.close()"
      ]
    },
    {
      "cell_type": "markdown",
      "metadata": {
        "id": "jmwXIBHiEsSw"
      },
      "source": [
        "Se desejar ler todas as linhas de um arquivo em uma lista, pode-se usar list(f) ou f.readlines().\n",
        "\n",
        "f.write(string) escreve o conteúdo de string para o arquivo, retornando o número de caracteres escritos."
      ]
    },
    {
      "cell_type": "code",
      "execution_count": null,
      "metadata": {
        "ExecuteTime": {
          "end_time": "2022-01-17T01:04:45.325555Z",
          "start_time": "2022-01-17T01:04:45.319607Z"
        },
        "id": "GO9jbNXXEsSw",
        "outputId": "3fd97f67-db02-4484-db4a-a4633fb8d54a"
      },
      "outputs": [
        {
          "name": "stdout",
          "output_type": "stream",
          "text": [
            "16\n"
          ]
        }
      ],
      "source": [
        "with open(\"arquivo_teste.txt\", \"w\") as f:\n",
        "    print(f.write(\"Este é um teste\\n\"))"
      ]
    },
    {
      "cell_type": "markdown",
      "metadata": {
        "id": "vm4wfYTQEsSw"
      },
      "source": [
        "Outros tipos de objetos precisam ser convertidos – seja para uma string (em modo texto) ou para bytes (em modo binário) – antes de escrevê-los:"
      ]
    },
    {
      "cell_type": "code",
      "execution_count": null,
      "metadata": {
        "ExecuteTime": {
          "end_time": "2022-01-17T01:06:07.068368Z",
          "start_time": "2022-01-17T01:06:07.062433Z"
        },
        "id": "bIfCRgmCEsSx",
        "outputId": "eb6abf32-1d07-46b2-946d-ff94af95ec27"
      },
      "outputs": [
        {
          "name": "stdout",
          "output_type": "stream",
          "text": [
            "16\n"
          ]
        }
      ],
      "source": [
        "with open(\"arquivo_teste.txt\", \"a\") as f:\n",
        "    valor = (\"resposta\", 42)\n",
        "    s = str(valor)\n",
        "    print(f.write(s))"
      ]
    },
    {
      "cell_type": "markdown",
      "metadata": {
        "id": "91GSaOC3EsSx"
      },
      "source": [
        "f.tell() retorna um inteiro dando a posição atual do objeto arquivo, no arquivo representado, como número de bytes desde o início do arquivo, no modo binário, e um número ininteligível, quando no modo de texto.\n",
        "\n",
        "Para mudar a posição, use f.seek(offset, de_onde). A nova posição é computada pela soma do deslocamento offset a um ponto de referência especificado pelo argumento de-onde. Se o valor de de_onde é 0,a referência é o início do arquivo, 1 refere-se à posição atual, e 2 refere-se ao fim do arquivo. Este argumento pode ser omitido e o valor padrão é 0, usando o início do arquivo como referência."
      ]
    },
    {
      "cell_type": "code",
      "execution_count": null,
      "metadata": {
        "ExecuteTime": {
          "end_time": "2022-01-17T01:06:56.458725Z",
          "start_time": "2022-01-17T01:06:56.453911Z"
        },
        "id": "u5eWhKLREsSx"
      },
      "outputs": [],
      "source": [
        "f = open(\"usuarios.txt\", \"r\")"
      ]
    },
    {
      "cell_type": "code",
      "execution_count": null,
      "metadata": {
        "ExecuteTime": {
          "end_time": "2022-01-17T01:07:00.506403Z",
          "start_time": "2022-01-17T01:07:00.502402Z"
        },
        "id": "0x_rH7zKTUnw",
        "outputId": "95c3bf85-19bf-4ac8-c566-005d062c1c50"
      },
      "outputs": [
        {
          "data": {
            "text/plain": [
              "0"
            ]
          },
          "execution_count": 447,
          "metadata": {},
          "output_type": "execute_result"
        }
      ],
      "source": [
        "f.tell()"
      ]
    },
    {
      "cell_type": "code",
      "execution_count": null,
      "metadata": {
        "ExecuteTime": {
          "end_time": "2022-01-17T01:07:04.891072Z",
          "start_time": "2022-01-17T01:07:04.886171Z"
        },
        "id": "tfXL7i3oTUnx",
        "outputId": "5b3ef469-589f-4e49-babe-c058ed96d764"
      },
      "outputs": [
        {
          "data": {
            "text/plain": [
              "'alexandre       456123789\\nanderson        1245698456\\nantonio         123456456\\ncarlos          91257581\\ncesar           987458\\nrosemary        789456125'"
            ]
          },
          "execution_count": 448,
          "metadata": {},
          "output_type": "execute_result"
        }
      ],
      "source": [
        "f.read()"
      ]
    },
    {
      "cell_type": "code",
      "execution_count": null,
      "metadata": {
        "ExecuteTime": {
          "end_time": "2022-01-17T01:07:07.689772Z",
          "start_time": "2022-01-17T01:07:07.685798Z"
        },
        "id": "hUFUsImdTUnz",
        "outputId": "4ca5b474-cdfd-40bd-cb7b-bca15c4e7672"
      },
      "outputs": [
        {
          "data": {
            "text/plain": [
              "157"
            ]
          },
          "execution_count": 449,
          "metadata": {},
          "output_type": "execute_result"
        }
      ],
      "source": [
        "f.tell()"
      ]
    },
    {
      "cell_type": "code",
      "execution_count": null,
      "metadata": {
        "ExecuteTime": {
          "end_time": "2022-01-17T01:07:23.883934Z",
          "start_time": "2022-01-17T01:07:23.878953Z"
        },
        "id": "SI-D1FesTUn0",
        "outputId": "39c80b21-449a-4783-a739-906825641b7d"
      },
      "outputs": [
        {
          "data": {
            "text/plain": [
              "5"
            ]
          },
          "execution_count": 450,
          "metadata": {},
          "output_type": "execute_result"
        }
      ],
      "source": [
        "f.seek(5)"
      ]
    },
    {
      "cell_type": "code",
      "execution_count": null,
      "metadata": {
        "ExecuteTime": {
          "end_time": "2022-01-17T01:07:26.843355Z",
          "start_time": "2022-01-17T01:07:26.837534Z"
        },
        "id": "WyuWjEECTUn0",
        "outputId": "b8c008b4-0696-478d-cfc2-7c2c5613e761"
      },
      "outputs": [
        {
          "data": {
            "text/plain": [
              "'ndre       456123789\\nanderson        1245698456\\nantonio         123456456\\ncarlos          91257581\\ncesar           987458\\nrosemary        789456125'"
            ]
          },
          "execution_count": 451,
          "metadata": {},
          "output_type": "execute_result"
        }
      ],
      "source": [
        "f.read()"
      ]
    },
    {
      "cell_type": "code",
      "execution_count": null,
      "metadata": {
        "ExecuteTime": {
          "end_time": "2022-01-17T01:07:55.115177Z",
          "start_time": "2022-01-17T01:07:55.111279Z"
        },
        "id": "gMiJ9g9BTUn0"
      },
      "outputs": [],
      "source": [
        "f.close()"
      ]
    },
    {
      "cell_type": "markdown",
      "metadata": {
        "id": "AXTyc-z-EsSx"
      },
      "source": [
        "---"
      ]
    },
    {
      "cell_type": "markdown",
      "metadata": {
        "id": "1Xj3ZyYsEsSx"
      },
      "source": [
        "**Exercício 13**"
      ]
    },
    {
      "cell_type": "markdown",
      "metadata": {
        "id": "Uw0JznOjEsSx"
      },
      "source": [
        "A ACME Inc., uma empresa de 500 funcionários, está tendo problemas de espaço em disco no seu servidor de arquivos. Para tentar resolver este problema, o Administrador de Rede precisa saber qual o espaço ocupado pelos usuários, e\n",
        "identificar os usuários com maior espaço ocupado. Através de um programa, baixado da Internet, ele conseguiu gerar o seguinte arquivo, chamado\n",
        "\n",
        "\"usuarios.txt\":\n",
        "\n",
        "    alexandre       456123789\n",
        "    anderson        1245698456\n",
        "    antonio         123456456\n",
        "    carlos          91257581\n",
        "    cesar           987458\n",
        "    rosemary        789456125\n",
        "\n",
        "Neste arquivo, o nome do usuário possui 15 caracteres. A partir deste arquivo, você deve criar um programa que gere um relatório, chamado \"relatório.txt\", no seguinte formato:\n",
        "\n",
        "    ACME Inc.               Uso do espaço em disco pelos usuários\n",
        "    ------------------------------------------------------------------------\n",
        "    Nr.  Usuário        Espaço utilizado     % do uso\n",
        "\n",
        "    1    alexandre       434,99 MB             16,85%\n",
        "    2    anderson       1187,99 MB             46,02%\n",
        "    3    antonio         117,73 MB              4,56%\n",
        "    4    carlos           87,03 MB              3,37%\n",
        "    5    cesar             0,94 MB              0,04%\n",
        "    6    rosemary        752,88 MB             29,16%\n",
        "\n",
        "Espaço total ocupado: 2581,57 MB\n",
        "Espaço médio ocupado: 430,26 MB\n",
        "\n",
        "O arquivo de entrada deve ser lido uma única vez, e os dados armazenados em memória, caso sejam necessários, de forma a agilizar a execução do programa."
      ]
    },
    {
      "cell_type": "code",
      "execution_count": null,
      "metadata": {
        "id": "wgVVjb4NEsSx",
        "solution2": "hidden",
        "solution2_first": true
      },
      "outputs": [],
      "source": []
    },
    {
      "cell_type": "code",
      "execution_count": null,
      "metadata": {
        "ExecuteTime": {
          "end_time": "2021-09-07T22:54:33.095152Z",
          "start_time": "2021-09-07T22:54:33.077200Z"
        },
        "cellView": "form",
        "id": "MuOnlEeNEsSx",
        "solution2": "hidden"
      },
      "outputs": [],
      "source": [
        "#@title Resposta\n",
        "usuarios = dict()\n",
        "\n",
        "# abre o arquivo com os usuários\n",
        "with open(\"usuarios.txt\", \"r\") as arquivo:\n",
        "    # começa a percorrer o condeúdo da linha\n",
        "    for linha in arquivo:\n",
        "        # obtém o usuário\n",
        "        usuario = linha[:15].strip()\n",
        "\n",
        "        # obtém o espaço utilizado\n",
        "        espaco = int(linha[15:].strip())\n",
        "\n",
        "        # adiciona ao dicionário\n",
        "        usuarios[usuario] = espaco\n",
        "\n",
        "# calcula o espaço total ocupado\n",
        "espaco_total = sum(list(usuarios.values()))\n",
        "\n",
        "# realiza a impressão dos resultados\n",
        "print(\n",
        "\"\"\"\n",
        "ACME Inc.               Uso do espaço em disco pelos usuários\n",
        "------------------------------------------------------------------------\n",
        "Nr.  Usuário        Espaço utilizado     % do uso\n",
        "\"\"\"\n",
        ")\n",
        "\n",
        "# percorre os usuários\n",
        "n = 1\n",
        "for u, e in usuarios.items():\n",
        "    # adiciona o número do usuário\n",
        "    output = f\"{n}\".ljust(5)\n",
        "\n",
        "    # adiciona o nome do usuário\n",
        "    output += f\"{u}\".ljust(15)\n",
        "\n",
        "    # adiciona o espaço ocupado\n",
        "    ocup = (\"%.2f\" % (e / (1024 ** 2))).rjust(8).replace(\".\", \",\")\n",
        "    ocup += \" MB\"\n",
        "    output += ocup.ljust(21)\n",
        "\n",
        "    # adiciona o % do disco ocupado\n",
        "    output += (\"%.2f%%\" % (100 * e / espaco_total)).rjust(8).replace(\".\", \",\")\n",
        "\n",
        "    print(output)\n",
        "    n += 1"
      ]
    },
    {
      "cell_type": "markdown",
      "metadata": {
        "id": "HdIezrcAEsSx"
      },
      "source": [
        "---"
      ]
    },
    {
      "cell_type": "markdown",
      "metadata": {
        "id": "7jkRoFclEsSx"
      },
      "source": [
        "## Projeto Final"
      ]
    },
    {
      "cell_type": "markdown",
      "metadata": {
        "id": "KlfqSZ6zEsSx"
      },
      "source": [
        "Como parte de seu projeto final, vamos gerar as funções de um jogo de forca.\n",
        "\n",
        "Utilize a estrutura abaixo e preencha as funções sem definição para fazer o jogo funcionar adequadamente.\n",
        "\n",
        "Como parte do loop do jogo:\n",
        "1. Carregue o arquivo palavras.txt para obter a lista de palavras possíveis\n",
        "1. Sorteie uma palavra aleatória da lista acima\n",
        "1. Imprima o estado da forca atual com os _ _ _ embaixo da forca com as letras a serem chutadas\n",
        "1. Peça para o usuário chutar uma letra\n",
        "1. Se a letra estiver correta substitua os _ onde ela aparece\n",
        "1. Se estiver errada, imprima embaixo da forca as letras erradas e atualize o boneco\n",
        "1. Caso o usuário perca, informe o número de chutes corretos e errados e a palavra correta\n",
        "1. Caso o usuário ganhe, informe uma mensagem de sucesso\n",
        "1. Ao final pergunte se o usuário quer jogar novamente\n",
        "\n",
        "Lembre-se que a mesma letra não pode ser chutada novamente, e que não se pode colocar caracteres especiais ou com acento"
      ]
    },
    {
      "cell_type": "code",
      "execution_count": null,
      "metadata": {
        "id": "k-JOKIE7EsSx",
        "solution2": "hidden",
        "solution2_first": true
      },
      "outputs": [],
      "source": [
        "import random\n",
        "import typing\n",
        "import time\n",
        "from IPython.display import clear_output\n",
        "\n",
        "\n",
        "FORCAIMG = [\n",
        "    \"\"\"\n",
        "\n",
        "      +---+\n",
        "      |   |\n",
        "          |\n",
        "          |\n",
        "          |\n",
        "          |\n",
        "    =========\"\"\",\n",
        "    \"\"\"\n",
        "\n",
        "      +---+\n",
        "      |   |\n",
        "      O   |\n",
        "          |\n",
        "          |\n",
        "          |\n",
        "    =========\"\"\",\n",
        "    \"\"\"\n",
        "\n",
        "      +---+\n",
        "      |   |\n",
        "      O   |\n",
        "      |   |\n",
        "          |\n",
        "          |\n",
        "    =========\"\"\",\n",
        "    \"\"\"\n",
        "\n",
        "      +---+\n",
        "      |   |\n",
        "      O   |\n",
        "     /|   |\n",
        "          |\n",
        "          |\n",
        "    =========\"\"\",\n",
        "    \"\"\"\n",
        "\n",
        "      +---+\n",
        "      |   |\n",
        "      O   |\n",
        "     /|\\  |\n",
        "          |\n",
        "          |\n",
        "    =========\"\"\",\n",
        "    \"\"\"\n",
        "\n",
        "      +---+\n",
        "      |   |\n",
        "      O   |\n",
        "     /|\\  |\n",
        "     /    |\n",
        "          |\n",
        "    =========\"\"\",\n",
        "    \"\"\"\n",
        "\n",
        "      +---+\n",
        "      |   |\n",
        "      O   |\n",
        "     /|\\  |\n",
        "     / \\  |\n",
        "          |\n",
        "    =========\"\"\",\n",
        "]\n",
        "\n",
        "\n",
        "def main():\n",
        "    \"\"\"\n",
        "    Função Principal do programa\n",
        "    \"\"\"\n",
        "    pass\n",
        "\n",
        "\n",
        "def le_palavras() -> typing.List[str]:\n",
        "    \"\"\"\n",
        "    Le arquivo com palavras que podem ser utilizadas\n",
        "    como parte do jogo\n",
        "    \"\"\"\n",
        "    pass\n",
        "\n",
        "\n",
        "def gera_palavra_aleatoria(palavras: str) -> typing.List[str]:\n",
        "    \"\"\"\n",
        "    Função que retorna uma string a partir da\n",
        "    lista de palavras\n",
        "\n",
        "    :param palavras: lista com palavras que podem ser sorteadas\n",
        "    :return: palavra secreta do jogo\n",
        "    \"\"\"\n",
        "    pass\n",
        "\n",
        "\n",
        "def imprime_com_espacos(palavra: str) -> None:\n",
        "    \"\"\"\n",
        "    Recebe uma string palavra ou lista e imprime essa com\n",
        "    espaço entre suas letras ou strings\n",
        "\n",
        "    :param palavra: palavra secreta do jogo\n",
        "    \"\"\"\n",
        "    pass\n",
        "\n",
        "\n",
        "def imprime_jogo(\n",
        "    letras_erradas: typing.List[str],\n",
        "    letras_acertadas: typing.List[str],\n",
        "    palavra_secreta: str,\n",
        ") -> None:\n",
        "    \"\"\"\n",
        "    Feito a partir da variável global que contem as imagens\n",
        "    do jogo em ASCII art, e támbem as letras chutadas de\n",
        "    maneira correta e as letras erradas e a palavra secreta\n",
        "\n",
        "    :param letras_erradas: lista de letras chutadas incorretamente\n",
        "    :param letras_acertadas: lista de letras chutadas corretamente\n",
        "    :param palavra_secreta: palavra secreta do jogo\n",
        "    \"\"\"\n",
        "    pass\n",
        "\n",
        "\n",
        "def recebe_palpite(palpites_feitos: typing.List[str]) -> str:\n",
        "    \"\"\"\n",
        "    Função feita para garantir que o usuário coloque uma\n",
        "    entrada válida, ou seja, que seja uma única letra\n",
        "    que ele ainda não tenha chutado\n",
        "\n",
        "    :param palpites_feitos: lista de letras chutadas anteriormente\n",
        "    :return: nova letra chutada\n",
        "    \"\"\"\n",
        "    pass\n",
        "\n",
        "\n",
        "def jogar_novamente() -> bool:\n",
        "    \"\"\"\n",
        "    Função que pede para o usuário decidir se ele quer\n",
        "    jogar novamente e retorna um booleano representando\n",
        "    a resposta\n",
        "\n",
        "    :return: True se o jogador informou que deseja jogar novamente\n",
        "    \"\"\"\n",
        "    return input(\"Você quer jogar novamente? (sim ou nao)\\n\").upper().startswith(\"S\")\n",
        "\n",
        "\n",
        "def verifica_se_ganhou(\n",
        "    palavra_secreta: str, letras_acertadas: typing.List[str]\n",
        ") -> bool:\n",
        "    \"\"\"\n",
        "    Função que verifica se o usuário acertou todas as\n",
        "    letras da palavra secreta\n",
        "\n",
        "    :param palavra_secreta: palavra secreta do jogo\n",
        "    :param letras_acertadas: lista de letras chutadas corretamente\n",
        "    :return: booleano informando se o jogador ganhou o jogo\n",
        "    \"\"\"\n",
        "    pass\n",
        "\n",
        "\n",
        "main()"
      ]
    },
    {
      "cell_type": "code",
      "execution_count": null,
      "metadata": {
        "ExecuteTime": {
          "end_time": "2021-09-07T23:14:17.685320Z",
          "start_time": "2021-09-07T23:13:30.789570Z"
        },
        "cellView": "form",
        "id": "txalWC9tEsSy",
        "solution2": "hidden"
      },
      "outputs": [],
      "source": [
        "#@title Resposta\n",
        "import random\n",
        "import typing\n",
        "import time\n",
        "from IPython.display import clear_output\n",
        "\n",
        "\n",
        "FORCAIMG = [\n",
        "    \"\"\"\n",
        "\n",
        "      +---+\n",
        "      |   |\n",
        "          |\n",
        "          |\n",
        "          |\n",
        "          |\n",
        "    =========\"\"\",\n",
        "    \"\"\"\n",
        "\n",
        "      +---+\n",
        "      |   |\n",
        "      O   |\n",
        "          |\n",
        "          |\n",
        "          |\n",
        "    =========\"\"\",\n",
        "    \"\"\"\n",
        "\n",
        "      +---+\n",
        "      |   |\n",
        "      O   |\n",
        "      |   |\n",
        "          |\n",
        "          |\n",
        "    =========\"\"\",\n",
        "    \"\"\"\n",
        "\n",
        "      +---+\n",
        "      |   |\n",
        "      O   |\n",
        "     /|   |\n",
        "          |\n",
        "          |\n",
        "    =========\"\"\",\n",
        "    \"\"\"\n",
        "\n",
        "      +---+\n",
        "      |   |\n",
        "      O   |\n",
        "     /|\\  |\n",
        "          |\n",
        "          |\n",
        "    =========\"\"\",\n",
        "    \"\"\"\n",
        "\n",
        "      +---+\n",
        "      |   |\n",
        "      O   |\n",
        "     /|\\  |\n",
        "     /    |\n",
        "          |\n",
        "    =========\"\"\",\n",
        "    \"\"\"\n",
        "\n",
        "      +---+\n",
        "      |   |\n",
        "      O   |\n",
        "     /|\\  |\n",
        "     / \\  |\n",
        "          |\n",
        "    =========\"\"\",\n",
        "]\n",
        "\n",
        "\n",
        "def main():\n",
        "    \"\"\"\n",
        "    Função Principal do programa\n",
        "    \"\"\"\n",
        "    global FORCAIMG\n",
        "\n",
        "    letras_erradas = list()\n",
        "    letras_acertadas = list()\n",
        "\n",
        "    # lista as palavras disponíveis para o jogo\n",
        "    palavras = le_palavras()\n",
        "\n",
        "    # seleciona uma palavra aleatória\n",
        "    palavra_secreta = gera_palavra_aleatoria(palavras).upper()\n",
        "\n",
        "    # cria o loop do jogo\n",
        "    jogando = True\n",
        "    while jogando:\n",
        "        # imprime o estado do jogo atual\n",
        "        clear_output(wait=True)\n",
        "        time.sleep(0.3)\n",
        "        imprime_jogo(letras_erradas, letras_acertadas, palavra_secreta)\n",
        "        time.sleep(0.3)\n",
        "\n",
        "        # recebe um palpite do jogador\n",
        "        palpite = recebe_palpite(letras_erradas + letras_acertadas)\n",
        "\n",
        "        # adiciona o palpite ao dicionário adequado\n",
        "        if palpite in palavra_secreta:\n",
        "            letras_acertadas.append(palpite)\n",
        "        else:\n",
        "            letras_erradas.append(palpite)\n",
        "\n",
        "        # verifica se o usuário ganhou o jogo\n",
        "        if verifica_se_ganhou(palavra_secreta, letras_acertadas):\n",
        "            clear_output(wait=True)\n",
        "            time.sleep(0.3)\n",
        "            print(\"Exato! A palavra secreta é \" + palavra_secreta + \"! Você ganhou!!\")\n",
        "            jogando = False\n",
        "\n",
        "        # verifica se o usuário perdeu o jogo\n",
        "        elif len(letras_erradas) == len(FORCAIMG) - 1:\n",
        "            clear_output(wait=True)\n",
        "            time.sleep(0.3)\n",
        "            print(\"Você excedeu o seu limite de palpites!\")\n",
        "            print(\n",
        "                \"Depois de \"\n",
        "                + str(len(letras_erradas))\n",
        "                + \" letras erradas e \"\n",
        "                + str(len(letras_acertadas)),\n",
        "                end=\" \",\n",
        "            )\n",
        "            print(\"palpites corretos, a palavra era \" + palavra_secreta + \".\")\n",
        "\n",
        "            jogando = False\n",
        "\n",
        "        # se o usuário terminar o jogo\n",
        "        if not jogando:\n",
        "            # pede para jogar novamente\n",
        "            time.sleep(0.3)\n",
        "            if jogar_novamente():\n",
        "                letras_erradas = list()\n",
        "                letras_acertadas = list()\n",
        "                jogando = True\n",
        "                palavra_secreta = gera_palavra_aleatoria(palavras).upper()\n",
        "\n",
        "\n",
        "def le_palavras() -> typing.List[str]:\n",
        "    \"\"\"\n",
        "    Le arquivo com palavras que podem ser utilizadas\n",
        "    como parte do jogo\n",
        "    \"\"\"\n",
        "    with open(\"palavras.txt\") as f:\n",
        "        return f.readlines()\n",
        "\n",
        "\n",
        "def gera_palavra_aleatoria(palavras: str) -> typing.List[str]:\n",
        "    \"\"\"\n",
        "    Função que retorna uma string a partir da\n",
        "    lista de palavras\n",
        "\n",
        "    :param palavras: lista com palavras que podem ser sorteadas\n",
        "    :return: palavra secreta do jogo\n",
        "    \"\"\"\n",
        "    return random.choice(palavras).replace(\"\\n\", \"\")\n",
        "\n",
        "\n",
        "def imprime_com_espacos(palavra: str) -> None:\n",
        "    \"\"\"\n",
        "    Recebe uma string palavra ou lista e imprime essa com\n",
        "    espaço entre suas letras ou strings\n",
        "\n",
        "    :param palavra: palavra secreta do jogo\n",
        "    \"\"\"\n",
        "    for letra in palavra:\n",
        "        print(letra, end=\" \")\n",
        "    print()\n",
        "\n",
        "\n",
        "def imprime_jogo(\n",
        "    letras_erradas: typing.List[str],\n",
        "    letras_acertadas: typing.List[str],\n",
        "    palavra_secreta: str,\n",
        ") -> None:\n",
        "    \"\"\"\n",
        "    Feito a partir da variável global que contem as imagens\n",
        "    do jogo em ASCII art, e támbem as letras chutadas de\n",
        "    maneira correta e as letras erradas e a palavra secreta\n",
        "\n",
        "    :param letras_erradas: lista de letras chutadas incorretamente\n",
        "    :param letras_acertadas: lista de letras chutadas corretamente\n",
        "    :param palavra_secreta: palavra secreta do jogo\n",
        "    \"\"\"\n",
        "    global FORCAIMG\n",
        "    print(FORCAIMG[len(letras_erradas)] + \"\\n\")\n",
        "\n",
        "    print(\"Letras Erradas:\", end=\" \")\n",
        "    imprime_com_espacos(letras_erradas)\n",
        "\n",
        "    vazio = \"_\" * len(palavra_secreta)\n",
        "    for i in range(len(palavra_secreta)):\n",
        "        if palavra_secreta[i] in letras_acertadas:\n",
        "            vazio = vazio[:i] + palavra_secreta[i] + vazio[i + 1 :]\n",
        "\n",
        "    imprime_com_espacos(vazio)\n",
        "\n",
        "\n",
        "def recebe_palpite(palpites_feitos: typing.List[str]) -> str:\n",
        "    \"\"\"\n",
        "    Função feita para garantir que o usuário coloque uma\n",
        "    entrada válida, ou seja, que seja uma única letra\n",
        "    que ele ainda não tenha chutado\n",
        "\n",
        "    :param palpites_feitos: lista de letras chutadas anteriormente\n",
        "    :return: nova letra chutada\n",
        "    \"\"\"\n",
        "    while True:\n",
        "        palpite = input(\"Advinhe uma letra.\\n\").upper()\n",
        "\n",
        "        if len(palpite) != 1:\n",
        "            print(\"Coloque uma única letra.\")\n",
        "        elif palpite in palpites_feitos:\n",
        "            print(\"Você já chutou esta letra. Escolha novamente.\")\n",
        "        elif not \"A\" <= palpite <= \"Z\":\n",
        "            print(\"Por favor escolha apenas letras.\")\n",
        "        else:\n",
        "            return palpite\n",
        "\n",
        "\n",
        "def jogar_novamente() -> bool:\n",
        "    \"\"\"\n",
        "    Função que pede para o usuário decidir se ele quer\n",
        "    jogar novamente e retorna um booleano representando\n",
        "    a resposta\n",
        "\n",
        "    :return: True se o jogador informou que deseja jogar novamente\n",
        "    \"\"\"\n",
        "    return input(\"Você quer jogar novamente? (sim ou nao)\\n\").upper().startswith(\"S\")\n",
        "\n",
        "\n",
        "def verifica_se_ganhou(\n",
        "    palavra_secreta: str, letras_acertadas: typing.List[str]\n",
        ") -> bool:\n",
        "    \"\"\"\n",
        "    Função que verifica se o usuário acertou todas as\n",
        "    letras da palavra secreta\n",
        "\n",
        "    :param palavra_secreta: palavra secreta do jogo\n",
        "    :param letras_acertadas: lista de letras chutadas corretamente\n",
        "    :return: booleano informando se o jogador ganhou o jogo\n",
        "    \"\"\"\n",
        "    return set(list(palavra_secreta)) == set(letras_acertadas)\n",
        "\n",
        "\n",
        "main()"
      ]
    },
    {
      "cell_type": "markdown",
      "metadata": {
        "id": "M0gVvvtYEsSy"
      },
      "source": [
        "---"
      ]
    }
  ],
  "metadata": {
    "colab": {
      "provenance": [],
      "toc_visible": true
    },
    "kernelspec": {
      "display_name": "Python 3 (ipykernel)",
      "language": "python",
      "name": "python3"
    },
    "language_info": {
      "codemirror_mode": {
        "name": "ipython",
        "version": 3
      },
      "file_extension": ".py",
      "mimetype": "text/x-python",
      "name": "python",
      "nbconvert_exporter": "python",
      "pygments_lexer": "ipython3",
      "version": "3.8.12"
    },
    "toc": {
      "base_numbering": 1,
      "nav_menu": {},
      "number_sections": true,
      "sideBar": true,
      "skip_h1_title": true,
      "title_cell": "Table of Contents",
      "title_sidebar": "Contents",
      "toc_cell": false,
      "toc_position": {
        "height": "calc(100% - 180px)",
        "left": "10px",
        "top": "150px",
        "width": "304.475px"
      },
      "toc_section_display": true,
      "toc_window_display": true
    },
    "varInspector": {
      "cols": {
        "lenName": 16,
        "lenType": 16,
        "lenVar": 40
      },
      "kernels_config": {
        "python": {
          "delete_cmd_postfix": "",
          "delete_cmd_prefix": "del ",
          "library": "var_list.py",
          "varRefreshCmd": "print(var_dic_list())"
        },
        "r": {
          "delete_cmd_postfix": ") ",
          "delete_cmd_prefix": "rm(",
          "library": "var_list.r",
          "varRefreshCmd": "cat(var_dic_list()) "
        }
      },
      "position": {
        "height": "260.85px",
        "left": "1166px",
        "right": "20px",
        "top": "120px",
        "width": "350px"
      },
      "types_to_exclude": [
        "module",
        "function",
        "builtin_function_or_method",
        "instance",
        "_Feature"
      ],
      "window_display": false
    }
  },
  "nbformat": 4,
  "nbformat_minor": 0
}