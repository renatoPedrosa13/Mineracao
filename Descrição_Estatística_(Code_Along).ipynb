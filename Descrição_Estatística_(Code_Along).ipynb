{
  "cells": [
    {
      "cell_type": "markdown",
      "id": "d2e7ce8c",
      "metadata": {
        "id": "d2e7ce8c"
      },
      "source": [
        "# Descrição Estatística"
      ]
    },
    {
      "cell_type": "markdown",
      "id": "076f77d3",
      "metadata": {
        "id": "076f77d3"
      },
      "source": [
        "**OBJETIVO**: O objetivo deste notebook é mostrar os príncipais métodos de manipulação de dados utilizando o pandas e numpy"
      ]
    },
    {
      "cell_type": "markdown",
      "id": "59ebcdd1",
      "metadata": {
        "id": "59ebcdd1"
      },
      "source": [
        "---"
      ]
    },
    {
      "cell_type": "markdown",
      "id": "78af0471",
      "metadata": {
        "id": "78af0471"
      },
      "source": [
        "## Cabeçalho"
      ]
    },
    {
      "cell_type": "markdown",
      "id": "669d67b4",
      "metadata": {
        "id": "669d67b4"
      },
      "source": [
        "Seleciona as bibliotecas que devem ser carregadas no jupyter"
      ]
    },
    {
      "cell_type": "code",
      "execution_count": null,
      "id": "0d02b64e",
      "metadata": {
        "ExecuteTime": {
          "end_time": "2022-05-26T03:48:01.054874Z",
          "start_time": "2022-05-26T03:48:00.640483Z"
        },
        "id": "0d02b64e"
      },
      "outputs": [],
      "source": [
        "import os\n",
        "import requests\n",
        "import zipfile\n",
        "\n",
        "import numpy as np\n",
        "import pandas as pd\n",
        "\n",
        "from io import BytesIO\n",
        "from pathlib import Path\n",
        "from pyarrow.lib import ArrowInvalid"
      ]
    },
    {
      "cell_type": "markdown",
      "id": "556de219",
      "metadata": {
        "id": "556de219"
      },
      "source": [
        "Configurações do Jupyter que devem ser aplicadas"
      ]
    },
    {
      "cell_type": "code",
      "execution_count": null,
      "id": "c451de28",
      "metadata": {
        "ExecuteTime": {
          "end_time": "2022-05-26T03:48:01.096761Z",
          "start_time": "2022-05-26T03:48:01.088783Z"
        },
        "id": "c451de28"
      },
      "outputs": [],
      "source": [
        "%config Completer.use_jedi = False\n",
        "\n",
        "# pode ser \"completo\" ou \"amostra\"\n",
        "TIPO_DADOS = \"completo\"\n",
        "\n",
        "# checa se o notebook está sendo executado no google colab\n",
        "GOOGLE_COLAB = \"google.colab\" in str(get_ipython())\n",
        "\n",
        "# monta a pasta com os conteúdos\n",
        "if GOOGLE_COLAB:\n",
        "    from google.colab import drive\n",
        "    drive.mount(\"/content/drive\")"
      ]
    },
    {
      "cell_type": "markdown",
      "id": "daeb5813",
      "metadata": {
        "id": "daeb5813"
      },
      "source": [
        "Configura os caminhos para diferentes dados"
      ]
    },
    {
      "cell_type": "code",
      "execution_count": null,
      "id": "e01da8a6",
      "metadata": {
        "ExecuteTime": {
          "end_time": "2022-05-26T03:48:01.764775Z",
          "start_time": "2022-05-26T03:48:01.759788Z"
        },
        "id": "e01da8a6"
      },
      "outputs": [],
      "source": [
        "# informa o caminho para a pasta de ciência de dados a partir do drive\n",
        "# você pode deixar isso como vazio se você não tiver adicionado a pasta\n",
        "CAMINHO_DRIVE = \"Ciência de Dados\"\n",
        "\n",
        "# links para os dados a serem baixados diretamente da Web\n",
        "LINKS_DADOS = {\n",
        "    \"amostra\": {\n",
        "        \"escola.parquet\": \"https://drive.google.com/uc?id=1i51S1GKVqc-_5KgWsfXDc3Fnkf1y700y&export=download\",\n",
        "        \"ideb.parquet\": \"https://drive.google.com/uc?id=1NXCGhtluNbd2Vccyof3Y-eaw1vHkvIAL&export=download\",\n",
        "        \"turma.parquet\": \"https://drive.google.com/uc?id=1ks0lsbU5GXI6sbZRG9f8zGdzZqDRK8SG&export=download\",\n",
        "        \"dm_escola.parquet\": \"https://drive.google.com/uc?id=1Wpw3r7s2mimwwi5MH3hj94qYKE_Yvkp1&export=download\"\n",
        "    },\n",
        "    \"completo\": {\n",
        "        \"escola.parquet\": \"https://drive.google.com/uc?id=1_at50Wh4JJz1jR-hhsqutVaUorN0M4IL&export=download\",\n",
        "        \"ideb.parquet\": \"https://drive.google.com/uc?id=183GP-MVohBC84NvHMLYcBQ4YRRCPHxYi&export=download\",\n",
        "        \"turma.parquet\": \"https://drive.google.com/uc?id=1OSrAB3oAAX-9NNWZ7dG0mcWFOIcjWUs8&export=download\",\n",
        "        \"dm_escola.parquet\": \"https://drive.google.com/uc?id=1Y2RGm678gVyi3na7l53fA9kAFe1r38fo&export=download\"\n",
        "    }\n",
        "}\n",
        "\n",
        "# Caminhos locais para pastas de dados\n",
        "vPATH_NOTEBOOK = Path(os.path.dirname(os.path.realpath(\"__file__\")))\n",
        "vPATH_DADOS = vPATH_NOTEBOOK.parent.parent / f\"dados/{TIPO_DADOS}\""
      ]
    },
    {
      "cell_type": "markdown",
      "id": "26883ff8",
      "metadata": {
        "id": "26883ff8"
      },
      "source": [
        "Define funções a serem usadas somente no Jupyter"
      ]
    },
    {
      "cell_type": "code",
      "execution_count": null,
      "id": "9eb9b166",
      "metadata": {
        "ExecuteTime": {
          "end_time": "2022-05-26T03:48:02.739856Z",
          "start_time": "2022-05-26T03:48:02.735893Z"
        },
        "id": "9eb9b166"
      },
      "outputs": [],
      "source": [
        "def carrega_parquet(nome: str, pasta: str, **kwargs) -> pd.DataFrame:\n",
        "    global GOOGLE_COLAB, CAMINHO_DRIVE, vPATH_DADOS, TIPO_DADOS\n",
        "    if GOOGLE_COLAB and CAMINHO_DRIVE != \"\":\n",
        "        return pd.read_parquet(f\"drive/MyDrive/{CAMINHO_DRIVE}/dados/{TIPO_DADOS}/{pasta}/{nome}.parquet\", **kwargs)\n",
        "    elif GOOGLE_COLAB or not os.path.exists(vPATH_DADOS / f\"{pasta}/{nome}.parquet\"):\n",
        "        return pd.read_parquet(LINKS_DADOS[TIPO_DADOS][f\"{nome}.parquet\"])\n",
        "    else:\n",
        "        try:\n",
        "            return pd.read_parquet(vPATH_DADOS / f\"{pasta}/{nome}.parquet\", **kwargs)\n",
        "        except ArrowInvalid:\n",
        "            return pd.read_parquet(LINKS_DADOS[TIPO_DADOS][f\"{nome}.parquet\"])"
      ]
    },
    {
      "cell_type": "markdown",
      "id": "68361207",
      "metadata": {
        "id": "68361207"
      },
      "source": [
        "Carrega as bases a serem utilizadas"
      ]
    },
    {
      "cell_type": "code",
      "execution_count": null,
      "id": "ace85d42",
      "metadata": {
        "ExecuteTime": {
          "end_time": "2022-05-26T03:48:10.132451Z",
          "start_time": "2022-05-26T03:48:03.473193Z"
        },
        "id": "ace85d42"
      },
      "outputs": [],
      "source": [
        "df = carrega_parquet(\"dm_escola\", \"datamart\", filters=[(\"ANO\", \"=\", 2020)])"
      ]
    },
    {
      "cell_type": "markdown",
      "id": "406b5099",
      "metadata": {
        "id": "406b5099"
      },
      "source": [
        "---"
      ]
    },
    {
      "cell_type": "markdown",
      "id": "0fb158fe",
      "metadata": {
        "id": "0fb158fe"
      },
      "source": [
        "## Medidas de Tendencia Central"
      ]
    },
    {
      "cell_type": "markdown",
      "id": "dbb6b62c",
      "metadata": {
        "id": "dbb6b62c"
      },
      "source": [
        "As medidas de têndencia central buscam descrever os dados com o objetivo de encontrar o comportamento mais comum do mesmo. Isto é, por exemplo, se nós selecionássemos uma escola aleatoriamente dos nossos dados quais seriam as características mais prováveis da mesma?"
      ]
    },
    {
      "cell_type": "markdown",
      "id": "9bc9cf4c",
      "metadata": {
        "id": "9bc9cf4c"
      },
      "source": [
        "Uma maneira de visualizar os dados de uma entidade por uma variável é por meio de um histograma, que mostrar a quantidade de pontos que estão dentro de uma faixa de valores. No exemplo abaixo nós vemos a quantidade de escolas para 10 faixas distintas de IDEB anos iniciais."
      ]
    },
    {
      "cell_type": "code",
      "execution_count": null,
      "id": "1300f10e",
      "metadata": {
        "id": "1300f10e"
      },
      "outputs": [],
      "source": []
    },
    {
      "cell_type": "markdown",
      "id": "6de142f4",
      "metadata": {
        "id": "6de142f4"
      },
      "source": [
        "### Média"
      ]
    },
    {
      "cell_type": "markdown",
      "id": "6322d58c",
      "metadata": {
        "id": "6322d58c"
      },
      "source": [
        "$\\overline{x} = \\frac{1}{n} \\sum_{i=1}^{n} x_{i}$"
      ]
    },
    {
      "cell_type": "code",
      "execution_count": null,
      "id": "5aea23c8",
      "metadata": {
        "id": "5aea23c8"
      },
      "outputs": [],
      "source": []
    },
    {
      "cell_type": "markdown",
      "id": "9be0497d",
      "metadata": {
        "id": "9be0497d"
      },
      "source": [
        "### Mediana"
      ]
    },
    {
      "cell_type": "markdown",
      "id": "f4c79004",
      "metadata": {
        "id": "f4c79004"
      },
      "source": [
        "$\n",
        "m\\left(x\\right)\n",
        "=\\begin{cases}\n",
        "  x_\\frac{n+1}{2}                                    & n\\text{ odd}\\\\\n",
        "  \\frac {1}{2}\\left(x_{\\frac{n}{2}} + x_{\\frac{n}{2} + 1}\\right) & n \\text{ even}\n",
        "\\end{cases}\n",
        "$"
      ]
    },
    {
      "cell_type": "markdown",
      "id": "1dcb2595",
      "metadata": {
        "ExecuteTime": {
          "end_time": "2022-05-24T12:59:35.188269Z",
          "start_time": "2022-05-24T12:59:35.113400Z"
        },
        "id": "1dcb2595"
      },
      "source": [
        "![title](https://www.varsitytutors.com/assets/vt-hotmath-legacy/hotmath_help/topics/interquartile/interquartile.gif)"
      ]
    },
    {
      "cell_type": "code",
      "execution_count": null,
      "id": "97c76eba",
      "metadata": {
        "id": "97c76eba"
      },
      "outputs": [],
      "source": []
    },
    {
      "cell_type": "markdown",
      "id": "5f271bfa",
      "metadata": {
        "id": "5f271bfa"
      },
      "source": [
        "### Moda"
      ]
    },
    {
      "cell_type": "code",
      "execution_count": null,
      "id": "3cd42c73",
      "metadata": {
        "id": "3cd42c73"
      },
      "outputs": [],
      "source": []
    },
    {
      "cell_type": "markdown",
      "id": "dd656b37",
      "metadata": {
        "id": "dd656b37"
      },
      "source": [
        "---"
      ]
    },
    {
      "cell_type": "markdown",
      "id": "8d246349",
      "metadata": {
        "id": "8d246349"
      },
      "source": [
        "## Medidas de Dispersão"
      ]
    },
    {
      "cell_type": "markdown",
      "id": "99276bc5",
      "metadata": {
        "id": "99276bc5"
      },
      "source": [
        "As medidas de dispersão buscam mapear a variação de valores dentro de uma distribuição, isto é, dado qual é o valor esperado de um determinado ponto, quanto dos nossos dados caem dentro de determinadas faixas de valores que divergem da medida de tendência central"
      ]
    },
    {
      "cell_type": "markdown",
      "id": "165a91e4",
      "metadata": {
        "id": "165a91e4"
      },
      "source": [
        "### Amplitude"
      ]
    },
    {
      "cell_type": "markdown",
      "id": "b15ce4a7",
      "metadata": {
        "id": "b15ce4a7"
      },
      "source": [
        "$A = MAX(x_i \\text{ for i in n}) - MIN(x_i \\text{ for i in n})$"
      ]
    },
    {
      "cell_type": "code",
      "execution_count": null,
      "id": "f98e049d",
      "metadata": {
        "id": "f98e049d"
      },
      "outputs": [],
      "source": []
    },
    {
      "cell_type": "markdown",
      "id": "ac7d6f1e",
      "metadata": {
        "id": "ac7d6f1e"
      },
      "source": [
        "### Variância"
      ]
    },
    {
      "cell_type": "markdown",
      "id": "686a4618",
      "metadata": {
        "id": "686a4618"
      },
      "source": [
        "$v = \\frac{1}{N-1} \\sum_{i=1}^N (x_i - \\overline{x})^2$"
      ]
    },
    {
      "cell_type": "code",
      "execution_count": null,
      "id": "0a84c72b",
      "metadata": {
        "id": "0a84c72b"
      },
      "outputs": [],
      "source": []
    },
    {
      "cell_type": "markdown",
      "id": "a6d9881e",
      "metadata": {
        "id": "a6d9881e"
      },
      "source": [
        "### Desvio-Padrão"
      ]
    },
    {
      "cell_type": "markdown",
      "id": "64b82cf4",
      "metadata": {
        "id": "64b82cf4"
      },
      "source": [
        "$s = \\sqrt{\\frac{1}{N-1} \\sum_{i=1}^N (x_i - \\overline{x})^2}$"
      ]
    },
    {
      "cell_type": "code",
      "execution_count": null,
      "id": "a3c974b7",
      "metadata": {
        "id": "a3c974b7"
      },
      "outputs": [],
      "source": []
    },
    {
      "cell_type": "markdown",
      "id": "0bf90591",
      "metadata": {
        "id": "0bf90591"
      },
      "source": [
        "### Percentil"
      ]
    },
    {
      "cell_type": "markdown",
      "id": "d423fb52",
      "metadata": {
        "id": "d423fb52"
      },
      "source": [
        "$P_i = \\frac{i}{100}(n + 1)^{th}$ term\n",
        "\n",
        "$Q_1 = \\frac{1}{4}(n + 1)^{th}$ term\n",
        "\n",
        "$Q_2 = \\frac{1}{2}(n + 1)^{th}$ term\n",
        "\n",
        "$Q_3 = \\frac{3}{4}(n + 1)^{th}$ term"
      ]
    },
    {
      "cell_type": "markdown",
      "id": "7c2a7d8d",
      "metadata": {
        "id": "7c2a7d8d"
      },
      "source": [
        "![title](https://www.mathsisfun.com/data/images/quartiles-a.svg)"
      ]
    },
    {
      "cell_type": "code",
      "execution_count": null,
      "id": "b102e6a8",
      "metadata": {
        "id": "b102e6a8"
      },
      "outputs": [],
      "source": []
    },
    {
      "cell_type": "markdown",
      "id": "24a20bbf",
      "metadata": {
        "id": "24a20bbf"
      },
      "source": [
        "### Distância inter-quartil"
      ]
    },
    {
      "cell_type": "markdown",
      "id": "7910d941",
      "metadata": {
        "id": "7910d941"
      },
      "source": [
        "![title](https://cdn1.byjus.com/wp-content/uploads/2021/03/interquartile-range.png)"
      ]
    },
    {
      "cell_type": "code",
      "execution_count": null,
      "id": "16c194b4",
      "metadata": {
        "id": "16c194b4"
      },
      "outputs": [],
      "source": []
    },
    {
      "cell_type": "markdown",
      "id": "89b1d396",
      "metadata": {
        "id": "89b1d396"
      },
      "source": [
        "---"
      ]
    },
    {
      "cell_type": "markdown",
      "id": "7f4a6219",
      "metadata": {
        "id": "7f4a6219"
      },
      "source": [
        "## Descrevendo os Dados"
      ]
    },
    {
      "cell_type": "markdown",
      "id": "17b72269",
      "metadata": {
        "id": "17b72269"
      },
      "source": [
        "Com as medidas de tendência central e dispersão nós podemos descrever as características de uma população tendo em vista as variáveis que as descrevem. Nós já vimos algumas maneiras de fazer isso."
      ]
    },
    {
      "cell_type": "markdown",
      "id": "b0fd5972",
      "metadata": {
        "id": "b0fd5972"
      },
      "source": [
        "A primeira é pelo describe, que nos permite tirar rapidamente métricas quanto a distribuição da variável"
      ]
    },
    {
      "cell_type": "code",
      "execution_count": null,
      "id": "370a8c14",
      "metadata": {
        "id": "370a8c14"
      },
      "outputs": [],
      "source": []
    },
    {
      "cell_type": "markdown",
      "id": "14b7f492",
      "metadata": {
        "id": "14b7f492"
      },
      "source": [
        "A segunda é a medida de histograma. Um histograma é uma espécie de gráfico de barras que demonstra uma distribuição de frequências. No histograma, a base de cada uma das barras representa uma classe e a altura representa a quantidade ou frequência absoluta com que o valor de cada classe ocorre. Ao mesmo tempo, ele pode ser utilizado como um indicador de dispersão de processos."
      ]
    },
    {
      "cell_type": "code",
      "execution_count": null,
      "id": "02cc19ca",
      "metadata": {
        "id": "02cc19ca"
      },
      "outputs": [],
      "source": []
    },
    {
      "cell_type": "markdown",
      "id": "27488fe6",
      "metadata": {
        "id": "27488fe6"
      },
      "source": [
        "É importante nós percebemos que geralmente a distribuição dos dados são modeladas por meio de distribuições. Uma distribuição representa a probabilidade de um ponto ter um valor determinado. Por exemplo, se eu selecionar uma escola aleatória e verificar seu IDEB, qual é a probabilidade de o valor está entre 5.9 e 6.1? Com base nessa informação nós podemos desenhar o gráfico.\n",
        "\n",
        "Em geral a distribuição mais comum que discutimos é a distribuição normal que tem características similares ao do IDEB, mas outras distribuições como binomial e exponencial (QT_DESKTOP_ALUNO) também são bastantes comuns. Nós entraremos em detalhes com relação a distribuições nas aulas de inferência."
      ]
    },
    {
      "cell_type": "markdown",
      "id": "b9b549f4",
      "metadata": {
        "id": "b9b549f4"
      },
      "source": [
        "![title](https://miro.medium.com/max/1200/1*IdGgdrY_n_9_YfkaCh-dag.png)"
      ]
    },
    {
      "cell_type": "markdown",
      "id": "a1960f3e",
      "metadata": {
        "id": "a1960f3e"
      },
      "source": [
        "A terceira é por meio de um gráfico de caixa. Este gráfico é um método utilizado para a análise exploratória de variáveis quantitativas ou ordinais. Ele é uma ferramenta capaz de fornecer diversas medidas estatísticas como mínimo, primeiro quartil, segundo quartil (mediana), terceiro quartil, o máximo e os possíveis outliers (valores discrepantes)."
      ]
    },
    {
      "cell_type": "markdown",
      "id": "faca4458",
      "metadata": {
        "id": "faca4458"
      },
      "source": [
        "![title](https://www.monolitonimbus.com.br/wp-content/uploads/2019/11/boxplot_horiz.png)"
      ]
    },
    {
      "cell_type": "code",
      "execution_count": null,
      "id": "e32a2029",
      "metadata": {
        "id": "e32a2029"
      },
      "outputs": [],
      "source": []
    },
    {
      "cell_type": "markdown",
      "id": "98fcacd8",
      "metadata": {
        "id": "98fcacd8"
      },
      "source": [
        "Com base nos gráficos acima, você deve imaginar que é razoavelmente simples de descrever quais são as faixas de valores esperadas para um determinada população + variável:"
      ]
    },
    {
      "cell_type": "code",
      "execution_count": null,
      "id": "51f5dc15",
      "metadata": {
        "id": "51f5dc15"
      },
      "outputs": [],
      "source": []
    },
    {
      "cell_type": "markdown",
      "id": "3453ac0d",
      "metadata": {
        "id": "3453ac0d"
      },
      "source": [
        "---"
      ]
    },
    {
      "cell_type": "markdown",
      "id": "9a164c2d",
      "metadata": {
        "id": "9a164c2d"
      },
      "source": [
        "## Medidas de Similaridade"
      ]
    },
    {
      "cell_type": "markdown",
      "id": "73681938",
      "metadata": {
        "id": "73681938"
      },
      "source": [
        "Tão importante quanto ser capaz de averiguar características de uma população ou variável é conseguir compara-la com outras populações ou variáveis, ou ser capaz de comparar individuos de uma população.\n",
        "\n",
        "Para este fim as medidas de similaridade (ou dissimilaridade) foram criadas. Elas buscam tomar as caracterícas de um indíviduo e calcular algum tipo de métrica que permita coloca-lo numa escala de comparação com outro indíviduo."
      ]
    },
    {
      "cell_type": "markdown",
      "id": "b7a3317b",
      "metadata": {
        "id": "b7a3317b"
      },
      "source": [
        "### Matriz de Dados"
      ]
    },
    {
      "cell_type": "markdown",
      "id": "aedc3f69",
      "metadata": {
        "id": "aedc3f69"
      },
      "source": [
        "A maneira mais comum de representar dados é através da matriz de dados. Nós já a vimos como arrays de numpy ou data frames de pandas, na qual cada linha representa uma entidade e cada coluna uma característica"
      ]
    },
    {
      "cell_type": "markdown",
      "id": "cfae22f7",
      "metadata": {
        "id": "cfae22f7"
      },
      "source": [
        "d variáveis\n",
        "\n",
        "n linhas de dados\n",
        "\n",
        "$\n",
        "\\begin{bmatrix}\n",
        "    x_{11} & x_{12} & x_{13} & \\dots  & x_{1n} \\\\\n",
        "    x_{21} & x_{22} & x_{23} & \\dots  & x_{2n} \\\\\n",
        "    \\vdots & \\vdots & \\vdots & \\ddots & \\vdots \\\\\n",
        "    x_{d1} & x_{d2} & x_{d3} & \\dots  & x_{dn}\n",
        "\\end{bmatrix}\n",
        "$"
      ]
    },
    {
      "cell_type": "code",
      "execution_count": null,
      "id": "3f94a716",
      "metadata": {
        "id": "3f94a716"
      },
      "outputs": [],
      "source": []
    },
    {
      "cell_type": "markdown",
      "id": "977b8d39",
      "metadata": {
        "id": "977b8d39"
      },
      "source": [
        "Essa representação matricial dos dados pode ser enxergada como uma posição num espaço de coordenadas cartesianas. As coordenadas cartesianas são pares ordenados do tipo P (x,y) que são representados no plano cartesiano, sendo P o ponto, x é o número real que é abscissa de P e y o número real que é a ordenada de P"
      ]
    },
    {
      "cell_type": "markdown",
      "id": "ecf253ec",
      "metadata": {
        "ExecuteTime": {
          "end_time": "2022-05-24T13:10:56.643954Z",
          "start_time": "2022-05-24T13:10:56.569015Z"
        },
        "id": "ecf253ec"
      },
      "source": [
        "![title](https://upload.wikimedia.org/wikipedia/commons/thumb/0/0e/Cartesian-coordinate-system.svg/1200px-Cartesian-coordinate-system.svg.png)"
      ]
    },
    {
      "cell_type": "code",
      "execution_count": null,
      "id": "52a92537",
      "metadata": {
        "id": "52a92537"
      },
      "outputs": [],
      "source": []
    },
    {
      "cell_type": "markdown",
      "id": "dfdd51c6",
      "metadata": {
        "id": "dfdd51c6"
      },
      "source": [
        "Apesar de nós geralmente pensarmos em coordenadas cartesianas como bi-dimensionais, nós também podemos fornecer coordenadas para pontos que sejam tridimensionais."
      ]
    },
    {
      "cell_type": "markdown",
      "id": "ce62b037",
      "metadata": {
        "id": "ce62b037"
      },
      "source": [
        "![title](https://upload.wikimedia.org/wikipedia/commons/1/15/Cartesian_coordinates_3D.svg)"
      ]
    },
    {
      "cell_type": "code",
      "execution_count": null,
      "id": "9a0777b7",
      "metadata": {
        "id": "9a0777b7"
      },
      "outputs": [],
      "source": []
    },
    {
      "cell_type": "markdown",
      "id": "f5a4a1c5",
      "metadata": {
        "id": "f5a4a1c5"
      },
      "source": [
        "Entretando, diferente de seres humanos, a algebra linear não se limita a 2D ou 3D. Desta forma uma matriz de dados pode ser considerada como um conjunto de entidades distribuídos num espaço N-dimensional, na qual N é o número de variáveis que caracterizam esta entidade"
      ]
    },
    {
      "cell_type": "markdown",
      "id": "252c1f99",
      "metadata": {
        "id": "252c1f99"
      },
      "source": [
        "![title](https://www.researchgate.net/profile/Mario-Ruiz-Estrada/publication/228300293/figure/fig3/AS:302050933002264@1449025962929/The-diamond-coordinate-space-with-infinite-axes_Q320.jpg)"
      ]
    },
    {
      "cell_type": "markdown",
      "id": "93e3d6cf",
      "metadata": {
        "id": "93e3d6cf"
      },
      "source": [
        "### Distâncias"
      ]
    },
    {
      "cell_type": "markdown",
      "id": "e9be223b",
      "metadata": {
        "id": "e9be223b"
      },
      "source": [
        "Quando nós estamos falando de um espaço 2D ou 3D nós sabemos que existe uma distância entre dois pontos. Isso é claro pra todos, por exemplo, quando queremos sair de casa pra ir até algum lugar nós sabemos qual é a distância entre esses lugares.\n",
        "\n",
        "Mas e quando estamos falando de uma entidade? Podemos calcular a distância entre entidade? A resposta é sim! Como uma entidade pode ser representada num espaço N-dimensional então é possível calcular a distância entre dois pontos.\n",
        "\n",
        "Desta forma a primeira medida de similaridade que nós podemos trabalhar é justamente a distância. Quanto mais próximas duas entidades no espaço mais similares elas são. Vamos agora ver diferentes métodos de cálculo de distância"
      ]
    },
    {
      "cell_type": "markdown",
      "id": "99b138cd",
      "metadata": {
        "id": "99b138cd"
      },
      "source": [
        "#### Distância Numérica"
      ]
    },
    {
      "cell_type": "markdown",
      "id": "8ff025b6",
      "metadata": {
        "id": "8ff025b6"
      },
      "source": [
        "**Distância Euclidiana**"
      ]
    },
    {
      "cell_type": "markdown",
      "id": "b63cca11",
      "metadata": {
        "id": "b63cca11"
      },
      "source": [
        "A mais popular das distâncias, e é aquela que usamos no dia a dia, calcula a menor distância que pode ser percorrida entre dois pontos"
      ]
    },
    {
      "cell_type": "markdown",
      "id": "b01e4153",
      "metadata": {
        "id": "b01e4153"
      },
      "source": [
        "$d\\left( p,q\\right)   = \\sqrt {\\sum _{i=1}^{n}  \\left(q_{i}-p_{i}\\right)^2}$"
      ]
    },
    {
      "cell_type": "markdown",
      "id": "c84eb7ff",
      "metadata": {
        "id": "c84eb7ff"
      },
      "source": [
        "![title](https://upload.wikimedia.org/wikipedia/commons/thumb/5/55/Euclidean_distance_2d.svg/1200px-Euclidean_distance_2d.svg.png)"
      ]
    },
    {
      "cell_type": "code",
      "execution_count": null,
      "id": "81f95818",
      "metadata": {
        "id": "81f95818"
      },
      "outputs": [],
      "source": []
    },
    {
      "cell_type": "markdown",
      "id": "7cf618ea",
      "metadata": {
        "id": "7cf618ea"
      },
      "source": [
        "**Distância de Manhattan**"
      ]
    },
    {
      "cell_type": "markdown",
      "id": "4a44b096",
      "metadata": {
        "id": "4a44b096"
      },
      "source": [
        "A distância de Manhattan assume que o deslocamento entre dois pontos deve ser feito em direções verticais e horizontais, de tal forma que para percorrer entre dois pontos em x,y nós temos primeiro que percorrer a distância entre os valores de x (ou y) e depois os valores de y (ou x)"
      ]
    },
    {
      "cell_type": "markdown",
      "id": "74f131ba",
      "metadata": {
        "id": "74f131ba"
      },
      "source": [
        "$d\\left( p,q\\right)   = \\sum _{i=1}^{n}  |q_{i}-p_{i}|$"
      ]
    },
    {
      "cell_type": "markdown",
      "id": "9e978df0",
      "metadata": {
        "id": "9e978df0"
      },
      "source": [
        "![title](https://ars.els-cdn.com/content/image/3-s2.0-B9780128038185000093-f09-18-9780128038185.jpg)"
      ]
    },
    {
      "cell_type": "code",
      "execution_count": null,
      "id": "96fd0076",
      "metadata": {
        "id": "96fd0076"
      },
      "outputs": [],
      "source": []
    },
    {
      "cell_type": "markdown",
      "id": "d55b4a53",
      "metadata": {
        "id": "d55b4a53"
      },
      "source": [
        "**Distância de Minkowski**"
      ]
    },
    {
      "cell_type": "markdown",
      "id": "d542fdae",
      "metadata": {
        "id": "d542fdae"
      },
      "source": [
        "A distância de Minkowski é a forma genérica dos principais cálculos de distância numérica, na qual nós adicionamos um fator q que corresponde ao expoente do calculo aplicado. É fácil ver que se q = 2 temos a distância euclidiana e se q = 1 temos a distância de Manhattan"
      ]
    },
    {
      "cell_type": "markdown",
      "id": "186bf2dc",
      "metadata": {
        "id": "186bf2dc"
      },
      "source": [
        "$d\\left(d_{1}, d_{2}\\right) = \\left(\\sum _{i=1}^{n} |d_{1i}-d_{2i}|^q\\right)^\\frac{1}{q}$"
      ]
    },
    {
      "cell_type": "markdown",
      "id": "bb1d4c17",
      "metadata": {
        "id": "bb1d4c17"
      },
      "source": [
        "![title](https://www.researchgate.net/profile/Tomasz-Wachowicz/publication/257567989/figure/fig1/AS:671537870929921@1537118513078/Single-criterion-rooted-Minkowski-distance-16-for-various-root-coefficients-q.png)"
      ]
    },
    {
      "cell_type": "code",
      "execution_count": null,
      "id": "8f73321f",
      "metadata": {
        "id": "8f73321f"
      },
      "outputs": [],
      "source": []
    },
    {
      "cell_type": "markdown",
      "id": "a41d814b",
      "metadata": {
        "id": "a41d814b"
      },
      "source": [
        "#### Distância entre Ordinais"
      ]
    },
    {
      "cell_type": "markdown",
      "id": "70478699",
      "metadata": {
        "id": "70478699"
      },
      "source": [
        "Variáveis ordinais são categorias que tem algum tipo de hierarquia numérica entre elas, por exemplo pequeno/médio/grande. No caso, para calcular a distância entre entidades nós atribuimos um valor numérico a cada valor (geralmente um rank) e depois normalizamos este com a diferença entre os valor máximos e mínimos possíveis (para um rank, isto é a apenas o número de valores)"
      ]
    },
    {
      "cell_type": "code",
      "execution_count": null,
      "id": "6044844b",
      "metadata": {
        "id": "6044844b"
      },
      "outputs": [],
      "source": []
    },
    {
      "cell_type": "markdown",
      "id": "7921af91",
      "metadata": {
        "id": "7921af91"
      },
      "source": [
        "#### Distância entre Binários"
      ]
    },
    {
      "cell_type": "markdown",
      "id": "755e3108",
      "metadata": {
        "id": "755e3108"
      },
      "source": [
        "Para calcular a distância entre dois pontos no espaço tendo em vista as variáveis binarias nós fazemos o \"match\" variável a variável e depois calculamos o % de matches obtidos"
      ]
    },
    {
      "cell_type": "markdown",
      "id": "d6898f9b",
      "metadata": {
        "id": "d6898f9b"
      },
      "source": [
        "$q = \\text{# binary variables where obj1 = obj2 = 1}$\n",
        "\n",
        "$r = \\text{# binary variables where obj1 = 1 and obj2 = 0}$\n",
        "\n",
        "$s = \\text{# binary variables where obj1 = 0 and obj2 = 1}$\n",
        "\n",
        "$t = \\text{# binary variables where obj1 = obj2 = 0}$\n",
        "\n",
        "$d(o_{1}, o_{2}) = \\frac{r + s}{q + r + s + t}$"
      ]
    },
    {
      "cell_type": "code",
      "execution_count": null,
      "id": "1c332983",
      "metadata": {
        "id": "1c332983"
      },
      "outputs": [],
      "source": []
    },
    {
      "cell_type": "markdown",
      "id": "a7eaaa02",
      "metadata": {
        "id": "a7eaaa02"
      },
      "source": [
        "#### Distância entre Nominais"
      ]
    },
    {
      "cell_type": "markdown",
      "id": "70c2708d",
      "metadata": {
        "id": "70c2708d"
      },
      "source": [
        "Variáveis nominais são aquelas que correspondem a categorias de valores. Para calcular a distância entre dois pontos no espaço tendo em vista as variáveis nominais nós fazemos o \"match\" variável a variável e depois calculamos o % de matches obtidos"
      ]
    },
    {
      "cell_type": "markdown",
      "id": "21552124",
      "metadata": {
        "id": "21552124"
      },
      "source": [
        "$d(p, q)   = \\frac{\\text{n} - \\text{m}}{\\text{n}}$"
      ]
    },
    {
      "cell_type": "code",
      "execution_count": null,
      "id": "dc8ecaab",
      "metadata": {
        "id": "dc8ecaab"
      },
      "outputs": [],
      "source": []
    },
    {
      "cell_type": "markdown",
      "id": "ee129696",
      "metadata": {
        "id": "ee129696"
      },
      "source": [
        "#### Distância entre Strings"
      ]
    },
    {
      "cell_type": "markdown",
      "id": "3e543ea1",
      "metadata": {
        "id": "3e543ea1"
      },
      "source": [
        "A distância entre strings corresponde a uma evolução dos cálculos de distância entre variáveis categóricas, na qual nós teremos que verificar algumas características dos textos apresentados para entender como podemos dizer que eles são distintos"
      ]
    },
    {
      "cell_type": "code",
      "execution_count": null,
      "id": "7b780b38",
      "metadata": {
        "id": "7b780b38"
      },
      "outputs": [],
      "source": []
    },
    {
      "cell_type": "markdown",
      "id": "a92f3552",
      "metadata": {
        "id": "a92f3552"
      },
      "source": [
        "**Distância de Hamming**"
      ]
    },
    {
      "cell_type": "markdown",
      "id": "8d88b94b",
      "metadata": {
        "id": "8d88b94b"
      },
      "source": [
        "A distância de Hamming entre duas strings de igual comprimento é o número de posições nas quais os símbolos correspondentes são diferentes."
      ]
    },
    {
      "cell_type": "code",
      "execution_count": null,
      "id": "8a3c446a",
      "metadata": {
        "id": "8a3c446a"
      },
      "outputs": [],
      "source": []
    },
    {
      "cell_type": "markdown",
      "id": "9cb6cb1a",
      "metadata": {
        "id": "9cb6cb1a"
      },
      "source": [
        "**Distância de Levenshtein**"
      ]
    },
    {
      "cell_type": "markdown",
      "id": "e18f7588",
      "metadata": {
        "id": "e18f7588"
      },
      "source": [
        "É o número mínimo de edições de um caractere (inserções, exclusões ou substituições) necessárias para mudar uma palavra para outra."
      ]
    },
    {
      "cell_type": "code",
      "execution_count": null,
      "id": "1784e6d1",
      "metadata": {
        "id": "1784e6d1"
      },
      "outputs": [],
      "source": []
    },
    {
      "cell_type": "markdown",
      "id": "b32b8071",
      "metadata": {
        "id": "b32b8071"
      },
      "source": [
        "**Distância de Damerau–Levenshtein**"
      ]
    },
    {
      "cell_type": "markdown",
      "id": "061c3bf2",
      "metadata": {
        "id": "061c3bf2"
      },
      "source": [
        "É o número mínimo de operações (que consiste em inserções, exclusões ou substituições de um único caractere, ou transposição de dois caracteres adjacentes) necessárias para mudar uma palavra para outra"
      ]
    },
    {
      "cell_type": "code",
      "execution_count": null,
      "id": "24f6f427",
      "metadata": {
        "id": "24f6f427"
      },
      "outputs": [],
      "source": []
    },
    {
      "cell_type": "markdown",
      "id": "c44f1e46",
      "metadata": {
        "id": "c44f1e46"
      },
      "source": [
        "**Maior sequência comum**"
      ]
    },
    {
      "cell_type": "markdown",
      "id": "65e5aec9",
      "metadata": {
        "id": "65e5aec9"
      },
      "source": [
        "Você receberá duas strings/padrões/sequências de objetos. Entre essas duas sequências/strings, você precisa encontrar a maior subsequência de elementos na mesma ordem presentes em ambas as strings ou padrões."
      ]
    },
    {
      "cell_type": "code",
      "execution_count": null,
      "id": "97c93a67",
      "metadata": {
        "id": "97c93a67"
      },
      "outputs": [],
      "source": []
    },
    {
      "cell_type": "markdown",
      "id": "dd3b7f0f",
      "metadata": {
        "id": "dd3b7f0f"
      },
      "source": [
        "**Distância de Jaro–Winkler**"
      ]
    },
    {
      "cell_type": "markdown",
      "id": "97239b4f",
      "metadata": {
        "id": "97239b4f"
      },
      "source": [
        "O algoritmo Jaro é uma medida de caracteres em comum, sendo não mais que a metade do comprimento da string mais longa em distância, com consideração para transposições. Winkler modificou esse algoritmo para apoiar a ideia de que as diferenças próximas ao início da string são mais significativas do que as diferenças próximas ao final da string. Jaro e Jaro-Winkler são adequados para comparar strings menores, como palavras e nomes."
      ]
    },
    {
      "cell_type": "code",
      "execution_count": null,
      "id": "35f79461",
      "metadata": {
        "id": "35f79461"
      },
      "outputs": [],
      "source": []
    },
    {
      "cell_type": "markdown",
      "id": "91051fd4",
      "metadata": {
        "id": "91051fd4"
      },
      "source": [
        "**Comparação das métricas**"
      ]
    },
    {
      "cell_type": "markdown",
      "id": "47bdb2e9",
      "metadata": {
        "id": "47bdb2e9"
      },
      "source": [
        "- Hamming: Permite substituição\n",
        "- Levenshtein: Permite deleção, inserção e substituição\n",
        "- Damerau–Levenshtein: Permite deleção, inserção, substituição e transposição de adjacentes\n",
        "- Maior sequência comum: Permite inserção e deleção\n",
        "- Jaro–Winkler: Apenas transposição"
      ]
    },
    {
      "cell_type": "code",
      "execution_count": null,
      "id": "489f27fa",
      "metadata": {
        "id": "489f27fa"
      },
      "outputs": [],
      "source": []
    },
    {
      "cell_type": "markdown",
      "id": "30c353bb",
      "metadata": {
        "id": "30c353bb"
      },
      "source": [
        "#### Distância de Atributos Mistos"
      ]
    },
    {
      "cell_type": "markdown",
      "id": "34f7ea81",
      "metadata": {
        "id": "34f7ea81"
      },
      "source": [
        "Na maioria dos problemas nós teremos uma combinação entre variáveis numéricas e categóricas. Desta forma, é interessantes sermos capazes de calcular o valor das distâncias normalizando para todo o tipo possível de variável, conforme a fórmula abaixo."
      ]
    },
    {
      "cell_type": "markdown",
      "id": "65819c44",
      "metadata": {
        "id": "65819c44"
      },
      "source": [
        "$d\\left(i, j\\right) = \\frac{\\sum_{f=1}^{p} \\delta_{ij}^{(f)}d_{ij}^{(f)}}{\\sum_{f=1}^{p}  \\delta_{ij}^{(f)}}$\n",
        "\n",
        "$\\delta_{ij}^{(f)} = 0$ Se uma das variáveis $x_{if}$ ou $x_{jf}$ está sem dado\n",
        "\n",
        "$\\delta_{ij}^{(f)} = 0$ Se $x_{if} = x_{jf} = 0$ e é um dado binário assimétrico\n",
        "\n",
        "$\\delta_{ij}^{(f)} = 1$ Para todos os outros casos\n",
        "\n",
        "- Se f é numérico: $d_{ij}^{(f)} = \\frac{|x_{if} - x_{jf}|}{max_{h}x_{hf} - min_{h}x_{hf}}$ (h -> para todos os pontos)\n",
        "- Se f é nominal ou binário: $d_{ij}^{(f)} = 0$ se $x_{if} = x_{jf}$, caso contrário $d_{ij}^{(f)} = 1$\n",
        "- Se f é ordinal: Pegue os ranks $r_{if}$ e calcule o valor $z_{if} = \\frac{r_{if} - 1}{M_{f} - 1}$ e trabalhe a variável como numérica"
      ]
    },
    {
      "cell_type": "code",
      "execution_count": null,
      "id": "28c609de",
      "metadata": {
        "id": "28c609de"
      },
      "outputs": [],
      "source": []
    },
    {
      "cell_type": "markdown",
      "id": "1175e897",
      "metadata": {
        "id": "1175e897"
      },
      "source": [
        "### Matriz de Dissimilaridade"
      ]
    },
    {
      "cell_type": "markdown",
      "id": "e7a020b0",
      "metadata": {
        "id": "e7a020b0"
      },
      "source": [
        "$\n",
        "\\begin{bmatrix}\n",
        "    0 & d(1, 2) & d(1, 3) & \\dots  & d(1, n) \\\\\n",
        "    d(2, 1) & 0 & d(2, 3) & \\dots  & d(2, n) \\\\\n",
        "    d(3, 1) & d(3, 2) & 0 & \\dots  & d(3, n) \\\\\n",
        "    \\vdots & \\vdots & \\vdots & \\ddots & \\vdots \\\\\n",
        "    d(n, 1) & d(n, 2) & d(n, 3) & \\dots  & 0\n",
        "\\end{bmatrix}\n",
        "$"
      ]
    },
    {
      "cell_type": "markdown",
      "id": "34454137",
      "metadata": {
        "id": "34454137"
      },
      "source": [
        "Essa estrutura armazena uma coleção de distâncias que estão disponíveis para todos os pares de n objetos. Muitas vezes é representado por um tabela n por n"
      ]
    },
    {
      "cell_type": "markdown",
      "id": "3dbfbdc5",
      "metadata": {
        "id": "3dbfbdc5"
      },
      "source": [
        "### Similaridade de Cosseno"
      ]
    },
    {
      "cell_type": "markdown",
      "id": "ba43d4c1",
      "metadata": {
        "id": "ba43d4c1"
      },
      "source": [
        "$\\cos ({\\bf t},{\\bf e})= {{\\bf t} \\cdot {\\bf e} \\over \\|{\\bf t}\\| \\|{\\bf e}\\|} = \\frac{ \\sum_{i=1}^{n}{{\\bf t}_i{\\bf e}_i} }{ \\sqrt{\\sum_{i=1}^{n}{({\\bf t}_i)^2}} \\sqrt{\\sum_{i=1}^{n}{({\\bf e}_i)^2}} }$"
      ]
    },
    {
      "cell_type": "code",
      "execution_count": null,
      "id": "9ca519fe",
      "metadata": {
        "id": "9ca519fe"
      },
      "outputs": [],
      "source": []
    },
    {
      "cell_type": "markdown",
      "id": "db1b1d33",
      "metadata": {
        "id": "db1b1d33"
      },
      "source": [
        "---"
      ]
    },
    {
      "cell_type": "markdown",
      "id": "c65a1445",
      "metadata": {
        "id": "c65a1445"
      },
      "source": [
        "## Medidas de Relacionamento"
      ]
    },
    {
      "cell_type": "markdown",
      "id": "fe3d6890",
      "metadata": {
        "id": "fe3d6890"
      },
      "source": [
        "As medidas de relacionamento buscam inferir quanto uma variável muda em relação a outra, e são formas simples de medir se duas variáveis estão relacionadas de alguma forma"
      ]
    },
    {
      "cell_type": "markdown",
      "id": "6483016a",
      "metadata": {
        "id": "6483016a"
      },
      "source": [
        "### Covariância"
      ]
    },
    {
      "cell_type": "markdown",
      "id": "7fb9753a",
      "metadata": {
        "id": "7fb9753a"
      },
      "source": [
        "$cov_{x,y}=\\frac{\\sum_{i=1}^{N}(x_{i}-\\bar{x})(y_{i}-\\bar{y})}{N-1}$"
      ]
    },
    {
      "cell_type": "markdown",
      "id": "7a2e8339",
      "metadata": {
        "id": "7a2e8339"
      },
      "source": [
        "A covariância corresponde a média das diferenças entre o valor da variável e o seu valor médio. Se o valor de 1 for maior que a média e o valor de 2 também for maior que a média, então o produto será positivo, caso contrário, será negativo. Dessa forma a soma desses produtos nos permite inferir como eles variam entre si."
      ]
    },
    {
      "cell_type": "code",
      "execution_count": null,
      "id": "c549769b",
      "metadata": {
        "id": "c549769b"
      },
      "outputs": [],
      "source": []
    },
    {
      "cell_type": "markdown",
      "id": "f6b09194",
      "metadata": {
        "id": "f6b09194"
      },
      "source": [
        "### Correlação Numérica"
      ]
    },
    {
      "cell_type": "markdown",
      "id": "ddbe0dc3",
      "metadata": {
        "id": "ddbe0dc3"
      },
      "source": [
        "$r =\n",
        "  \\frac{ \\sum_{i=1}^{n}(x_i-\\bar{x})(y_i-\\bar{y}) }{%\n",
        "        \\sqrt{\\sum_{i=1}^{n}(x_i-\\bar{x})^2}\\sqrt{\\sum_{i=1}^{n}(y_i-\\bar{y})^2}}$"
      ]
    },
    {
      "cell_type": "markdown",
      "id": "cb96558d",
      "metadata": {
        "id": "cb96558d"
      },
      "source": [
        "A correlação, por outro lado, é como se fosse a \"covariância normalizada\", isto é, é um valor cujo divisor vai permitir que o resultado sempre esteja entre -1 e 1. Desta forma fica mais fácil entender se duas variáveis estão relacionadas."
      ]
    },
    {
      "cell_type": "code",
      "execution_count": null,
      "id": "47e4ed0f",
      "metadata": {
        "id": "47e4ed0f"
      },
      "outputs": [],
      "source": []
    },
    {
      "cell_type": "markdown",
      "id": "9b8418b1",
      "metadata": {
        "id": "9b8418b1"
      },
      "source": [
        "### Correlação Outros Tipos"
      ]
    },
    {
      "cell_type": "markdown",
      "id": "95472675",
      "metadata": {
        "id": "95472675"
      },
      "source": [
        "A correlação entre outros tipos de variáveis também pode ser feita. Entretanto, esse cálculo requer fazer um teste de hipótese contra um distribuição. Então, neste primeiro momento, nós pularemos esse cálculo e depois de falar sobre testes e distribuições mostraremos como gera-lo."
      ]
    },
    {
      "cell_type": "markdown",
      "id": "7dc9baf2",
      "metadata": {
        "id": "7dc9baf2"
      },
      "source": [
        "---"
      ]
    },
    {
      "cell_type": "markdown",
      "id": "38cbef19",
      "metadata": {
        "id": "38cbef19"
      },
      "source": [
        "## Exemplos"
      ]
    },
    {
      "cell_type": "markdown",
      "id": "1f933fc8",
      "metadata": {
        "id": "1f933fc8"
      },
      "source": [
        "### Agrupamentos"
      ]
    },
    {
      "cell_type": "markdown",
      "id": "3b6480f9",
      "metadata": {
        "id": "3b6480f9"
      },
      "source": [
        "Na maioria dos casos nós vamos fazer avaliações descritivas dos dados extraíndo métricas estatísticas não apenas nos dados completos mais em sub-grupos dos dados. Isso nos ajuda a entender como diferentes segmentos da minha população se comportam dado uma variável de interesse"
      ]
    },
    {
      "cell_type": "code",
      "execution_count": null,
      "id": "ab46a214",
      "metadata": {
        "id": "ab46a214"
      },
      "outputs": [],
      "source": []
    },
    {
      "cell_type": "markdown",
      "id": "d0cfae51",
      "metadata": {
        "id": "d0cfae51"
      },
      "source": [
        "### Análise de Correlação"
      ]
    },
    {
      "cell_type": "markdown",
      "id": "ecc7070a",
      "metadata": {
        "id": "ecc7070a"
      },
      "source": [
        "Uma das primeiras avaliações que nós podemos fazer é avaliar quais são as variáveis que mais influenciam a nota do IDEB. Uma maneira simples de fazer isso é pegar as variáveis de maior correlação"
      ]
    },
    {
      "cell_type": "code",
      "execution_count": null,
      "id": "29f6dbf0",
      "metadata": {
        "id": "29f6dbf0"
      },
      "outputs": [],
      "source": []
    },
    {
      "cell_type": "markdown",
      "id": "2804ec5f",
      "metadata": {
        "id": "2804ec5f"
      },
      "source": [
        "### Análise de degrau"
      ]
    },
    {
      "cell_type": "markdown",
      "id": "567738a2",
      "metadata": {
        "id": "567738a2"
      },
      "source": [
        "A análise de correlação funciona bem para variáveis numéricas, entretanto para variáveis categóricas e binárias isso é um pouco diferente. No caso de variáveis binárias uma maneira eficiente de avaliar as mesmas correlações que o que foi mostrado acima é por meio de uma análise de degrau, na qual nós calculamos as diferenças da média/mediana da variável alvo dado o binário 0 para o 1"
      ]
    },
    {
      "cell_type": "code",
      "execution_count": null,
      "id": "e2eae56c",
      "metadata": {
        "id": "e2eae56c"
      },
      "outputs": [],
      "source": []
    },
    {
      "cell_type": "markdown",
      "id": "2b177ff2",
      "metadata": {
        "id": "2b177ff2"
      },
      "source": [
        "### Analise de Similares"
      ]
    },
    {
      "cell_type": "markdown",
      "id": "4338dc06",
      "metadata": {
        "id": "4338dc06"
      },
      "source": [
        "Vamos supor que você trabalhe para o estado do Amazonas e você quer entender quais escolas não estão performando como deveriam.\n",
        "\n",
        "A primeira pergunta que você pode fazer é: Como eu sei como uma escola deveria estar performando? Uma das maneiras de fazer isso é por meio de uma análise de similaridade.\n",
        "\n",
        "Por exemplo, suponhamos que você crie um grupo que são as TOP 1% de escolas com maior nota de IDEB. Fazendo uma escolha de variáveis você pode calcular a distância entre as demais escolas e essas escolas e avaliar as escolas mais \"próximas\" para determinar que essas estão sub-aproveitando seu IDEB"
      ]
    },
    {
      "cell_type": "code",
      "execution_count": null,
      "id": "32343ef2",
      "metadata": {
        "id": "32343ef2"
      },
      "outputs": [],
      "source": []
    }
  ],
  "metadata": {
    "hide_input": false,
    "kernelspec": {
      "display_name": "Python 3 (ipykernel)",
      "language": "python",
      "name": "python3"
    },
    "language_info": {
      "codemirror_mode": {
        "name": "ipython",
        "version": 3
      },
      "file_extension": ".py",
      "mimetype": "text/x-python",
      "name": "python",
      "nbconvert_exporter": "python",
      "pygments_lexer": "ipython3",
      "version": "3.9.7"
    },
    "toc": {
      "base_numbering": 1,
      "nav_menu": {},
      "number_sections": true,
      "sideBar": true,
      "skip_h1_title": true,
      "title_cell": "Table of Contents",
      "title_sidebar": "Contents",
      "toc_cell": false,
      "toc_position": {
        "height": "calc(100% - 180px)",
        "left": "10px",
        "top": "150px",
        "width": "268px"
      },
      "toc_section_display": true,
      "toc_window_display": true
    },
    "varInspector": {
      "cols": {
        "lenName": 16,
        "lenType": 16,
        "lenVar": 40
      },
      "kernels_config": {
        "python": {
          "delete_cmd_postfix": "",
          "delete_cmd_prefix": "del ",
          "library": "var_list.py",
          "varRefreshCmd": "print(var_dic_list())"
        },
        "r": {
          "delete_cmd_postfix": ") ",
          "delete_cmd_prefix": "rm(",
          "library": "var_list.r",
          "varRefreshCmd": "cat(var_dic_list()) "
        }
      },
      "types_to_exclude": [
        "module",
        "function",
        "builtin_function_or_method",
        "instance",
        "_Feature"
      ],
      "window_display": false
    },
    "colab": {
      "provenance": []
    }
  },
  "nbformat": 4,
  "nbformat_minor": 5
}